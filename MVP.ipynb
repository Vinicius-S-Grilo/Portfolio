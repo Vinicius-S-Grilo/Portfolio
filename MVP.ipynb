{
  "nbformat": 4,
  "nbformat_minor": 0,
  "metadata": {
    "colab": {
      "provenance": [],
      "include_colab_link": true
    },
    "kernelspec": {
      "name": "python3",
      "display_name": "Python 3"
    },
    "language_info": {
      "name": "python"
    }
  },
  "cells": [
    {
      "cell_type": "markdown",
      "metadata": {
        "id": "view-in-github",
        "colab_type": "text"
      },
      "source": [
        "<a href=\"https://colab.research.google.com/github/Vinicius-S-Grilo/Portfolio/blob/main/MVP.ipynb\" target=\"_parent\"><img src=\"https://colab.research.google.com/assets/colab-badge.svg\" alt=\"Open In Colab\"/></a>"
      ]
    },
    {
      "cell_type": "markdown",
      "source": [
        "# **A - Machine Learning**"
      ],
      "metadata": {
        "id": "NKD8lPEwsYaG"
      }
    },
    {
      "cell_type": "markdown",
      "source": [
        "**Definição do problema**\n",
        "\n",
        "O dataset escolhido aborda um problema de classificação. Trata-se de uma instituição de ensino superior que deseja avaliar se um aluno irá concluir ou desistir do curso baseado em uma série de atributos como curso, performace academica, fatores socio-econômicos entre outros.\n",
        "\n",
        "mais informações a respeito do dataset pode ser encontrada em https://archive.ics.uci.edu/dataset/697/predict+students+dropout+and+academic+success\n",
        "\n",
        "Há três categorias possíveis: *dropout*, *enrolled* e *graduate*\n",
        "\n",
        "O dataset já foi previamente preprocessado para remoção de missing values e outliers."
      ],
      "metadata": {
        "id": "J93X1Edfr9s1"
      }
    },
    {
      "cell_type": "code",
      "execution_count": null,
      "metadata": {
        "id": "3_Hp84F0r9CX"
      },
      "outputs": [],
      "source": [
        "#importando as bibliotecas a serem utilizadas\n",
        "import warnings\n",
        "warnings.filterwarnings(\"ignore\")\n",
        "import pandas as pd\n",
        "import requests\n",
        "from bs4 import BeautifulSoup\n",
        "import numpy as np\n",
        "import matplotlib.pyplot as plt\n",
        "from sklearn.model_selection import train_test_split\n",
        "from sklearn.model_selection import KFold\n",
        "from sklearn.model_selection import cross_val_score\n",
        "from sklearn.neighbors import KNeighborsClassifier\n",
        "from sklearn.linear_model import LogisticRegression\n",
        "from sklearn.tree import DecisionTreeClassifier\n",
        "from sklearn.naive_bayes import GaussianNB\n",
        "from sklearn.svm import SVC\n",
        "from sklearn.feature_selection import SelectKBest\n",
        "from sklearn.feature_selection import f_classif\n",
        "from sklearn.feature_selection import RFE\n",
        "from sklearn.ensemble import ExtraTreesClassifier\n",
        "from sklearn.model_selection import GridSearchCV\n",
        "from sklearn.metrics import accuracy_score"
      ]
    },
    {
      "cell_type": "markdown",
      "source": [
        "**Preparação dos dados**\n",
        "\n",
        "Como os dados já vieram pre processados, não há necessidade de utilizar técnicas de pre processamento para tratamento de missing values ou remoção de outliers.\n",
        "\n",
        "Nesta etapa, será feito o carregamento do dataset, separação entre treino/teste, parametrização pra validação cruzada, criação e comparação dos modelos."
      ],
      "metadata": {
        "id": "BBAyGC8CvjqV"
      }
    },
    {
      "cell_type": "code",
      "source": [
        "#Carregando o dataset\n",
        "dataset = pd.read_csv(r\"/content/data.csv\", sep=';')"
      ],
      "metadata": {
        "id": "DgdRUmErvjWe"
      },
      "execution_count": null,
      "outputs": []
    },
    {
      "cell_type": "code",
      "source": [
        "#Tratando os dados para treinamento do modelo\n",
        "np.random.seed(10)\n",
        "\n",
        "#separação dos atributos e da categoria\n",
        "X = np.array(dataset.iloc[:,:-1].copy())\n",
        "y = np.array(dataset.iloc[:,-1].copy())\n",
        "\n",
        "#separação teste/treino\n",
        "X_train, X_test, y_train, y_test = train_test_split(X,y, test_size=0.2, random_state=10)\n",
        "\n",
        "#Parâmetros para validação cruzada\n",
        "n_part = 10\n",
        "kfold = KFold(n_splits=n_part,shuffle=True, random_state=10)\n",
        "\n",
        "#Criação e preparação dos modelos e seus resultados\n",
        "models = []\n",
        "results = []\n",
        "names = []\n",
        "\n",
        "models.append((\"KNN\",KNeighborsClassifier()))\n",
        "models.append(('LR', LogisticRegression(max_iter=200)))\n",
        "models.append((\"CART\",DecisionTreeClassifier()))\n",
        "models.append((\"NB\",GaussianNB()))\n",
        "models.append((\"SVC\",SVC()))\n",
        "\n",
        "for name,model in models:\n",
        "    cv_results = cross_val_score(model,X_train,y_train,cv=kfold,scoring='accuracy')\n",
        "    results.append(cv_results)\n",
        "    names.append(name)\n",
        "    msg = f\"{name}: {cv_results.mean()} ({cv_results.std()})\"\n",
        "    print(msg)\n"
      ],
      "metadata": {
        "colab": {
          "base_uri": "https://localhost:8080/"
        },
        "id": "HxhD0sVKr-q8",
        "outputId": "b5067201-43d4-4ae2-dd35-b9ddfb1bc160"
      },
      "execution_count": null,
      "outputs": [
        {
          "output_type": "stream",
          "name": "stdout",
          "text": [
            "KNN: 0.5936788783790271 (0.027958817701309913)\n",
            "LR: 0.6953793953361822 (0.025023645819575304)\n",
            "CART: 0.6801323602375122 (0.01516551542951282)\n",
            "NB: 0.6869056193082697 (0.029678089117343605)\n",
            "SVC: 0.5035194699188554 (0.02250900968881935)\n"
          ]
        }
      ]
    },
    {
      "cell_type": "code",
      "source": [
        "#Boxplot para comparar a precisão dos modelos\n",
        "fig = plt.figure()\n",
        "fig.suptitle('Comparação dos Modelos')\n",
        "ax = fig.add_subplot(111)\n",
        "plt.boxplot(results)\n",
        "ax.set_xticklabels(names)\n",
        "plt.show()"
      ],
      "metadata": {
        "colab": {
          "base_uri": "https://localhost:8080/",
          "height": 478
        },
        "id": "Ki7RXlTnvjTO",
        "outputId": "b89d91a2-9dd2-43a5-91b8-51de052af332"
      },
      "execution_count": null,
      "outputs": [
        {
          "output_type": "display_data",
          "data": {
            "text/plain": [
              "<Figure size 640x480 with 1 Axes>"
            ],
            "image/png": "[encoded data removed]"
          },
          "metadata": {}
        }
      ]
    },
    {
      "cell_type": "code",
      "source": [
        "#Testando a precisão dos modelos com o dado teste\n",
        "best_models_list = [\"NB\",\"CART\",\"LR\"]\n",
        "\n",
        "for i in models:\n",
        "  if i[0] in best_models_list:\n",
        "    model = i[1]\n",
        "    model.fit(X_train,y_train)\n",
        "    predictions = model.predict(X_test)\n",
        "    print(f\"Precisão de {i[0]}: {accuracy_score(y_test,predictions):.2%} \")\n"
      ],
      "metadata": {
        "colab": {
          "base_uri": "https://localhost:8080/"
        },
        "id": "j9kHz_XVvjZr",
        "outputId": "f4966dfa-964a-4d08-e13d-435a148ed5aa"
      },
      "execution_count": null,
      "outputs": [
        {
          "output_type": "stream",
          "name": "stdout",
          "text": [
            "Precisão de LR: 66.89% \n",
            "Precisão de CART: 68.14% \n",
            "Precisão de NB: 64.29% \n"
          ]
        }
      ]
    },
    {
      "cell_type": "markdown",
      "source": [
        "Com base no plot acima, é possível perceber que o modelo com maior precisão é o de Regressão Logística (LR), seguido do Naive Bayes e da Árvore de Decisão. Como não há diferença estatística significativa entre os três modelos, vou seguir com eles para testar uma abordagem de feature selection e avaliar se a precisão dos modelos melhora."
      ],
      "metadata": {
        "id": "hLgr2SjfWOWT"
      }
    },
    {
      "cell_type": "code",
      "source": [
        "#Testando feature selection pra otimizar modelo\n",
        "#números de features a serem escolhidos\n",
        "n = 15\n",
        "\n",
        "print(\"Atributos Originais:\\n\", dataset.columns[0:36])\n",
        "print(\"\\n\\n##Iniciando os testes com feature selection##\\n\\n\")\n",
        "\n",
        "#teste ANOVA de Seleção Univariada\n",
        "best_var = SelectKBest(score_func=f_classif, k=n)\n",
        "\n",
        "fit = best_var.fit(X,y)\n",
        "\n",
        "features=fit.transform(X)\n",
        "\n",
        "#Print dos resultados\n",
        "print(\"Resultados do ANOVA - seleção univariada\\n\")\n",
        "print(f\"Atributos originais: {X.shape[1]}\")\n",
        "print(f\"Atributos reduzidos: {features.shape[1]}\")\n",
        "\n",
        "print(\"Scores dos Atributos Originais:\", fit.scores_)\n",
        "print(\"\\nAtributos Selecionados:\", best_var.get_feature_names_out(input_features=dataset.columns[0:36]))\n",
        "\n",
        "red_features_f = best_var.get_feature_names_out(input_features=dataset.columns[0:36])\n",
        "\n",
        "\n",
        "# Eliminação Recursiva de Atributos\n",
        "\n",
        "# Criação do modelo\n",
        "modelo = LogisticRegression(max_iter=200)\n",
        "\n",
        "# Eliminação Recursiva de Atributos\n",
        "rfe = RFE(modelo, n_features_to_select=n)\n",
        "fit = rfe.fit(X, y)\n",
        "\n",
        "# Print dos resultados\n",
        "\n",
        "print(\"\\nResultados da Eliminação recursiva de atributos\\n\")\n",
        "\n",
        "\n",
        "# Exibe os atributos selecionados (marcados como True em \"Atributos Selecionados\"\n",
        "# e com valor 1 em \"Ranking dos Atributos\")\n",
        "print(\"\\nAtributos Selecionados: %s\" % fit.support_)\n",
        "print(\"\\nRanking de atributos: %s\" % fit.ranking_)\n",
        "print(\"\\nQtd de melhores Atributos: %d\" % fit.n_features_)\n",
        "print(\"\\nNomes dos Atributos Selecionados: %s\" % fit.get_feature_names_out(input_features=dataset.columns[0:36]))\n",
        "red_features_RFE = fit.get_feature_names_out(input_features=dataset.columns[0:36])\n",
        "\n",
        "# Importância de Atributos com ExtraTrees\n",
        "# Criação do modelo para seleção de atributos\n",
        "modelo = ExtraTreesClassifier(n_estimators=100)\n",
        "modelo.fit(X,y)\n",
        "\n",
        "\n",
        "# Exibe a pontuação de importância para cada atributo (quanto maior a pontuação, mais importante é o atributo).\n",
        "print(\"\\nResultados da Importância de atributos com ExtraTrees\\n\")\n",
        "print(modelo.feature_importances_)\n",
        "ipt=modelo.feature_importances_\n",
        "red_features_ExT = dataset.columns[0:36][ipt.argsort()[-n:]]\n",
        "print(f\"\\nAtributos selecionados {red_features_ExT}\\n\")\n",
        "\n",
        "\n",
        "\n",
        "\n",
        "\n",
        "\n",
        "\n"
      ],
      "metadata": {
        "colab": {
          "base_uri": "https://localhost:8080/"
        },
        "id": "5hQYY4foZD7l",
        "outputId": "10b6ada2-fde1-4bda-bc0b-59036f581144"
      },
      "execution_count": null,
      "outputs": [
        {
          "output_type": "stream",
          "name": "stdout",
          "text": [
            "Atributos Originais:\n",
            " Index(['Marital status', 'Application mode', 'Application order', 'Course',\n",
            "       'Daytime/evening attendance\\t', 'Previous qualification',\n",
            "       'Previous qualification (grade)', 'Nacionality',\n",
            "       'Mother's qualification', 'Father's qualification',\n",
            "       'Mother's occupation', 'Father's occupation', 'Admission grade',\n",
            "       'Displaced', 'Educational special needs', 'Debtor',\n",
            "       'Tuition fees up to date', 'Gender', 'Scholarship holder',\n",
            "       'Age at enrollment', 'International',\n",
            "       'Curricular units 1st sem (credited)',\n",
            "       'Curricular units 1st sem (enrolled)',\n",
            "       'Curricular units 1st sem (evaluations)',\n",
            "       'Curricular units 1st sem (approved)',\n",
            "       'Curricular units 1st sem (grade)',\n",
            "       'Curricular units 1st sem (without evaluations)',\n",
            "       'Curricular units 2nd sem (credited)',\n",
            "       'Curricular units 2nd sem (enrolled)',\n",
            "       'Curricular units 2nd sem (evaluations)',\n",
            "       'Curricular units 2nd sem (approved)',\n",
            "       'Curricular units 2nd sem (grade)',\n",
            "       'Curricular units 2nd sem (without evaluations)', 'Unemployment rate',\n",
            "       'Inflation rate', 'GDP'],\n",
            "      dtype='object')\n",
            "\n",
            "\n",
            "##Iniciando os testes com feature selection##\n",
            "\n",
            "\n",
            "Resultados do ANOVA - seleção univariada\n",
            "\n",
            "Atributos originais: 36\n",
            "Atributos reduzidos: 15\n",
            "Scores dos Atributos Originais: [1.98322547e+01 1.14534956e+02 1.97271735e+01 2.67098420e+00\n",
            " 1.44541234e+01 7.00452632e+00 2.77285887e+01 8.36236161e-01\n",
            " 1.28227118e+01 3.83846897e+00 9.83835323e+00 8.96760754e+00\n",
            " 3.56486043e+01 2.92392262e+01 3.20854067e-01 1.37647527e+02\n",
            " 5.05621429e+02 1.23041811e+02 2.25751437e+02 1.54712071e+02\n",
            " 6.39709437e-01 7.97935543e+00 5.94673906e+01 3.75278398e+01\n",
            " 8.59866768e+02 7.13517328e+02 1.14373188e+01 9.97454175e+00\n",
            " 7.55919097e+01 8.78010921e+01 1.41073294e+03 1.13410954e+03\n",
            " 2.01855306e+01 5.92251334e+00 1.74198979e+00 4.79900900e+00]\n",
            "\n",
            "Atributos Selecionados: ['Application mode' 'Admission grade' 'Debtor' 'Tuition fees up to date'\n",
            " 'Gender' 'Scholarship holder' 'Age at enrollment'\n",
            " 'Curricular units 1st sem (enrolled)'\n",
            " 'Curricular units 1st sem (evaluations)'\n",
            " 'Curricular units 1st sem (approved)' 'Curricular units 1st sem (grade)'\n",
            " 'Curricular units 2nd sem (enrolled)'\n",
            " 'Curricular units 2nd sem (evaluations)'\n",
            " 'Curricular units 2nd sem (approved)' 'Curricular units 2nd sem (grade)']\n",
            "\n",
            "Resultados da Eliminação recursiva de atributos\n",
            "\n",
            "\n",
            "Atributos Selecionados: [ True False False False False False False False False False False False\n",
            " False  True False  True  True  True  True False False  True  True False\n",
            "  True False  True  True  True  True  True False  True False False False]\n",
            "\n",
            "Ranking de atributos: [ 1 14  4 20  9 11 19 16 12 17 13 15 18  1 22  1  1  1  1  6 21  1  1  7\n",
            "  1  3  1  1  1  1  1  2  1  5  8 10]\n",
            "\n",
            "Qtd de melhores Atributos: 15\n",
            "\n",
            "Nomes dos Atributos Selecionados: ['Marital status' 'Displaced' 'Debtor' 'Tuition fees up to date' 'Gender'\n",
            " 'Scholarship holder' 'Curricular units 1st sem (credited)'\n",
            " 'Curricular units 1st sem (enrolled)'\n",
            " 'Curricular units 1st sem (approved)'\n",
            " 'Curricular units 1st sem (without evaluations)'\n",
            " 'Curricular units 2nd sem (credited)'\n",
            " 'Curricular units 2nd sem (enrolled)'\n",
            " 'Curricular units 2nd sem (evaluations)'\n",
            " 'Curricular units 2nd sem (approved)'\n",
            " 'Curricular units 2nd sem (without evaluations)']\n",
            "\n",
            "Resultados da Importância de atributos com ExtraTrees\n",
            "\n",
            "[0.00669028 0.02687209 0.01865594 0.03039313 0.00579814 0.00868275\n",
            " 0.0281222  0.00289561 0.02499149 0.02422197 0.02593104 0.02672597\n",
            " 0.02829952 0.0157334  0.00210934 0.01751143 0.06017905 0.01887889\n",
            " 0.02896408 0.03003251 0.00283752 0.00862091 0.02276082 0.03439109\n",
            " 0.07092034 0.06842929 0.00845647 0.00755955 0.02297627 0.03622981\n",
            " 0.10294763 0.10373826 0.00766761 0.0236937  0.02322995 0.02385195]\n",
            "\n",
            "Atributos selecionados Index(['Mother's occupation', 'Father's occupation', 'Application mode',\n",
            "       'Previous qualification (grade)', 'Admission grade',\n",
            "       'Scholarship holder', 'Age at enrollment', 'Course',\n",
            "       'Curricular units 1st sem (evaluations)',\n",
            "       'Curricular units 2nd sem (evaluations)', 'Tuition fees up to date',\n",
            "       'Curricular units 1st sem (grade)',\n",
            "       'Curricular units 1st sem (approved)',\n",
            "       'Curricular units 2nd sem (approved)',\n",
            "       'Curricular units 2nd sem (grade)'],\n",
            "      dtype='object')\n",
            "\n"
          ]
        }
      ]
    },
    {
      "cell_type": "code",
      "source": [
        "#Mostrando os top 15 atributos selcionados de acordo com as técnicas de feature selection\n",
        "\n",
        "print(f\"ANOVA - {red_features_f}\\n\")\n",
        "print(f\"RFE - {red_features_RFE}\\n\")\n",
        "print(f\"ExtraTrees - {red_features_ExT}\")"
      ],
      "metadata": {
        "colab": {
          "base_uri": "https://localhost:8080/"
        },
        "id": "av2q3Vo3ZDkI",
        "outputId": "23c713f3-bfaf-46c5-e20f-9a1182008701"
      },
      "execution_count": null,
      "outputs": [
        {
          "output_type": "stream",
          "name": "stdout",
          "text": [
            "ANOVA - ['Application mode' 'Admission grade' 'Debtor' 'Tuition fees up to date'\n",
            " 'Gender' 'Scholarship holder' 'Age at enrollment'\n",
            " 'Curricular units 1st sem (enrolled)'\n",
            " 'Curricular units 1st sem (evaluations)'\n",
            " 'Curricular units 1st sem (approved)' 'Curricular units 1st sem (grade)'\n",
            " 'Curricular units 2nd sem (enrolled)'\n",
            " 'Curricular units 2nd sem (evaluations)'\n",
            " 'Curricular units 2nd sem (approved)' 'Curricular units 2nd sem (grade)']\n",
            "\n",
            "RFE - ['Marital status' 'Displaced' 'Debtor' 'Tuition fees up to date' 'Gender'\n",
            " 'Scholarship holder' 'Curricular units 1st sem (credited)'\n",
            " 'Curricular units 1st sem (enrolled)'\n",
            " 'Curricular units 1st sem (approved)'\n",
            " 'Curricular units 1st sem (without evaluations)'\n",
            " 'Curricular units 2nd sem (credited)'\n",
            " 'Curricular units 2nd sem (enrolled)'\n",
            " 'Curricular units 2nd sem (evaluations)'\n",
            " 'Curricular units 2nd sem (approved)'\n",
            " 'Curricular units 2nd sem (without evaluations)']\n",
            "\n",
            "ExtraTrees - Index(['Mother's occupation', 'Father's occupation', 'Application mode',\n",
            "       'Previous qualification (grade)', 'Admission grade',\n",
            "       'Scholarship holder', 'Age at enrollment', 'Course',\n",
            "       'Curricular units 1st sem (evaluations)',\n",
            "       'Curricular units 2nd sem (evaluations)', 'Tuition fees up to date',\n",
            "       'Curricular units 1st sem (grade)',\n",
            "       'Curricular units 1st sem (approved)',\n",
            "       'Curricular units 2nd sem (approved)',\n",
            "       'Curricular units 2nd sem (grade)'],\n",
            "      dtype='object')\n"
          ]
        }
      ]
    },
    {
      "cell_type": "code",
      "source": [
        "#Retreinando o modelo com inputs reduzidos de acordo com cada técnica\n",
        "\n",
        "X_anova = np.array(dataset.loc[:,red_features_f].copy())\n",
        "X_rfe = np.array(dataset.loc[:,red_features_RFE].copy())\n",
        "X_ExT = np.array(dataset.loc[:,red_features_ExT].copy())\n",
        "\n",
        "feat_red_tecs = [(\"ANOVA\",X_anova),\n",
        "                (\"RFE\", X_rfe),\n",
        "                (\"ExT\",X_ExT)]\n",
        "\n",
        "new_results = []\n",
        "names = []\n",
        "\n",
        "for name,model in models:\n",
        "  for i in feat_red_tecs:\n",
        "    if name in best_models_list:\n",
        "      print(f\"{i[0]} training\")\n",
        "      #new splits\n",
        "      X_train, X_test, y_train, y_test = train_test_split(i[1],y, test_size=0.2, random_state=10)\n",
        "      cv_results = cross_val_score(model,X_train,y_train,cv=kfold,scoring='accuracy')\n",
        "      new_results.append(cv_results)\n",
        "      names.append(name+\"-\"+i[0])\n",
        "\n",
        "      msg = f\"{name}-{i[0]}: {cv_results.mean()} ({cv_results.std()})\"\n",
        "      print(msg)\n",
        "fig = plt.figure()\n",
        "fig.suptitle(f'Comparação dos Modelos com Feature Reduction')\n",
        "ax = fig.add_subplot(111)\n",
        "plt.boxplot(new_results)\n",
        "ax.set_xticklabels(names, rotation = 45)\n",
        "plt.show()\n"
      ],
      "metadata": {
        "colab": {
          "base_uri": "https://localhost:8080/",
          "height": 848
        },
        "id": "mV7Hu7sDkqUf",
        "outputId": "c9f3b414-dc82-470e-e9c7-51a38f4879c1"
      },
      "execution_count": null,
      "outputs": [
        {
          "output_type": "stream",
          "name": "stdout",
          "text": [
            "ANOVA training\n",
            "LR-ANOVA: 0.7651886173396714 (0.014581238931198266)\n",
            "RFE training\n",
            "LR-RFE: 0.7674437028856773 (0.01766379139362151)\n",
            "ExT training\n",
            "LR-ExT: 0.7015972855748147 (0.025887845917512583)\n",
            "ANOVA training\n",
            "CART-ANOVA: 0.6747707303020117 (0.022876279745073468)\n",
            "RFE training\n",
            "CART-RFE: 0.7069645172132328 (0.029204952134647258)\n",
            "ExT training\n",
            "CART-ExT: 0.6789984155183176 (0.02623187833464461)\n",
            "ANOVA training\n",
            "NB-ANOVA: 0.7216641859125174 (0.021644211414913423)\n",
            "RFE training\n",
            "NB-RFE: 0.6897384804980715 (0.02215459519516164)\n",
            "ExT training\n",
            "NB-ExT: 0.7052808053648308 (0.019001207582004985)\n"
          ]
        },
        {
          "output_type": "display_data",
          "data": {
            "text/plain": [
              "<Figure size 640x480 with 1 Axes>"
            ],
            "image/png": "[encoded data removed]"
          },
          "metadata": {}
        }
      ]
    },
    {
      "cell_type": "code",
      "source": [
        "#Testando a precisão dos modelos retreinados\n",
        "predict_results = {}\n",
        "\n",
        "for name,model in models:\n",
        "  for i in feat_red_tecs:\n",
        "    if name in best_models_list:\n",
        "      model = model\n",
        "      X_train, X_test, y_train, y_test = train_test_split(i[1],y, test_size=0.2, random_state=10)\n",
        "      model.fit(X_train,y_train)\n",
        "      predictions = model.predict(X_test)\n",
        "      print(f\"Precisão de {name}-{i[0]}: {accuracy_score(y_test,predictions):.2%} \")\n",
        "      predict_results[f\"{name}-{i[0]}\"]=accuracy_score(y_test,predictions)\n"
      ],
      "metadata": {
        "colab": {
          "base_uri": "https://localhost:8080/"
        },
        "id": "r1iDSc9SkqeB",
        "outputId": "a5d26f81-222a-4e38-b4ff-3e3cf66608be"
      },
      "execution_count": null,
      "outputs": [
        {
          "output_type": "stream",
          "name": "stdout",
          "text": [
            "Precisão de LR-ANOVA: 74.35% \n",
            "Precisão de LR-RFE: 72.66% \n",
            "Precisão de LR-ExT: 66.89% \n",
            "Precisão de CART-ANOVA: 66.78% \n",
            "Precisão de CART-RFE: 72.09% \n",
            "Precisão de CART-ExT: 64.86% \n",
            "Precisão de NB-ANOVA: 69.15% \n",
            "Precisão de NB-RFE: 65.88% \n",
            "Precisão de NB-ExT: 67.57% \n"
          ]
        }
      ]
    },
    {
      "cell_type": "code",
      "source": [
        "#Relembrando as precisões originais\n",
        "for name,model in models:\n",
        "  if name in best_models_list:\n",
        "    model = model\n",
        "    X_train, X_test, y_train, y_test = train_test_split(X,y, test_size=0.2, random_state=10)\n",
        "    model.fit(X_train,y_train)\n",
        "    predictions = model.predict(X_test)\n",
        "    print(f\"Precisão de {name}: {accuracy_score(y_test,predictions):.2%} \")\n",
        "    predict_results[f\"{name}\"]=accuracy_score(y_test,predictions)"
      ],
      "metadata": {
        "colab": {
          "base_uri": "https://localhost:8080/"
        },
        "id": "cUVQezfQkqff",
        "outputId": "330c9708-6430-4d5c-d169-d723f618c48b"
      },
      "execution_count": null,
      "outputs": [
        {
          "output_type": "stream",
          "name": "stdout",
          "text": [
            "Precisão de LR: 66.89% \n",
            "Precisão de CART: 68.47% \n",
            "Precisão de NB: 64.29% \n"
          ]
        }
      ]
    },
    {
      "cell_type": "code",
      "source": [
        "for i in predict_results.keys():\n",
        "  if \"LR-\" in i:\n",
        "    print(f\"{i} - {predict_results[i]/predict_results['LR']-1:.2%}\")\n",
        "  elif \"CART-\" in i:\n",
        "    print(f\"{i} - {predict_results[i]/predict_results['LR']-1:.2%}\")\n",
        "  elif \"NB-\" in i:\n",
        "    print(f\"{i} - {predict_results[i]/predict_results['NB']-1:.2%}\")"
      ],
      "metadata": {
        "colab": {
          "base_uri": "https://localhost:8080/"
        },
        "id": "EfIAGsOcsCK6",
        "outputId": "0900384a-6d54-4967-9785-7ab389e9704b"
      },
      "execution_count": null,
      "outputs": [
        {
          "output_type": "stream",
          "name": "stdout",
          "text": [
            "LR-ANOVA - 11.15%\n",
            "LR-RFE - 8.61%\n",
            "LR-ExT - 0.00%\n",
            "CART-ANOVA - -0.17%\n",
            "CART-RFE - 7.77%\n",
            "CART-ExT - -3.04%\n",
            "NB-ANOVA - 7.56%\n",
            "NB-RFE - 2.46%\n",
            "NB-ExT - 5.10%\n"
          ]
        }
      ]
    },
    {
      "cell_type": "markdown",
      "source": [
        "Por essa análise, foi possível observar que reduzindo o número de atributos foi possível aumentar a precisão da maioria dos modelos quando comparado com o resultado utilizando todos os atributos. Porém, pra alguns modelos como no CART, houve uma piora quando aplicada as técnicas de ANOVA e da Extra Tree.\n"
      ],
      "metadata": {
        "id": "7iprgK4_vkTk"
      }
    },
    {
      "cell_type": "markdown",
      "source": [
        "Ainda buscando otimizar esses três modelos, é possível testar diferentes hiperparâmetros com o GridSearchCV.\n"
      ],
      "metadata": {
        "id": "26Dnd-jrvkV4"
      }
    },
    {
      "cell_type": "markdown",
      "source": [
        "Para isso, verifica-se quais os parâmetros existentes de cada modelo, para então propor possíveis alterações e avaliar o impacto delas na precisão do mesmo."
      ],
      "metadata": {
        "id": "5PEzrTKJ1g8t"
      }
    },
    {
      "cell_type": "code",
      "source": [
        "LogisticRegression().get_params()"
      ],
      "metadata": {
        "colab": {
          "base_uri": "https://localhost:8080/"
        },
        "id": "MNUTIEt0pPVP",
        "outputId": "24798742-58b1-497f-ecf9-7a1f2bfa3b1b"
      },
      "execution_count": null,
      "outputs": [
        {
          "output_type": "execute_result",
          "data": {
            "text/plain": [
              "{'C': 1.0,\n",
              " 'class_weight': None,\n",
              " 'dual': False,\n",
              " 'fit_intercept': True,\n",
              " 'intercept_scaling': 1,\n",
              " 'l1_ratio': None,\n",
              " 'max_iter': 100,\n",
              " 'multi_class': 'auto',\n",
              " 'n_jobs': None,\n",
              " 'penalty': 'l2',\n",
              " 'random_state': None,\n",
              " 'solver': 'lbfgs',\n",
              " 'tol': 0.0001,\n",
              " 'verbose': 0,\n",
              " 'warm_start': False}"
            ]
          },
          "metadata": {},
          "execution_count": 83
        }
      ]
    },
    {
      "cell_type": "code",
      "source": [
        "GaussianNB().get_params()"
      ],
      "metadata": {
        "colab": {
          "base_uri": "https://localhost:8080/"
        },
        "id": "ctr-3x7KpQcX",
        "outputId": "88c9b4e0-ebb6-49c5-de46-090a6f351cd8"
      },
      "execution_count": null,
      "outputs": [
        {
          "output_type": "execute_result",
          "data": {
            "text/plain": [
              "{'priors': None, 'var_smoothing': 1e-09}"
            ]
          },
          "metadata": {},
          "execution_count": 84
        }
      ]
    },
    {
      "cell_type": "code",
      "source": [
        "DecisionTreeClassifier().get_params()"
      ],
      "metadata": {
        "colab": {
          "base_uri": "https://localhost:8080/"
        },
        "id": "2-MC60PcpQUi",
        "outputId": "2ac87c90-fe6b-472c-bdf9-69e3e3e94adf"
      },
      "execution_count": null,
      "outputs": [
        {
          "output_type": "execute_result",
          "data": {
            "text/plain": [
              "{'ccp_alpha': 0.0,\n",
              " 'class_weight': None,\n",
              " 'criterion': 'gini',\n",
              " 'max_depth': None,\n",
              " 'max_features': None,\n",
              " 'max_leaf_nodes': None,\n",
              " 'min_impurity_decrease': 0.0,\n",
              " 'min_samples_leaf': 1,\n",
              " 'min_samples_split': 2,\n",
              " 'min_weight_fraction_leaf': 0.0,\n",
              " 'random_state': None,\n",
              " 'splitter': 'best'}"
            ]
          },
          "metadata": {},
          "execution_count": 85
        }
      ]
    },
    {
      "cell_type": "code",
      "source": [
        "#Definindo os parâmetros a serem testados nos modelos com o GridSearchCV\n",
        "CART_param_grid = {'criterion':['gini','entropy'],\n",
        "                 'max_features': [6,10,15,18],\n",
        "                 'splitter':['best','random'],\n",
        "                 'max_depth':[2,10,50,100]\n",
        "}\n",
        "\n",
        "LR_param_grid = {'C': [1.0],\n",
        "                'class_weight': [None,'balanced'],\n",
        "                'max_iter': [200,300,400],\n",
        "                'n_jobs': [-1],\n",
        "                'penalty': ['l2'],\n",
        "                'solver': ['lbfgs','newton-cg','liblinear']\n",
        "}\n",
        "\n",
        "NB_param_grid = {'var_smoothing': [1e-5, 1e-6, 1e-7, 1e-8, 1e-9, 1e-10, 1e-11, 1e-12]}\n"
      ],
      "metadata": {
        "id": "Y-j_rPoUpQM4"
      },
      "execution_count": null,
      "outputs": []
    },
    {
      "cell_type": "code",
      "source": [
        "top_3_models = list(zip(best_models_list,(GaussianNB(),DecisionTreeClassifier(),LogisticRegression()),(NB_param_grid,CART_param_grid,LR_param_grid)))"
      ],
      "metadata": {
        "id": "oYUeTil10hui"
      },
      "execution_count": null,
      "outputs": []
    },
    {
      "cell_type": "code",
      "source": [
        "#Buscando pelos melhores parâmetros\n",
        "\n",
        "X_train, X_test, y_train, y_test = train_test_split(X,y, test_size=0.2, random_state=10) #Por razões práticas, redefi o train/test split de novo nesta célula\n",
        "\n",
        "for name,model,params in top_3_models:\n",
        "  print(f\"Testing {name} parameters\")\n",
        "  grid = GridSearchCV(estimator=model,param_grid=params,scoring='accuracy',cv=kfold,n_jobs=-1)\n",
        "  grid.fit(X_train,y_train)\n",
        "  print(f\"{name} - Melhor: {grid.best_score_} usando os seguintes parametros {grid.best_params_}\")\n",
        "  predictions = grid.predict(X_test)\n",
        "  print(f\"Precisão de {name}: {accuracy_score(y_test,predictions):.2%} \")"
      ],
      "metadata": {
        "colab": {
          "base_uri": "https://localhost:8080/"
        },
        "id": "K5Q8Mzqp0hpi",
        "outputId": "4eb44644-d684-4170-d823-f63e0bbdf6f7"
      },
      "execution_count": null,
      "outputs": [
        {
          "output_type": "stream",
          "name": "stdout",
          "text": [
            "Testing NB parameters\n",
            "NB - Melhor: 0.6973567964661257 usando os seguintes parametros {'var_smoothing': 1e-08}\n",
            "Precisão de NB: 66.89% \n",
            "Testing CART parameters\n",
            "CART - Melhor: 0.7284486483891104 usando os seguintes parametros {'criterion': 'gini', 'max_depth': 10, 'max_features': 18, 'splitter': 'best'}\n",
            "Precisão de CART: 69.94% \n",
            "Testing LR parameters\n",
            "LR - Melhor: 0.7713977049022903 usando os seguintes parametros {'C': 1.0, 'class_weight': None, 'max_iter': 200, 'n_jobs': -1, 'penalty': 'l2', 'solver': 'liblinear'}\n",
            "Precisão de LR: 73.45% \n"
          ]
        }
      ]
    },
    {
      "cell_type": "code",
      "source": [
        "#Testando o GridSearch com o feature selection\n",
        "for i in feat_red_tecs:\n",
        "  print(f\"\\nCombinando input reduizo via {i[0]}\\n\")\n",
        "  X_train, X_test, y_train, y_test = train_test_split(i[1],y, test_size=0.2, random_state=10)\n",
        "  for name,model,params in top_3_models:\n",
        "    print(f\"Testing {name} parameters\")\n",
        "    grid = GridSearchCV(estimator=model,param_grid=params,scoring='accuracy',cv=kfold,n_jobs=-1)\n",
        "    grid.fit(X_train,y_train)\n",
        "    print(f\"{name} - Melhor: {grid.best_score_} usando os seguintes parametros {grid.best_params_}\")\n",
        "    predictions = grid.predict(X_test)\n",
        "    print(f\"Precisão de {name}: {accuracy_score(y_test,predictions):.2%} \")"
      ],
      "metadata": {
        "colab": {
          "base_uri": "https://localhost:8080/"
        },
        "id": "6buy5dU90hlv",
        "outputId": "1951fa79-07cc-4ad7-e53c-4884e91c81ee"
      },
      "execution_count": null,
      "outputs": [
        {
          "output_type": "stream",
          "name": "stdout",
          "text": [
            "\n",
            "Combinando input reduizo via ANOVA\n",
            "\n",
            "Testing NB parameters\n",
            "NB - Melhor: 0.7242081592804213 usando os seguintes parametros {'var_smoothing': 1e-05}\n",
            "Precisão de NB: 69.38% \n",
            "Testing CART parameters\n",
            "CART - Melhor: 0.7397560858500983 usando os seguintes parametros {'criterion': 'gini', 'max_depth': 10, 'max_features': 18, 'splitter': 'random'}\n",
            "Precisão de CART: 72.54% \n",
            "Testing LR parameters\n",
            "LR - Melhor: 0.7702725628591092 usando os seguintes parametros {'C': 1.0, 'class_weight': None, 'max_iter': 300, 'n_jobs': -1, 'penalty': 'l2', 'solver': 'lbfgs'}\n",
            "Precisão de LR: 73.45% \n",
            "\n",
            "Combinando input reduizo via RFE\n",
            "\n",
            "Testing NB parameters\n",
            "NB - Melhor: 0.6897384804980715 usando os seguintes parametros {'var_smoothing': 1e-07}\n",
            "Precisão de NB: 65.88% \n",
            "Testing CART parameters\n",
            "CART - Melhor: 0.7437076871368896 usando os seguintes parametros {'criterion': 'gini', 'max_depth': 10, 'max_features': 6, 'splitter': 'best'}\n",
            "Precisão de CART: 72.66% \n",
            "Testing LR parameters\n",
            "LR - Melhor: 0.7674437028856773 usando os seguintes parametros {'C': 1.0, 'class_weight': None, 'max_iter': 200, 'n_jobs': -1, 'penalty': 'l2', 'solver': 'lbfgs'}\n",
            "Precisão de LR: 72.66% \n",
            "\n",
            "Combinando input reduizo via ExT\n",
            "\n",
            "Testing NB parameters\n",
            "NB - Melhor: 0.7086738368464014 usando os seguintes parametros {'var_smoothing': 1e-08}\n",
            "Precisão de NB: 68.47% \n",
            "Testing CART parameters\n",
            "CART - Melhor: 0.7403218578447848 usando os seguintes parametros {'criterion': 'gini', 'max_depth': 10, 'max_features': 15, 'splitter': 'random'}\n",
            "Precisão de CART: 70.96% \n",
            "Testing LR parameters\n",
            "LR - Melhor: 0.752184664137898 usando os seguintes parametros {'C': 1.0, 'class_weight': None, 'max_iter': 200, 'n_jobs': -1, 'penalty': 'l2', 'solver': 'newton-cg'}\n",
            "Precisão de LR: 71.75% \n"
          ]
        }
      ]
    },
    {
      "cell_type": "markdown",
      "source": [
        "Utilizar a predição logo no grid é possível por conta do parâmetro default refit=True, que já otimiza o estimator com os melhores parâmetros identificados."
      ],
      "metadata": {
        "id": "gImWyrXbpRTO"
      }
    },
    {
      "cell_type": "markdown",
      "source": [
        "**Resultados e discussão**\n",
        "\n",
        "Após a construção dos modelos, verificou-se que os três modelos com maior precisão era a Árvore de Classificação (CART), Regressão logística (LR) e o Naive Bayes (NB) com as seguintes precisões:\n",
        "\n",
        "*   Precisão de LR: 66.89%\n",
        "*   Precisão de CART: 68.47%\n",
        "*   Precisão de NB: 64.29%\n",
        "\n",
        "Na tentativa de otimizar os modelos, foram utilizadas algumas técnicas de *feature selection*. Com isso, foi observado que a precisão dos modelos na maioria dos casos aumentou, com exceção do CART com ANOVA e ExtraTrees:\n",
        "\n",
        "\n",
        "\n",
        "*  Precisão de LR-ANOVA: 74.35%\n",
        "*  Precisão de LR-RFE: 72.66%\n",
        "*  Precisão de LR-ExT: 68.14%\n",
        "*  Precisão de CART-ANOVA: 67.46%\n",
        "*  Precisão de CART-RFE: 71.30%\n",
        "*  Precisão de CART-ExT: 66.33%\n",
        "*  Precisão de NB-ANOVA: 69.15%\n",
        "*  Precisão de NB-RFE: 65.88%\n",
        "*  Precisão de NB-ExT: 69.15%"
      ],
      "metadata": {
        "id": "mOmH89OedKkj"
      }
    },
    {
      "cell_type": "markdown",
      "source": [
        "Ainda explorando a ideia de otimizar o modelos visando aumentar sua precisão, foi feito um GridSeachCV na tentativa de otimizar os hiperparâmetros e encontrar aqueles que pudesse melhorar o desempenho dos modelos. Com isso, chegamos aos seguintes resultados pra cada modelo:\n",
        "\n",
        "*  Testing NB parameters\n",
        "\n",
        "  NB - Melhor: 0.6973567964661257 usando os seguintes parametros {'var_smoothing': 1e-08}\n",
        "  Precisão de NB: 66.89%\n",
        "\n",
        "*  Testing CART parameters\n",
        "\n",
        "  CART - Melhor: 0.7301419631567997 usando os seguintes parametros {'criterion': 'gini', 'max_depth': 10, 'max_features': 15, 'splitter': 'random'}\n",
        "  Precisão de CART: 69.83%\n",
        "\n",
        "\n",
        "* Testing LR parameters\n",
        "\n",
        "  LR - Melhor: 0.7713977049022903 usando os seguintes parametros {'C': 1.0, 'class_weight': None, 'max_iter': 200, 'n_jobs': -1, 'penalty': 'l2', 'solver': 'liblinear'}\n",
        "  Precisão de LR: 73.45%\n",
        "\n",
        "Com esses resultados, foi possível observar um aumento na precisão de todos os modelos NB de 64.29% pra 66.89%, LR de 66.89% pra 73.45% e CART de 68.47% pra 69.83%, sendo o maior ganho no modelo de Regressão logística."
      ],
      "metadata": {
        "id": "FjV5BD3xdKhR"
      }
    },
    {
      "cell_type": "markdown",
      "source": [
        "Por fim, foi tentada uma combinação dos modelos treinados com os inputs aos quais foram aplicados *feature selection*.\n",
        "\n",
        "Seguem os resultados:\n",
        "\n",
        "* Combinando input reduizo via ANOVA\n",
        "\n",
        " *  Testing NB parameters\n",
        "\n",
        "    NB - Melhor: 0.7242081592804213 usando os seguintes parametros {'var_smoothing': 1e-05}\n",
        "    Precisão de NB: 69.38%\n",
        "\n",
        "  *  Testing CART parameters\n",
        "\n",
        "    CART - Melhor: 0.7400353707527089 usando os seguintes parametros {'criterion': 'gini', 'max_depth': 10, 'max_features': 18, 'splitter': 'random'}\n",
        "    Precisão de CART: 70.17%\n",
        "\n",
        "  *  Testing LR parameters\n",
        "\n",
        "    LR - Melhor: 0.7702725628591092 usando os seguintes parametros {'C': 1.0, 'class_weight': None, 'max_iter': 300, 'n_jobs': -1, 'penalty': 'l2', 'solver': 'lbfgs'}\n",
        "    Precisão de LR: 73.45%\n",
        "\n",
        "*  Combinando input reduizo via RFE\n",
        "\n",
        "  *  Testing NB parameters\n",
        "    NB - Melhor: 0.6897384804980715 usando os seguintes parametros {'var_smoothing': 1e-07}\n",
        "    Precisão de NB: 65.88%\n",
        "\n",
        "  *  Testing CART parameters\n",
        "    CART - Melhor: 0.7434300027208272 usando os seguintes parametros {'criterion': 'entropy', 'max_depth': 10, 'max_features': 15, 'splitter': 'random'}\n",
        "    Precisão de CART: 71.86%\n",
        "\n",
        "  *  Testing LR parameters\n",
        "\n",
        "    LR - Melhor: 0.7674437028856773 usando os seguintes parametros {'C': 1.0, 'class_weight': None, 'max_iter': 200, 'n_jobs': -1, 'penalty': 'l2', 'solver': 'lbfgs'}\n",
        "    Precisão de LR: 72.66%\n",
        "\n",
        "*  Combinando input reduizo via ExT\n",
        "\n",
        " *  Testing NB parameters\n",
        "\n",
        "    NB - Melhor: 0.7222355596101214 usando os seguintes parametros {'var_smoothing': 1e-08}\n",
        "    Precisão de NB: 70.28%\n",
        "\n",
        "  *  Testing CART parameters\n",
        "  \n",
        "    CART - Melhor: 0.7405979417742994 usando os seguintes parametros {'criterion': 'entropy', 'max_depth': 10, 'max_features': 18, 'splitter': 'random'}\n",
        "    Precisão de CART: 69.04%\n",
        "\n",
        "  *  Testing LR parameters\n",
        "    LR - Melhor: 0.7677285894912054 usando os seguintes parametros {'C': 1.0, 'class_weight': None, 'max_iter': 200, 'n_jobs': -1, 'penalty': 'l2', 'solver': 'newton-cg'}\n",
        "    Precisão de LR: 74.01%\n",
        "\n",
        "\n",
        "\n"
      ],
      "metadata": {
        "id": "BErKN6L6dKa-"
      }
    },
    {
      "cell_type": "markdown",
      "source": [
        "Para facilitar a visualização e comparação das precisões, segue abaixo uma tabela concatenando todas as informações:\n",
        "\n",
        "| Modelo | Precisão (%) | Otimização\n",
        "|--------|----------|-----------\n",
        "| LR | 66.89 | -\n",
        "| **LR**| **74.35** | **Feature selection - Anova**\n",
        "| LR | 72.66 | Feature selection - RFE\n",
        "| LR | 68.14 | Feature selection - ExT  \n",
        "| LR | 73.45 | GridSearchCV\n",
        "| LR | 73.45 | GridSearchCV + Anova\n",
        "| LR | 72.66 | GridSearchCV + RFE\n",
        "| LR | 74.01 | GridSearchCV + ExT\n",
        "| NB | 64.29 | -\n",
        "| NB | 69.15 | Feature selection - Anova\n",
        "| NB | 65.88| Feature selection - RFE\n",
        "| NB | 69.15 | Feature selection - ExT  \n",
        "| NB | 66.89 | GridSearchCV\n",
        "| NB | 69.38  | GridSearchCV + Anova\n",
        "| NB | 65.88 | GridSearchCV + RFE\n",
        "| **NB** | **70.28** | **GridSearchCV + ExT**\n",
        "| CART | 68.47 | -\n",
        "| CART | 67.46 | Feature selection - Anova\n",
        "| CART | 71.30 | Feature selection - RFE\n",
        "| CART | 66.33 | Feature selection - ExT  \n",
        "| CART | 69.83 | GridSearchCV\n",
        "| CART | 70.17 | GridSearchCV + Anova\n",
        "| CART | 71.86 | GridSearchCV + RFE\n",
        "| **CART** | **74.01**  | **GridSearchCV + ExT**"
      ],
      "metadata": {
        "id": "yxx9ZfkVv06w"
      }
    },
    {
      "cell_type": "markdown",
      "source": [
        "Destacados em negrito são os melhores resultados dos modelos.\n",
        "\n",
        "Com isso é possível concluir que um fine tuning dos hiperparâmetros associado a técnicas de feature selection provocaram os melhores resultados para NB e CART, ao passo que para LR apenas um feature selection já foi o suficiente pra gerar a melhor precisão.\n",
        "\n",
        "Também é importante ressaltar que diferentes inputs dos features selection geraram diferentes combinações de hiperparâmetros.\n",
        "\n"
      ],
      "metadata": {
        "id": "tYlXDUJuCrVu"
      }
    },
    {
      "cell_type": "markdown",
      "source": [
        "Como estratégia parar tentar otimizar ainda mais os modelos, poderíamos tentar criar Pipelines e trabalhar com dados padronizados e normalizados. E por fim compará-los com o resultado obtido atravez do dataset original.\n",
        "\n",
        "No entanto acredito que para o dataset escolhido essa técnica não seria adequada, uma vez que a maioria dos atributos apesar de apresentarem valores inteiros, na verdade são variáveis categóricas, onde cada número representa uma categoria.\n",
        "\n",
        "Por isso Pipelines não foram utilizados no projeto acima."
      ],
      "metadata": {
        "id": "HVb3sHYXDV3E"
      }
    },
    {
      "cell_type": "code",
      "source": [],
      "metadata": {
        "id": "eK2cHMxI0hbI"
      },
      "execution_count": null,
      "outputs": []
    },
    {
      "cell_type": "code",
      "source": [],
      "metadata": {
        "id": "yqjeAkHn0hTg"
      },
      "execution_count": null,
      "outputs": []
    },
    {
      "cell_type": "markdown",
      "source": [
        "# **B - Deep learning**"
      ],
      "metadata": {
        "id": "lkoFDXkB3I0j"
      }
    },
    {
      "cell_type": "markdown",
      "source": [
        "**Definição do problema**\n",
        "\n",
        "O dataset escolhido é de visão computacional e aborda um problema de classificação. É composto por 5 tipos diferentes de arroz, onde o objetivo da modelagem é conseguir construir um modelo pra classificar corretamente cada tipo de arroz.\n",
        "\n",
        "O modelo escolhido foi uma CNN.\n",
        "\n",
        "Mais informações a respeito do dataset pode ser encontrada em https://www.kaggle.com/datasets/muratkokludataset/rice-image-dataset\n",
        "\n",
        "Há cinco categorias possíveis: *Arborio*, *Basmati*, *Ipsala*, *Jasmine*, *Karacadag*\n",
        "\n",
        "O dataset compactado esta dividido em cinco pastas, cada uma nomeada de uma categoria, onde cada categoria possui 15000 imagens, totalizando 75000 imagens no dataset completo.\n",
        "\n",
        "Por fins de poder e tempo computacional trabalhei apenas com 1/3 do dataset, ou seja, 5000 imagens de cada categoria para treinar o modelo.\n",
        "\n"
      ],
      "metadata": {
        "id": "Jzi1BZji3scO"
      }
    },
    {
      "cell_type": "code",
      "source": [
        "#Importando as bibliotecas a serem usadas nessa parte do projeto\n",
        "import keras.models\n",
        "import pandas as pd\n",
        "import numpy as np\n",
        "from tensorflow import keras\n",
        "from IPython.display import Image, display\n",
        "from keras.preprocessing.image import ImageDataGenerator\n",
        "from keras.preprocessing import image\n",
        "from keras.utils import load_img,img_to_array\n",
        "# from keras.layers import Dense,Activation, Flatten, Dropout, BatchNormalization\n",
        "from keras.optimizers import Adam\n",
        "from keras.callbacks import ModelCheckpoint, EarlyStopping\n",
        "# from keras.layers import Conv2D, MaxPooling2D\n",
        "# from keras import regularizers, optimizers\n",
        "from keras import layers\n",
        "from keras import models\n",
        "import os\n",
        "import shutil\n",
        "from sklearn.model_selection import train_test_split\n",
        "from sklearn.metrics import accuracy_score, confusion_matrix, classification_report\n",
        "import sklearn.metrics as skm\n",
        "import itertools\n",
        "import matplotlib.pyplot as plt\n",
        "import matplotlib.image as mpimg\n",
        "import zipfile\n",
        "\n",
        "#Definindo a função para plotar a matriz de confusão\n",
        "def plot_confusion_matrix(cm,classes,normalize=False,\n",
        "                          title='Confusion Matrix',\n",
        "                          cmap=plt.cm.Blues):\n",
        "    if normalize:\n",
        "        cm = cm.astype('float')/cm.sum(axis=1)[:,np.newaxis]\n",
        "        print(\"Matriz de confusão normalizada\")\n",
        "    else:\n",
        "        print('Matriz de confusão sem noramlização')\n",
        "\n",
        "    plt.imshow(cm,interpolation='nearest',cmap=cmap)\n",
        "    plt.title(title)\n",
        "    plt.colorbar()\n",
        "    tick_marks = np.arange(len(classes))\n",
        "    plt.xticks(tick_marks,classes, rotation=45)\n",
        "    plt.yticks(tick_marks,classes)\n",
        "\n",
        "    fmt = '.2f' if normalize else 'd'\n",
        "    thresh = cm.max()/2.\n",
        "    for i,j in itertools.product(range(cm.shape[0]),range(cm.shape[1])):\n",
        "        plt.text(j,i,format(cm[i,j],fmt),\n",
        "                horizontalalignment=\"center\",\n",
        "                color=\"white\" if cm[i,j] > thresh else \"black\")\n",
        "    plt.tight_layout()\n",
        "    plt.ylabel('Classe real')\n",
        "    plt.xlabel('Classe predita')\n"
      ],
      "metadata": {
        "id": "Czdxm-k-3tcw"
      },
      "execution_count": null,
      "outputs": []
    },
    {
      "cell_type": "markdown",
      "source": [
        "**Preparação do dataset**\n",
        "\n",
        "As imagens do dataset não vieram separadas em conjunto de treino, teste e validação. A seguir, o dataset será extraído, importado, reduzido a 1/3 do total e separado em conjunto de treino e teste.\n",
        "\n",
        "Também será usado um data augmentation no conjunto de treino para otimizar o treinamento do modelo."
      ],
      "metadata": {
        "id": "XSv7NXrA3tFT"
      }
    },
    {
      "cell_type": "code",
      "source": [
        "zip_file =  r\"C:\\Users\\vinis\\Desktop\\Pos_PUC_RJ\\MVP\\DL\\Arroz\\archive.zip\"\n",
        "working_dir = r\"C:\\Users\\vinis\\Desktop\\Pos_PUC_RJ\\MVP\\DL\\Arroz\\Work\"\n",
        "\n",
        "os.makedirs(working_dir, exist_ok=True)\n",
        "\n",
        "with zipfile.ZipFile(zip_file,'r') as z:\n",
        "  z.extractall(working_dir)\n",
        "\n",
        "folders = []\n",
        "for i in os.listdir(working_dir+r'\\Rice_Image_Dataset'):\n",
        "    if len(i.split(sep='.'))>1:\n",
        "        continue\n",
        "    else:\n",
        "        folders.append(os.path.join((working_dir+r'\\Rice_Image_Dataset'),i))\n",
        "\n",
        "os.chdir(working_dir+r'\\Rice_Image_Dataset')\n",
        "\n",
        "os.mkdir('All_images')\n",
        "\n",
        "all_images = (working_dir+r'\\Rice_Image_Dataset'+r'\\All_images')\n",
        "\n",
        "np.random.seed(10)\n",
        "\n",
        "n_samples = 5000\n",
        "\n",
        "for i in folders:\n",
        "    t = np.random.choice(a=os.listdir(i), size=n_samples,replace=False)\n",
        "    for pic in t:\n",
        "        shutil.copy(os.path.join(i,pic),all_images)\n",
        "\n",
        "labels, heights, widths, channels, filesize = [],[],[],[],[]\n",
        "\n",
        "images_list = []\n",
        "images_path_list = []\n",
        "\n",
        "for img in os.listdir(all_images):\n",
        "    labels.append(img.split(sep=' ')[0].capitalize())\n",
        "    images_path_list.append(os.path.join(all_images,img))\n",
        "    img_shape = mpimg.imread(os.path.join(all_images,img))\n",
        "    heights.append(img_shape[0])\n",
        "    widths.append(img_shape[1])\n",
        "    channels.append(img_shape[2])\n",
        "    filesize.append(os.path.getsize(os.path.join(all_images,img)))\n",
        "\n",
        "data ={'images':os.listdir(all_images),\n",
        "       'class':labels,\n",
        "       'height':heights,\n",
        "       'width':widths,\n",
        "       'channels':channels,\n",
        "       'size':filesize\n",
        "       }\n",
        "\n",
        "df= pd.DataFrame(data)\n",
        "\n",
        "df['class'].value_counts()\n",
        "\n",
        "#criando uma lista com as classes do problema\n",
        "classes = df['class'].unique()\n",
        "\n",
        "#variável pra armazenar o número de classes do problema\n",
        "n_class = len(df['class'].unique())\n",
        "\n",
        "\n",
        "\n"
      ],
      "metadata": {
        "id": "fbDNRgn-3t-s"
      },
      "execution_count": null,
      "outputs": []
    },
    {
      "cell_type": "code",
      "source": [
        "#Verificando que o dataset é de fato balanceado\n",
        "df['class'].value_counts().plot.bar(title='Classes de arroz')"
      ],
      "metadata": {
        "id": "tSWWhnTt3t3t"
      },
      "execution_count": null,
      "outputs": []
    },
    {
      "cell_type": "code",
      "source": [
        "#Vendo algumas imagens do dataset\n",
        "for n in range(6):\n",
        "    sample = np.random.choice(images_path_list)\n",
        "    sp = plt.subplot(2,3,n+1)\n",
        "    sp.axis('Off')\n",
        "    img = mpimg.imread(sample)\n",
        "    plt.imshow(img)\n",
        "    plt.title(sample.split(sep='\\\\')[-1])"
      ],
      "metadata": {
        "id": "ssiAGofvEWEb"
      },
      "execution_count": null,
      "outputs": []
    },
    {
      "cell_type": "code",
      "source": [
        "#Separação entre treino e teste\n",
        "np.random.seed(10)\n",
        "\n",
        "train,test = train_test_split(df[['images','class']],test_size=0.3, random_state=10,shuffle=True)\n",
        "\n",
        "#Tratamento de imagens, data augmentation, com o ImageDataGenerator\n",
        "train_datagen=ImageDataGenerator(validation_split=0.2,\n",
        "                                 rescale=1.0/255,\n",
        "                                 rotation_range=30,\n",
        "                                 shear_range=0.15,\n",
        "                                 zoom_range=0.25,\n",
        "                                 horizontal_flip=True,\n",
        "                                 fill_mode='nearest')\n",
        "\n",
        "test_datagen = ImageDataGenerator(rescale=1.0/255)\n",
        "\n",
        "train_aug = train_datagen.flow_from_dataframe(\n",
        "            train, all_images,\n",
        "            target_size=(250,250),\n",
        "            batch_size=50,\n",
        "            class_mode='categorical',\n",
        "            x_col='images',\n",
        "            y_col='class',\n",
        "            subset='training')\n",
        "\n",
        "test_aug = test_datagen.flow_from_dataframe(\n",
        "            test, all_images,\n",
        "            target_size=(250,250),\n",
        "            batch_size=50,\n",
        "            class_mode='categorical',\n",
        "            x_col='images',\n",
        "            y_col='class')\n",
        "\n",
        "val_aug = train_datagen.flow_from_dataframe(\n",
        "            train, all_images,\n",
        "            target_size=(250,250),\n",
        "            batch_size=50,\n",
        "            class_mode='categorical',\n",
        "            x_col='images',\n",
        "            y_col='class',\n",
        "            subset='validation')\n",
        "\n"
      ],
      "metadata": {
        "id": "__bqAaDxEV67"
      },
      "execution_count": null,
      "outputs": []
    },
    {
      "cell_type": "code",
      "source": [
        "#Construindo a CNN\n",
        "\n",
        "model = models.Sequential()\n",
        "model.add(layers.Conv2D(32, (3, 3),activation='relu',input_shape=(250,250,3)))\n",
        "model.add(layers.MaxPooling2D(pool_size=(2, 2)))\n",
        "model.add(layers.Dropout(0.25))\n",
        "\n",
        "model.add(layers.Conv2D(64, (3, 3),activation='relu'))\n",
        "model.add(layers.MaxPooling2D(pool_size=(2, 2)))\n",
        "model.add(layers.Dropout(0.25))\n",
        "\n",
        "model.add(layers.Conv2D(128, (3, 3),activation='relu'))\n",
        "model.add(layers.MaxPooling2D(pool_size=(2, 2)))\n",
        "model.add(layers.Dropout(0.25))\n",
        "\n",
        "model.add(layers.Flatten())\n",
        "model.add(layers.Dropout(0.25))\n",
        "\n",
        "model.add(layers.Dense(512,activation='relu'))\n",
        "model.add(layers.Dropout(0.5))\n",
        "\n",
        "model.add(layers.Dense(n_class, activation='softmax'))\n",
        "\n",
        "model.compile(optimizer=Adam(learning_rate=0.0001,decay=1e-5),loss=\"categorical_crossentropy\",metrics=[\"accuracy\"])\n",
        "\n",
        "model.summary()"
      ],
      "metadata": {
        "id": "DUjjv-4KEVz0"
      },
      "execution_count": null,
      "outputs": []
    },
    {
      "cell_type": "markdown",
      "source": [
        "Criado o modelo e o dataset aumentado pra treinamento, partimos para o treinamento da rede, onde foi pré definido alguns parâmetros para ajudar a selecionar e salvar o melhor modelo.\n",
        "\n",
        "A classe EarlyStopping monitorando o loss da validação foi usada pra otimizar as epochs do treinamento e monitorar o melhor modelo possível quando houver diminuição na progressão da diminuição da perda de validação.\n"
      ],
      "metadata": {
        "id": "nuBNEThX3ujP"
      }
    },
    {
      "cell_type": "code",
      "source": [
        "#Geração de callbacks pra auxiliar o treinamento, considerando salvar o melhor modelo de acordo com a maior precisão da validação\n",
        "model_path='best_model.hdf5'\n",
        "checkpoint = ModelCheckpoint(filepath=model_path,\n",
        "                             monitor='val_loss',\n",
        "                             verbose=1,\n",
        "                             save_best_only=True,\n",
        "                             mode='min')\n",
        "\n",
        "#\n",
        "earlystop = EarlyStopping(monitor='val_loss',\n",
        "                          patience=5,\n",
        "                          mode='auto')\n",
        "#Treinando o modelo\n",
        "history = model.fit(train_aug,\n",
        "                      steps_per_epoch=50,\n",
        "                      epochs=50,\n",
        "                      validation_data=val_aug,\n",
        "                      validation_steps=5,\n",
        "                      callbacks=[checkpoint,earlystop]\n",
        "                    )"
      ],
      "metadata": {
        "id": "PM5dmjxk3tw3"
      },
      "execution_count": null,
      "outputs": []
    },
    {
      "cell_type": "markdown",
      "source": [
        "Foi decidido fazer um checkpoint com a classe ModelCheckpoint usando o menor valor de perda pois observou-se que o ganho de precisão (com monitor='val_accuracy' e mode = 'max') era menor frente a mitigação de perda com os parâmetros escolhidos.\n",
        "\n"
      ],
      "metadata": {
        "id": "3LTF4GKR3vQr"
      }
    },
    {
      "cell_type": "code",
      "source": [
        "#Plotando os gráficos de accuracy e loss por epoch\n",
        "\n",
        "#aAra evitar que o modelo precise ser novamente treinado aqui no collab,\n",
        "#os resultados do treinamento foram previamente salvos em um arquivo csv usando\n",
        "#o bloco de código a seguir:\n",
        "'''\n",
        "#salvando csv dos resultados do treinamento pra cada epoch\n",
        "\n",
        "epoch = [i for i in range(1,len(history.history['accuracy'])+1)]\n",
        "t=pd.DataFrame({\"accuracy\":history.history['accuracy'],\n",
        "                \"val_accuracy\":history.history['val_accuracy'],\n",
        "                \"epoch\":epoch}).to_csv(\"train_accuracy.csv\", index=False)\n",
        "\n",
        "t=pd.DataFrame({\"loss\":history.history['loss'],\n",
        "                \"val_loss\":history.history['val_loss'],\n",
        "                \"epoch\":epoch}).to_csv(\"train_loss.csv\", index=False)\n",
        "\n",
        "'''\n",
        "#Carregando os resultados do csv\n",
        "train_test_acc = pd.read_csv(r'train_accuracy.csv')\n",
        "train_test_loss = pd.read_csv(r'train_loss.csv')\n",
        "\n",
        "#Plot accuracy\n",
        "plt.plot(train_test_acc['accuracy'])\n",
        "plt.plot(train_test_acc['val_accuracy'])\n",
        "plt.title('Acurácia do modelo')\n",
        "plt.ylabel('accuracy')\n",
        "plt.xlabel('epoch')\n",
        "plt.legend(['train','test'],loc='lower right')\n",
        "plt.savefig('train_test_acc.pdf', format='pdf')\n",
        "plt.show()"
      ],
      "metadata": {
        "id": "4Anfw7jLHhJQ"
      },
      "execution_count": null,
      "outputs": []
    },
    {
      "cell_type": "code",
      "source": [
        "#Plot loss\n",
        "plt.plot(train_test_loss['loss'])\n",
        "plt.plot(train_test_loss['val_loss'])\n",
        "plt.title('Loss do modelo')\n",
        "plt.ylabel('loss')\n",
        "plt.xlabel('epoch')\n",
        "plt.legend(['train','test'],loc='upper right')\n",
        "plt.savefig('train_test_loss.pdf', format='pdf')\n",
        "plt.show()"
      ],
      "metadata": {
        "id": "W7HCQADOHhD0"
      },
      "execution_count": null,
      "outputs": []
    },
    {
      "cell_type": "markdown",
      "source": [
        "Com o callback ModelCheckpoint, o melhor modelo foi salvo com o nome \"best_model.hdf5\". Vou prosseguir com esse modelo salvo carregando ele pra checar as métricas do mesmo."
      ],
      "metadata": {
        "id": "RPdAhfkkL2r5"
      }
    },
    {
      "cell_type": "code",
      "source": [
        "\n",
        "model_input_path = r\"C:\\Users\\vinis\\Desktop\\Pos_PUC_RJ\\MVP\\DL\\Arroz\\Work\\Rice_Image_Dataset\"\n",
        "model_name =r\"best_model.hdf5\"\n",
        "#\n",
        "# model.save(os.path.join(model_input_path,model_name))\n",
        "\n",
        "#carregar o modelo\n",
        "loaded_model = keras.models.load_model(os.path.join(model_input_path,model_name))\n",
        "\n"
      ],
      "metadata": {
        "id": "y0wsuQufHhA2"
      },
      "execution_count": null,
      "outputs": []
    },
    {
      "cell_type": "code",
      "source": [
        "#Utilizando o modelo para fazer as predições\n",
        "y_true = []\n",
        "y_pred = []\n",
        "\n",
        "cont = 0\n",
        "for i in test['images']:\n",
        "  cont+=1\n",
        "  if cont > 5:\n",
        "    break\n",
        "  else:\n",
        "    label = i.split(sep=\" \")[0].capitalize()\n",
        "    y_true.append(label)\n",
        "\n",
        "    img_path = os.path.join(all_images,i)\n",
        "    # display(Image(filename=img_path,width=250))\n",
        "    img = load_img(img_path,target_size=(250,250))\n",
        "    x = img_to_array(img)\n",
        "    x = np.expand_dims(x,axis=0)\n",
        "    x = x.astype('float32')/255.0\n",
        "\n",
        "    #Previsão\n",
        "    prediction = loaded_model.predict(x)\n",
        "\n",
        "    #printando as saídas do modelo\n",
        "    predicted_class = np.argmax(prediction[0])\n",
        "    probability = prediction[0][predicted_class]\n",
        "    y_pred.append(classes[predicted_class])\n",
        "    print(f\"Label: {label}\")\n",
        "    print(f\"Previsão: {classes[predicted_class]}\")\n",
        "    print(f\"Probabilidade: {probability:.2%}\")\n",
        "    print('\\n')\n"
      ],
      "metadata": {
        "id": "b9u2kw4BHgjo"
      },
      "execution_count": null,
      "outputs": []
    },
    {
      "cell_type": "code",
      "source": [
        "#para agilizar a predição do modelo para todas as imagens teste, a célula acima\n",
        "#foi rodada sem o contador e os resultados gerados foram salvos localmente em um\n",
        "#csv gerado pelo código a seguir:\n",
        "'''\n",
        "df_real_pred = pd.DataFrame({'real':y_true,'predito':y_pred}).to_csv('real_pred.csv', index=False)\n",
        "'''\n",
        "#Lendo o csv com os resultados da predição\n",
        "real_pred=pd.read_csv('real_pred.csv')\n",
        "\n",
        "y_true = real_pred['real']\n",
        "y_pred = read_pred['predito']\n",
        "\n"
      ],
      "metadata": {
        "id": "rTdPheDeONQH"
      },
      "execution_count": null,
      "outputs": []
    },
    {
      "cell_type": "code",
      "source": [
        "#avaliando métricas do modelo\n",
        "accuracy = skm.accuracy_score(y_true,y_pred)\n",
        "precision = skm.precision_score(y_true,y_pred,average='weighted')\n",
        "recall = skm.recall_score(y_true,y_pred,average='weighted')\n",
        "f1score = skm.f1_score(y_true,y_pred,average='weighted')\n",
        "print(f\"Accuracy: {accuracy:.2%}\")\n",
        "print(f\"Precision: {precision:.2%}\")\n",
        "print(f\"Recall: {recall:.2%}\")\n",
        "print(f\"F1 score: {f1score:.2%}\")"
      ],
      "metadata": {
        "id": "OR8JJE5nOD-U"
      },
      "execution_count": null,
      "outputs": []
    },
    {
      "cell_type": "code",
      "source": [
        "cnf_matrix = confusion_matrix(y_true,y_pred,labels=classes)\n",
        "np.set_printoptions(precision=2)\n",
        "plt.figure()\n",
        "plot_confusion_matrix(cnf_matrix,\n",
        "                      classes=classes,\n",
        "                      normalize=False,\n",
        "                      title=\"Matriz de confusão\")\n",
        "plt.show()\n",
        "plt.savefig('confusion_matrix.pdf', format='pdf')"
      ],
      "metadata": {
        "id": "hoTs8tkCN6vj"
      },
      "execution_count": null,
      "outputs": []
    }
  ]
}