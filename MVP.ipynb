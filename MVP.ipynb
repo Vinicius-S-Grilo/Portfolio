{
  "nbformat": 4,
  "nbformat_minor": 0,
  "metadata": {
    "colab": {
      "provenance": [],
      "include_colab_link": true
    },
    "kernelspec": {
      "name": "python3",
      "display_name": "Python 3"
    },
    "language_info": {
      "name": "python"
    }
  },
  "cells": [
    {
      "cell_type": "markdown",
      "metadata": {
        "id": "view-in-github",
        "colab_type": "text"
      },
      "source": [
        "<a href=\"https://colab.research.google.com/github/Vinicius-S-Grilo/Portfolio/blob/main/MVP.ipynb\" target=\"_parent\"><img src=\"https://colab.research.google.com/assets/colab-badge.svg\" alt=\"Open In Colab\"/></a>"
      ]
    },
    {
      "cell_type": "markdown",
      "source": [
        "# **MVP - Vinicius Simas Grilo**"
      ],
      "metadata": {
        "id": "ppG06OScdwfm"
      }
    },
    {
      "cell_type": "markdown",
      "source": [
        "Inicio o trabalho importado os dados do meu google drive para o collab."
      ],
      "metadata": {
        "id": "q8AtXuE-eXX8"
      }
    },
    {
      "cell_type": "code",
      "source": [
        "#Baixando os dados do google Drive\n",
        "import gdown\n",
        "\n",
        "file_ids = [\"11E2eFUgaNlXe-gWkDUZng-rftGXMnr4N\",\n",
        "            \"1OwX71oOh_YH8ELpyw4Ip7JsIJYCO13fs\",\n",
        "            \"1VnRfgI_v2777oqMZUmi-yDiOJrePp23g\",\n",
        "            \"1gf_5tJ-pZfJpVqBmreK5R_hKWT2m8BCd\",\n",
        "            \"1ghYzM3SQCnyy2HBhplMR0HsOFO-FePS1\",\n",
        "            \"1l8ksAxJOl2NaFSbn2BqcSJj4mjMN4is1\",\n",
        "            \"1oYSIIyTJI3ANEXtszvx9n2IJbcpqDUKy\"]\n",
        "\n",
        "for id in file_ids:\n",
        "  url = f\"https://drive.google.com/uc?id={id}\"\n",
        "  gdown.download(url)"
      ],
      "metadata": {
        "colab": {
          "base_uri": "https://localhost:8080/"
        },
        "id": "DLNRVlL7dvh_",
        "outputId": "328c2424-c05b-4b14-89c1-51098dfec98f"
      },
      "execution_count": 38,
      "outputs": [
        {
          "output_type": "stream",
          "name": "stderr",
          "text": [
            "Downloading...\n",
            "From: https://drive.google.com/uc?id=11E2eFUgaNlXe-gWkDUZng-rftGXMnr4N\n",
            "To: /content/data.csv\n",
            "100%|██████████| 533k/533k [00:00<00:00, 19.8MB/s]\n",
            "Downloading...\n",
            "From: https://drive.google.com/uc?id=1OwX71oOh_YH8ELpyw4Ip7JsIJYCO13fs\n",
            "To: /content/train_loss.csv\n",
            "100%|██████████| 1.22k/1.22k [00:00<00:00, 1.50MB/s]\n",
            "Downloading...\n",
            "From: https://drive.google.com/uc?id=1VnRfgI_v2777oqMZUmi-yDiOJrePp23g\n",
            "To: /content/real_pred.csv\n",
            "100%|██████████| 131k/131k [00:00<00:00, 12.9MB/s]\n",
            "Downloading...\n",
            "From: https://drive.google.com/uc?id=1gf_5tJ-pZfJpVqBmreK5R_hKWT2m8BCd\n",
            "To: /content/MVP.ipynb\n",
            "100%|██████████| 138k/138k [00:00<00:00, 12.3MB/s]\n",
            "Downloading...\n",
            "From: https://drive.google.com/uc?id=1ghYzM3SQCnyy2HBhplMR0HsOFO-FePS1\n",
            "To: /content/best_model.hdf5\n",
            "100%|██████████| 663M/663M [00:07<00:00, 83.0MB/s]\n",
            "Downloading...\n",
            "From: https://drive.google.com/uc?id=1l8ksAxJOl2NaFSbn2BqcSJj4mjMN4is1\n",
            "To: /content/train_accuracy.csv\n",
            "100%|██████████| 1.19k/1.19k [00:00<00:00, 2.20MB/s]\n",
            "Downloading...\n",
            "From: https://drive.google.com/uc?id=1oYSIIyTJI3ANEXtszvx9n2IJbcpqDUKy\n",
            "To: /content/archive.zip\n",
            "100%|██████████| 230M/230M [00:01<00:00, 118MB/s]\n"
          ]
        }
      ]
    },
    {
      "cell_type": "markdown",
      "source": [
        "## **A - Machine Learning**"
      ],
      "metadata": {
        "id": "NKD8lPEwsYaG"
      }
    },
    {
      "cell_type": "markdown",
      "source": [
        "**Definição do problema**\n",
        "\n",
        "O dataset escolhido aborda um problema de classificação. Trata-se de uma instituição de ensino superior que deseja avaliar se um aluno irá concluir ou desistir do curso baseado em uma série de atributos como curso, performace academica, fatores socio-econômicos entre outros.\n",
        "\n",
        "mais informações a respeito do dataset pode ser encontrada em https://archive.ics.uci.edu/dataset/697/predict+students+dropout+and+academic+success\n",
        "\n",
        "Há três categorias possíveis: *dropout*, *enrolled* e *graduate*\n",
        "\n",
        "O dataset já foi previamente preprocessado para remoção de missing values e outliers."
      ],
      "metadata": {
        "id": "J93X1Edfr9s1"
      }
    },
    {
      "cell_type": "code",
      "execution_count": 39,
      "metadata": {
        "id": "3_Hp84F0r9CX"
      },
      "outputs": [],
      "source": [
        "#importando as bibliotecas a serem utilizadas\n",
        "import warnings\n",
        "warnings.filterwarnings(\"ignore\")\n",
        "import pandas as pd\n",
        "import requests\n",
        "from bs4 import BeautifulSoup\n",
        "import numpy as np\n",
        "import matplotlib.pyplot as plt\n",
        "from sklearn.model_selection import train_test_split\n",
        "from sklearn.model_selection import KFold\n",
        "from sklearn.model_selection import cross_val_score\n",
        "from sklearn.neighbors import KNeighborsClassifier\n",
        "from sklearn.linear_model import LogisticRegression\n",
        "from sklearn.tree import DecisionTreeClassifier\n",
        "from sklearn.naive_bayes import GaussianNB\n",
        "from sklearn.svm import SVC\n",
        "from sklearn.feature_selection import SelectKBest\n",
        "from sklearn.feature_selection import f_classif\n",
        "from sklearn.feature_selection import RFE\n",
        "from sklearn.ensemble import ExtraTreesClassifier\n",
        "from sklearn.model_selection import GridSearchCV\n",
        "from sklearn.metrics import accuracy_score,precision_score,f1_score,recall_score\n",
        "import sklearn.metrics as skm\n",
        "from google.colab import data_table\n",
        "data_table.enable_dataframe_formatter()\n"
      ]
    },
    {
      "cell_type": "markdown",
      "source": [
        "**Preparação dos dados**\n",
        "\n",
        "Como os dados já vieram pre processados, não há necessidade de utilizar técnicas de pre processamento para tratamento de missing values ou remoção de outliers.\n",
        "\n",
        "Nesta etapa, será feito o carregamento do dataset, separação entre treino/teste, parametrização pra validação cruzada, criação e comparação dos modelos."
      ],
      "metadata": {
        "id": "BBAyGC8CvjqV"
      }
    },
    {
      "cell_type": "code",
      "source": [
        "#Carregando o dataset\n",
        "dataset = pd.read_csv(r\"/content/data.csv\", sep=';')"
      ],
      "metadata": {
        "id": "ozh669r9dX4E"
      },
      "execution_count": 40,
      "outputs": []
    },
    {
      "cell_type": "code",
      "source": [
        "#Tratando os dados para treinamento do modelo\n",
        "np.random.seed(10)\n",
        "\n",
        "#separação dos atributos e da categoria\n",
        "X = np.array(dataset.iloc[:,:-1].copy())\n",
        "y = np.array(dataset.iloc[:,-1].copy())\n",
        "\n",
        "#separação teste/treino\n",
        "X_train, X_test, y_train, y_test = train_test_split(X,y, test_size=0.2, random_state=10)\n",
        "\n",
        "#Parâmetros para validação cruzada\n",
        "n_part = 10\n",
        "kfold = KFold(n_splits=n_part,shuffle=True, random_state=10)\n",
        "\n",
        "#Criação e preparação dos modelos e seus resultados\n",
        "models = []\n",
        "results = []\n",
        "names = []\n",
        "\n",
        "models.append((\"KNN\",KNeighborsClassifier()))\n",
        "models.append(('LR', LogisticRegression(max_iter=200)))\n",
        "models.append((\"CART\",DecisionTreeClassifier()))\n",
        "models.append((\"NB\",GaussianNB()))\n",
        "models.append((\"SVC\",SVC()))\n",
        "\n",
        "for name,model in models:\n",
        "    cv_results = cross_val_score(model,X_train,y_train,cv=kfold,scoring='accuracy')\n",
        "    results.append(cv_results)\n",
        "    names.append(name)\n",
        "    msg = f\"{name}: {cv_results.mean()} ({cv_results.std()})\"\n",
        "    print(msg)\n"
      ],
      "metadata": {
        "colab": {
          "base_uri": "https://localhost:8080/"
        },
        "id": "HxhD0sVKr-q8",
        "outputId": "a8c94cbb-285b-480f-a36e-1938eda9b24f"
      },
      "execution_count": 41,
      "outputs": [
        {
          "output_type": "stream",
          "name": "stdout",
          "text": [
            "KNN: 0.5936788783790271 (0.027958817701309913)\n",
            "LR: 0.6953793953361822 (0.025023645819575304)\n",
            "CART: 0.6801323602375122 (0.01516551542951282)\n",
            "NB: 0.6869056193082697 (0.029678089117343605)\n",
            "SVC: 0.5035194699188554 (0.02250900968881935)\n"
          ]
        }
      ]
    },
    {
      "cell_type": "code",
      "source": [
        "#Boxplot para comparar a precisão dos modelos\n",
        "fig = plt.figure()\n",
        "fig.suptitle('Comparação dos Modelos')\n",
        "ax = fig.add_subplot(111)\n",
        "plt.boxplot(results)\n",
        "ax.set_xticklabels(names)\n",
        "plt.show()"
      ],
      "metadata": {
        "colab": {
          "base_uri": "https://localhost:8080/",
          "height": 478
        },
        "id": "Ki7RXlTnvjTO",
        "outputId": "c2e35647-1706-4163-d6da-8b2f97d419ae"
      },
      "execution_count": 42,
      "outputs": [
        {
          "output_type": "display_data",
          "data": {
            "text/plain": [
              "<Figure size 640x480 with 1 Axes>"
            ],
            "image/png": "[encoded data removed]"
          },
          "metadata": {}
        }
      ]
    },
    {
      "cell_type": "code",
      "source": [
        "#Averiguando métricas dos modelos com o dado teste\n",
        "best_models_list = [\"NB\",\"CART\",\"LR\"]\n",
        "\n",
        "metrics_comparison ={}\n",
        "\n",
        "\n",
        "for i in models:\n",
        "  if i[0] in best_models_list:\n",
        "    model = i[1]\n",
        "    model.fit(X_train,y_train)\n",
        "    predictions = model.predict(X_test)\n",
        "    ind_metrics = {}\n",
        "    a = accuracy_score(y_test,predictions)\n",
        "    r = recall_score(y_test,predictions,average='weighted')\n",
        "    p = precision_score(y_test,predictions,average='weighted')\n",
        "    f = f1_score(y_test,predictions,average='weighted')\n",
        "    ind_metrics['accuracy'] = a\n",
        "    ind_metrics['recall'] = r\n",
        "    ind_metrics['precision'] = p\n",
        "    ind_metrics['f1_score'] = f\n",
        "    metrics_comparison[i[0]]= ind_metrics\n",
        "    print(f\"Acurácia de {i[0]}: {a:.2%} \")\n",
        "    print(f\"Revocação de {i[0]}: {r:.2%} \")\n",
        "    print(f\"Precisão de {i[0]}: {p:.2%} \")\n",
        "    print(f\"F1 score de {i[0]}: {f:.2%} \\n\")\n",
        "\n"
      ],
      "metadata": {
        "colab": {
          "base_uri": "https://localhost:8080/"
        },
        "id": "j9kHz_XVvjZr",
        "outputId": "59e7454a-bdfe-4cb2-a1d0-df107100485f"
      },
      "execution_count": 43,
      "outputs": [
        {
          "output_type": "stream",
          "name": "stdout",
          "text": [
            "Acurácia de LR: 66.89% \n",
            "Revocação de LR: 66.89% \n",
            "Precisão de LR: 63.54% \n",
            "F1 score de LR: 62.23% \n",
            "\n",
            "Acurácia de CART: 68.14% \n",
            "Revocação de CART: 68.14% \n",
            "Precisão de CART: 67.65% \n",
            "F1 score de CART: 67.87% \n",
            "\n",
            "Acurácia de NB: 64.29% \n",
            "Revocação de NB: 64.29% \n",
            "Precisão de NB: 61.19% \n",
            "F1 score de NB: 62.26% \n",
            "\n"
          ]
        }
      ]
    },
    {
      "cell_type": "markdown",
      "source": [
        "Com base no plot acima, é possível perceber que o modelo com maior precisão é o de Regressão Logística (LR), seguido do Naive Bayes e da Árvore de Decisão. Como não há diferença estatística significativa entre os três modelos, vou seguir com eles para testar uma abordagem de feature selection e avaliar se a precisão dos modelos melhora."
      ],
      "metadata": {
        "id": "hLgr2SjfWOWT"
      }
    },
    {
      "cell_type": "code",
      "source": [
        "#Testando feature selection pra otimizar modelo\n",
        "#números de features a serem escolhidos\n",
        "n = 15\n",
        "\n",
        "print(\"Atributos Originais:\\n\", dataset.columns[0:36])\n",
        "print(\"\\n\\n##Iniciando os testes com feature selection##\\n\\n\")\n",
        "\n",
        "#teste ANOVA de Seleção Univariada\n",
        "best_var = SelectKBest(score_func=f_classif, k=n)\n",
        "\n",
        "fit = best_var.fit(X,y)\n",
        "\n",
        "features=fit.transform(X)\n",
        "\n",
        "#Print dos resultados\n",
        "print(\"Resultados do ANOVA - seleção univariada\\n\")\n",
        "print(f\"Atributos originais: {X.shape[1]}\")\n",
        "print(f\"Atributos reduzidos: {features.shape[1]}\")\n",
        "\n",
        "print(\"Scores dos Atributos Originais:\", fit.scores_)\n",
        "print(\"\\nAtributos Selecionados:\", best_var.get_feature_names_out(input_features=dataset.columns[0:36]))\n",
        "\n",
        "red_features_f = best_var.get_feature_names_out(input_features=dataset.columns[0:36])\n",
        "\n",
        "\n",
        "# Eliminação Recursiva de Atributos\n",
        "\n",
        "# Criação do modelo\n",
        "modelo = LogisticRegression(max_iter=200)\n",
        "\n",
        "# Eliminação Recursiva de Atributos\n",
        "rfe = RFE(modelo, n_features_to_select=n)\n",
        "fit = rfe.fit(X, y)\n",
        "\n",
        "# Print dos resultados\n",
        "\n",
        "print(\"\\nResultados da Eliminação recursiva de atributos\\n\")\n",
        "\n",
        "\n",
        "# Exibe os atributos selecionados (marcados como True em \"Atributos Selecionados\"\n",
        "# e com valor 1 em \"Ranking dos Atributos\")\n",
        "print(\"\\nAtributos Selecionados: %s\" % fit.support_)\n",
        "print(\"\\nRanking de atributos: %s\" % fit.ranking_)\n",
        "print(\"\\nQtd de melhores Atributos: %d\" % fit.n_features_)\n",
        "print(\"\\nNomes dos Atributos Selecionados: %s\" % fit.get_feature_names_out(input_features=dataset.columns[0:36]))\n",
        "red_features_RFE = fit.get_feature_names_out(input_features=dataset.columns[0:36])\n",
        "\n",
        "# Importância de Atributos com ExtraTrees\n",
        "# Criação do modelo para seleção de atributos\n",
        "modelo = ExtraTreesClassifier(n_estimators=100)\n",
        "modelo.fit(X,y)\n",
        "\n",
        "\n",
        "# Exibe a pontuação de importância para cada atributo (quanto maior a pontuação, mais importante é o atributo).\n",
        "print(\"\\nResultados da Importância de atributos com ExtraTrees\\n\")\n",
        "print(modelo.feature_importances_)\n",
        "ipt=modelo.feature_importances_\n",
        "red_features_ExT = dataset.columns[0:36][ipt.argsort()[-n:]]\n",
        "print(f\"\\nAtributos selecionados {red_features_ExT}\\n\")\n",
        "\n",
        "\n",
        "\n",
        "\n",
        "\n",
        "\n",
        "\n"
      ],
      "metadata": {
        "colab": {
          "base_uri": "https://localhost:8080/"
        },
        "id": "5hQYY4foZD7l",
        "outputId": "2cbaef1e-7d8e-465d-a9d9-3be1a7b8af74"
      },
      "execution_count": 44,
      "outputs": [
        {
          "output_type": "stream",
          "name": "stdout",
          "text": [
            "Atributos Originais:\n",
            " Index(['Marital status', 'Application mode', 'Application order', 'Course',\n",
            "       'Daytime/evening attendance\\t', 'Previous qualification',\n",
            "       'Previous qualification (grade)', 'Nacionality',\n",
            "       'Mother's qualification', 'Father's qualification',\n",
            "       'Mother's occupation', 'Father's occupation', 'Admission grade',\n",
            "       'Displaced', 'Educational special needs', 'Debtor',\n",
            "       'Tuition fees up to date', 'Gender', 'Scholarship holder',\n",
            "       'Age at enrollment', 'International',\n",
            "       'Curricular units 1st sem (credited)',\n",
            "       'Curricular units 1st sem (enrolled)',\n",
            "       'Curricular units 1st sem (evaluations)',\n",
            "       'Curricular units 1st sem (approved)',\n",
            "       'Curricular units 1st sem (grade)',\n",
            "       'Curricular units 1st sem (without evaluations)',\n",
            "       'Curricular units 2nd sem (credited)',\n",
            "       'Curricular units 2nd sem (enrolled)',\n",
            "       'Curricular units 2nd sem (evaluations)',\n",
            "       'Curricular units 2nd sem (approved)',\n",
            "       'Curricular units 2nd sem (grade)',\n",
            "       'Curricular units 2nd sem (without evaluations)', 'Unemployment rate',\n",
            "       'Inflation rate', 'GDP'],\n",
            "      dtype='object')\n",
            "\n",
            "\n",
            "##Iniciando os testes com feature selection##\n",
            "\n",
            "\n",
            "Resultados do ANOVA - seleção univariada\n",
            "\n",
            "Atributos originais: 36\n",
            "Atributos reduzidos: 15\n",
            "Scores dos Atributos Originais: [1.98322547e+01 1.14534956e+02 1.97271735e+01 2.67098420e+00\n",
            " 1.44541234e+01 7.00452632e+00 2.77285887e+01 8.36236161e-01\n",
            " 1.28227118e+01 3.83846897e+00 9.83835323e+00 8.96760754e+00\n",
            " 3.56486043e+01 2.92392262e+01 3.20854067e-01 1.37647527e+02\n",
            " 5.05621429e+02 1.23041811e+02 2.25751437e+02 1.54712071e+02\n",
            " 6.39709437e-01 7.97935543e+00 5.94673906e+01 3.75278398e+01\n",
            " 8.59866768e+02 7.13517328e+02 1.14373188e+01 9.97454175e+00\n",
            " 7.55919097e+01 8.78010921e+01 1.41073294e+03 1.13410954e+03\n",
            " 2.01855306e+01 5.92251334e+00 1.74198979e+00 4.79900900e+00]\n",
            "\n",
            "Atributos Selecionados: ['Application mode' 'Admission grade' 'Debtor' 'Tuition fees up to date'\n",
            " 'Gender' 'Scholarship holder' 'Age at enrollment'\n",
            " 'Curricular units 1st sem (enrolled)'\n",
            " 'Curricular units 1st sem (evaluations)'\n",
            " 'Curricular units 1st sem (approved)' 'Curricular units 1st sem (grade)'\n",
            " 'Curricular units 2nd sem (enrolled)'\n",
            " 'Curricular units 2nd sem (evaluations)'\n",
            " 'Curricular units 2nd sem (approved)' 'Curricular units 2nd sem (grade)']\n",
            "\n",
            "Resultados da Eliminação recursiva de atributos\n",
            "\n",
            "\n",
            "Atributos Selecionados: [ True False False False False False False False False False False False\n",
            " False  True False  True  True  True  True False False  True  True False\n",
            "  True False  True  True  True  True  True False  True False False False]\n",
            "\n",
            "Ranking de atributos: [ 1 14  4 20  9 11 19 16 12 17 13 15 18  1 22  1  1  1  1  6 21  1  1  7\n",
            "  1  3  1  1  1  1  1  2  1  5  8 10]\n",
            "\n",
            "Qtd de melhores Atributos: 15\n",
            "\n",
            "Nomes dos Atributos Selecionados: ['Marital status' 'Displaced' 'Debtor' 'Tuition fees up to date' 'Gender'\n",
            " 'Scholarship holder' 'Curricular units 1st sem (credited)'\n",
            " 'Curricular units 1st sem (enrolled)'\n",
            " 'Curricular units 1st sem (approved)'\n",
            " 'Curricular units 1st sem (without evaluations)'\n",
            " 'Curricular units 2nd sem (credited)'\n",
            " 'Curricular units 2nd sem (enrolled)'\n",
            " 'Curricular units 2nd sem (evaluations)'\n",
            " 'Curricular units 2nd sem (approved)'\n",
            " 'Curricular units 2nd sem (without evaluations)']\n",
            "\n",
            "Resultados da Importância de atributos com ExtraTrees\n",
            "\n",
            "[0.00669028 0.02687209 0.01865594 0.03039313 0.00579814 0.00868275\n",
            " 0.0281222  0.00289561 0.02499149 0.02422197 0.02593104 0.02672597\n",
            " 0.02829952 0.0157334  0.00210934 0.01751143 0.06017905 0.01887889\n",
            " 0.02896408 0.03003251 0.00283752 0.00862091 0.02276082 0.03439109\n",
            " 0.07092034 0.06842929 0.00845647 0.00755955 0.02297627 0.03622981\n",
            " 0.10294763 0.10373826 0.00766761 0.0236937  0.02322995 0.02385195]\n",
            "\n",
            "Atributos selecionados Index(['Mother's occupation', 'Father's occupation', 'Application mode',\n",
            "       'Previous qualification (grade)', 'Admission grade',\n",
            "       'Scholarship holder', 'Age at enrollment', 'Course',\n",
            "       'Curricular units 1st sem (evaluations)',\n",
            "       'Curricular units 2nd sem (evaluations)', 'Tuition fees up to date',\n",
            "       'Curricular units 1st sem (grade)',\n",
            "       'Curricular units 1st sem (approved)',\n",
            "       'Curricular units 2nd sem (approved)',\n",
            "       'Curricular units 2nd sem (grade)'],\n",
            "      dtype='object')\n",
            "\n"
          ]
        }
      ]
    },
    {
      "cell_type": "code",
      "source": [
        "#Mostrando os top 15 atributos selcionados de acordo com as técnicas de feature selection\n",
        "\n",
        "print(f\"ANOVA - {red_features_f}\\n\")\n",
        "print(f\"RFE - {red_features_RFE}\\n\")\n",
        "print(f\"ExtraTrees - {red_features_ExT}\")"
      ],
      "metadata": {
        "colab": {
          "base_uri": "https://localhost:8080/"
        },
        "id": "av2q3Vo3ZDkI",
        "outputId": "7db0210a-5cf6-44e6-f28f-7c5155a77b23"
      },
      "execution_count": 45,
      "outputs": [
        {
          "output_type": "stream",
          "name": "stdout",
          "text": [
            "ANOVA - ['Application mode' 'Admission grade' 'Debtor' 'Tuition fees up to date'\n",
            " 'Gender' 'Scholarship holder' 'Age at enrollment'\n",
            " 'Curricular units 1st sem (enrolled)'\n",
            " 'Curricular units 1st sem (evaluations)'\n",
            " 'Curricular units 1st sem (approved)' 'Curricular units 1st sem (grade)'\n",
            " 'Curricular units 2nd sem (enrolled)'\n",
            " 'Curricular units 2nd sem (evaluations)'\n",
            " 'Curricular units 2nd sem (approved)' 'Curricular units 2nd sem (grade)']\n",
            "\n",
            "RFE - ['Marital status' 'Displaced' 'Debtor' 'Tuition fees up to date' 'Gender'\n",
            " 'Scholarship holder' 'Curricular units 1st sem (credited)'\n",
            " 'Curricular units 1st sem (enrolled)'\n",
            " 'Curricular units 1st sem (approved)'\n",
            " 'Curricular units 1st sem (without evaluations)'\n",
            " 'Curricular units 2nd sem (credited)'\n",
            " 'Curricular units 2nd sem (enrolled)'\n",
            " 'Curricular units 2nd sem (evaluations)'\n",
            " 'Curricular units 2nd sem (approved)'\n",
            " 'Curricular units 2nd sem (without evaluations)']\n",
            "\n",
            "ExtraTrees - Index(['Mother's occupation', 'Father's occupation', 'Application mode',\n",
            "       'Previous qualification (grade)', 'Admission grade',\n",
            "       'Scholarship holder', 'Age at enrollment', 'Course',\n",
            "       'Curricular units 1st sem (evaluations)',\n",
            "       'Curricular units 2nd sem (evaluations)', 'Tuition fees up to date',\n",
            "       'Curricular units 1st sem (grade)',\n",
            "       'Curricular units 1st sem (approved)',\n",
            "       'Curricular units 2nd sem (approved)',\n",
            "       'Curricular units 2nd sem (grade)'],\n",
            "      dtype='object')\n"
          ]
        }
      ]
    },
    {
      "cell_type": "code",
      "source": [
        "#Retreinando o modelo com inputs reduzidos de acordo com cada técnica\n",
        "\n",
        "X_anova = np.array(dataset.loc[:,red_features_f].copy())\n",
        "X_rfe = np.array(dataset.loc[:,red_features_RFE].copy())\n",
        "X_ExT = np.array(dataset.loc[:,red_features_ExT].copy())\n",
        "\n",
        "feat_red_tecs = [(\"ANOVA\",X_anova),\n",
        "                (\"RFE\", X_rfe),\n",
        "                (\"ExT\",X_ExT)]\n",
        "\n",
        "new_results = []\n",
        "names = []\n",
        "\n",
        "for name,model in models:\n",
        "  for i in feat_red_tecs:\n",
        "    if name in best_models_list:\n",
        "      print(f\"{i[0]} training\")\n",
        "      #new splits\n",
        "      X_train, X_test, y_train, y_test = train_test_split(i[1],y, test_size=0.2, random_state=10)\n",
        "      cv_results = cross_val_score(model,X_train,y_train,cv=kfold,scoring='accuracy')\n",
        "      new_results.append(cv_results)\n",
        "      names.append(name+\"-\"+i[0])\n",
        "\n",
        "      msg = f\"{name}-{i[0]}: {cv_results.mean()} ({cv_results.std()})\"\n",
        "      print(msg)\n",
        "fig = plt.figure()\n",
        "fig.suptitle(f'Comparação dos Modelos com Feature Reduction')\n",
        "ax = fig.add_subplot(111)\n",
        "plt.boxplot(new_results)\n",
        "ax.set_xticklabels(names, rotation = 45)\n",
        "plt.show()\n"
      ],
      "metadata": {
        "colab": {
          "base_uri": "https://localhost:8080/",
          "height": 848
        },
        "id": "mV7Hu7sDkqUf",
        "outputId": "b8ed9e03-f394-45fb-c366-d26e90360293"
      },
      "execution_count": 46,
      "outputs": [
        {
          "output_type": "stream",
          "name": "stdout",
          "text": [
            "ANOVA training\n",
            "LR-ANOVA: 0.7651886173396714 (0.014581238931198266)\n",
            "RFE training\n",
            "LR-RFE: 0.7674437028856773 (0.01766379139362151)\n",
            "ExT training\n",
            "LR-ExT: 0.7015972855748147 (0.025887845917512583)\n",
            "ANOVA training\n",
            "CART-ANOVA: 0.6747707303020117 (0.022876279745073468)\n",
            "RFE training\n",
            "CART-RFE: 0.7069645172132328 (0.029204952134647258)\n",
            "ExT training\n",
            "CART-ExT: 0.6789984155183176 (0.02623187833464461)\n",
            "ANOVA training\n",
            "NB-ANOVA: 0.7216641859125174 (0.021644211414913423)\n",
            "RFE training\n",
            "NB-RFE: 0.6897384804980715 (0.02215459519516164)\n",
            "ExT training\n",
            "NB-ExT: 0.7052808053648308 (0.019001207582004985)\n"
          ]
        },
        {
          "output_type": "display_data",
          "data": {
            "text/plain": [
              "<Figure size 640x480 with 1 Axes>"
            ],
            "image/png": "[encoded data removed]"
          },
          "metadata": {}
        }
      ]
    },
    {
      "cell_type": "code",
      "source": [
        "#Testando a precisão dos modelos retreinados\n",
        "predict_results = {}\n",
        "\n",
        "for name,model in models:\n",
        "  for i in feat_red_tecs:\n",
        "    if name in best_models_list:\n",
        "      model = model\n",
        "      X_train, X_test, y_train, y_test = train_test_split(i[1],y, test_size=0.2, random_state=10)\n",
        "      model.fit(X_train,y_train)\n",
        "      predictions = model.predict(X_test)\n",
        "      ind_metrics = {}\n",
        "      a = accuracy_score(y_test,predictions)\n",
        "      r = recall_score(y_test,predictions,average='weighted')\n",
        "      p = precision_score(y_test,predictions,average='weighted')\n",
        "      f = f1_score(y_test,predictions,average='weighted')\n",
        "      ind_metrics['accuracy'] = a\n",
        "      ind_metrics['recall'] = r\n",
        "      ind_metrics['precision'] = p\n",
        "      ind_metrics['f1_score'] = f\n",
        "      metrics_comparison[f\"{name}-{i[0]}\"]= ind_metrics\n",
        "      print(f\"Acurácia de {name}-{i[0]}: {a:.2%} \")\n",
        "      print(f\"Revocação de {name}-{i[0]}: {r:.2%} \")\n",
        "      print(f\"Precisão de {name}-{i[0]}: {p:.2%} \")\n",
        "      print(f\"F1 score de {name}-{i[0]}: {f:.2%} \\n\")\n",
        "\n",
        "      predict_results[f\"{name}-{i[0]}\"]=accuracy_score(y_test,predictions)\n"
      ],
      "metadata": {
        "colab": {
          "base_uri": "https://localhost:8080/"
        },
        "id": "r1iDSc9SkqeB",
        "outputId": "f6ce6a0a-a607-4cb8-bd33-1f6786daed5d"
      },
      "execution_count": 47,
      "outputs": [
        {
          "output_type": "stream",
          "name": "stdout",
          "text": [
            "Acurácia de LR-ANOVA: 74.35% \n",
            "Revocação de LR-ANOVA: 74.35% \n",
            "Precisão de LR-ANOVA: 72.33% \n",
            "F1 score de LR-ANOVA: 72.48% \n",
            "\n",
            "Acurácia de LR-RFE: 72.66% \n",
            "Revocação de LR-RFE: 72.66% \n",
            "Precisão de LR-RFE: 69.00% \n",
            "F1 score de LR-RFE: 69.11% \n",
            "\n",
            "Acurácia de LR-ExT: 66.89% \n",
            "Revocação de LR-ExT: 66.89% \n",
            "Precisão de LR-ExT: 63.01% \n",
            "F1 score de LR-ExT: 61.98% \n",
            "\n",
            "Acurácia de CART-ANOVA: 66.78% \n",
            "Revocação de CART-ANOVA: 66.78% \n",
            "Precisão de CART-ANOVA: 67.38% \n",
            "F1 score de CART-ANOVA: 67.06% \n",
            "\n",
            "Acurácia de CART-RFE: 72.09% \n",
            "Revocação de CART-RFE: 72.09% \n",
            "Precisão de CART-RFE: 71.69% \n",
            "F1 score de CART-RFE: 71.87% \n",
            "\n",
            "Acurácia de CART-ExT: 64.86% \n",
            "Revocação de CART-ExT: 64.86% \n",
            "Precisão de CART-ExT: 65.59% \n",
            "F1 score de CART-ExT: 65.20% \n",
            "\n",
            "Acurácia de NB-ANOVA: 69.15% \n",
            "Revocação de NB-ANOVA: 69.15% \n",
            "Precisão de NB-ANOVA: 66.75% \n",
            "F1 score de NB-ANOVA: 67.18% \n",
            "\n",
            "Acurácia de NB-RFE: 65.88% \n",
            "Revocação de NB-RFE: 65.88% \n",
            "Precisão de NB-RFE: 65.49% \n",
            "F1 score de NB-RFE: 65.65% \n",
            "\n",
            "Acurácia de NB-ExT: 67.57% \n",
            "Revocação de NB-ExT: 67.57% \n",
            "Precisão de NB-ExT: 63.94% \n",
            "F1 score de NB-ExT: 63.78% \n",
            "\n"
          ]
        }
      ]
    },
    {
      "cell_type": "code",
      "source": [
        "#Relembrando as acurácias originais para uma comparação rápida\n",
        "for name,model in models:\n",
        "  if name in best_models_list:\n",
        "    model = model\n",
        "    X_train, X_test, y_train, y_test = train_test_split(X,y, test_size=0.2, random_state=10)\n",
        "    model.fit(X_train,y_train)\n",
        "    predictions = model.predict(X_test)\n",
        "    print(f\"Precisão de {name}: {accuracy_score(y_test,predictions):.2%} \")\n",
        "    predict_results[f\"{name}\"]=accuracy_score(y_test,predictions)"
      ],
      "metadata": {
        "colab": {
          "base_uri": "https://localhost:8080/"
        },
        "id": "cUVQezfQkqff",
        "outputId": "2c5e1ef0-c2d5-429d-a541-6fc890892a77"
      },
      "execution_count": 48,
      "outputs": [
        {
          "output_type": "stream",
          "name": "stdout",
          "text": [
            "Precisão de LR: 66.89% \n",
            "Precisão de CART: 68.47% \n",
            "Precisão de NB: 64.29% \n"
          ]
        }
      ]
    },
    {
      "cell_type": "code",
      "source": [
        "for i in predict_results.keys():\n",
        "  if \"LR-\" in i:\n",
        "    print(f\"{i} - {predict_results[i]/predict_results['LR']-1:.2%}\")\n",
        "  elif \"CART-\" in i:\n",
        "    print(f\"{i} - {predict_results[i]/predict_results['LR']-1:.2%}\")\n",
        "  elif \"NB-\" in i:\n",
        "    print(f\"{i} - {predict_results[i]/predict_results['NB']-1:.2%}\")"
      ],
      "metadata": {
        "colab": {
          "base_uri": "https://localhost:8080/"
        },
        "id": "EfIAGsOcsCK6",
        "outputId": "9777431e-9d96-45bf-f6d8-a3abb1f7d72b"
      },
      "execution_count": 49,
      "outputs": [
        {
          "output_type": "stream",
          "name": "stdout",
          "text": [
            "LR-ANOVA - 11.15%\n",
            "LR-RFE - 8.61%\n",
            "LR-ExT - 0.00%\n",
            "CART-ANOVA - -0.17%\n",
            "CART-RFE - 7.77%\n",
            "CART-ExT - -3.04%\n",
            "NB-ANOVA - 7.56%\n",
            "NB-RFE - 2.46%\n",
            "NB-ExT - 5.10%\n"
          ]
        }
      ]
    },
    {
      "cell_type": "markdown",
      "source": [
        "Por essa análise, foi possível observar que reduzindo o número de atributos foi possível aumentar a acurácia da maioria dos modelos quando comparado com o resultado utilizando todos os atributos. Porém, pra alguns modelos como no CART, houve uma piora quando aplicada as técnicas de ANOVA e da Extra Tree.\n"
      ],
      "metadata": {
        "id": "7iprgK4_vkTk"
      }
    },
    {
      "cell_type": "markdown",
      "source": [
        "Ainda buscando otimizar esses três modelos, é possível testar diferentes hiperparâmetros com o GridSearchCV.\n"
      ],
      "metadata": {
        "id": "26Dnd-jrvkV4"
      }
    },
    {
      "cell_type": "markdown",
      "source": [
        "Para isso, verifica-se quais os parâmetros existentes de cada modelo, para então propor possíveis alterações e avaliar o impacto delas na precisão do mesmo."
      ],
      "metadata": {
        "id": "5PEzrTKJ1g8t"
      }
    },
    {
      "cell_type": "code",
      "source": [
        "LogisticRegression().get_params()"
      ],
      "metadata": {
        "colab": {
          "base_uri": "https://localhost:8080/"
        },
        "id": "MNUTIEt0pPVP",
        "outputId": "793cb9ac-8a9f-4bc1-a799-c1fbac659c24"
      },
      "execution_count": 50,
      "outputs": [
        {
          "output_type": "execute_result",
          "data": {
            "text/plain": [
              "{'C': 1.0,\n",
              " 'class_weight': None,\n",
              " 'dual': False,\n",
              " 'fit_intercept': True,\n",
              " 'intercept_scaling': 1,\n",
              " 'l1_ratio': None,\n",
              " 'max_iter': 100,\n",
              " 'multi_class': 'auto',\n",
              " 'n_jobs': None,\n",
              " 'penalty': 'l2',\n",
              " 'random_state': None,\n",
              " 'solver': 'lbfgs',\n",
              " 'tol': 0.0001,\n",
              " 'verbose': 0,\n",
              " 'warm_start': False}"
            ]
          },
          "metadata": {},
          "execution_count": 50
        }
      ]
    },
    {
      "cell_type": "code",
      "source": [
        "GaussianNB().get_params()"
      ],
      "metadata": {
        "colab": {
          "base_uri": "https://localhost:8080/"
        },
        "id": "ctr-3x7KpQcX",
        "outputId": "7a7d09ed-e467-49fc-84aa-d46f8ab25f37"
      },
      "execution_count": 51,
      "outputs": [
        {
          "output_type": "execute_result",
          "data": {
            "text/plain": [
              "{'priors': None, 'var_smoothing': 1e-09}"
            ]
          },
          "metadata": {},
          "execution_count": 51
        }
      ]
    },
    {
      "cell_type": "code",
      "source": [
        "DecisionTreeClassifier().get_params()"
      ],
      "metadata": {
        "colab": {
          "base_uri": "https://localhost:8080/"
        },
        "id": "2-MC60PcpQUi",
        "outputId": "ed5f672f-1ec0-41c9-f6df-993e74399f9a"
      },
      "execution_count": 52,
      "outputs": [
        {
          "output_type": "execute_result",
          "data": {
            "text/plain": [
              "{'ccp_alpha': 0.0,\n",
              " 'class_weight': None,\n",
              " 'criterion': 'gini',\n",
              " 'max_depth': None,\n",
              " 'max_features': None,\n",
              " 'max_leaf_nodes': None,\n",
              " 'min_impurity_decrease': 0.0,\n",
              " 'min_samples_leaf': 1,\n",
              " 'min_samples_split': 2,\n",
              " 'min_weight_fraction_leaf': 0.0,\n",
              " 'random_state': None,\n",
              " 'splitter': 'best'}"
            ]
          },
          "metadata": {},
          "execution_count": 52
        }
      ]
    },
    {
      "cell_type": "code",
      "source": [
        "#Definindo os parâmetros a serem testados nos modelos com o GridSearchCV\n",
        "CART_param_grid = {'criterion':['gini','entropy'],\n",
        "                 'max_features': [6,10,15,18],\n",
        "                 'splitter':['best','random'],\n",
        "                 'max_depth':[2,10,50,100]\n",
        "}\n",
        "\n",
        "LR_param_grid = {'C': [1.0],\n",
        "                'class_weight': [None,'balanced'],\n",
        "                'max_iter': [200,300,400],\n",
        "                'n_jobs': [-1],\n",
        "                'penalty': ['l2'],\n",
        "                'solver': ['lbfgs','newton-cg','liblinear']\n",
        "}\n",
        "\n",
        "NB_param_grid = {'var_smoothing': [1e-5, 1e-6, 1e-7, 1e-8, 1e-9, 1e-10, 1e-11, 1e-12]}\n"
      ],
      "metadata": {
        "id": "Y-j_rPoUpQM4"
      },
      "execution_count": 53,
      "outputs": []
    },
    {
      "cell_type": "code",
      "source": [
        "top_3_models = list(zip(best_models_list,(GaussianNB(),DecisionTreeClassifier(),LogisticRegression()),(NB_param_grid,CART_param_grid,LR_param_grid)))"
      ],
      "metadata": {
        "id": "oYUeTil10hui"
      },
      "execution_count": 54,
      "outputs": []
    },
    {
      "cell_type": "code",
      "source": [
        "#Buscando pelos melhores parâmetros\n",
        "\n",
        "X_train, X_test, y_train, y_test = train_test_split(X,y, test_size=0.2, random_state=10) #Por razões práticas, redefi o train/test split de novo nesta célula\n",
        "\n",
        "for name,model,params in top_3_models:\n",
        "  print(f\"Testing {name} parameters\")\n",
        "  grid = GridSearchCV(estimator=model,param_grid=params,scoring='accuracy',cv=kfold,n_jobs=-1)\n",
        "  grid.fit(X_train,y_train)\n",
        "  print(f\"{name} - Melhor: {grid.best_score_} usando os seguintes parametros {grid.best_params_}\")\n",
        "  predictions = grid.predict(X_test)\n",
        "  ind_metrics = {}\n",
        "  a = accuracy_score(y_test,predictions)\n",
        "  r = recall_score(y_test,predictions,average='weighted')\n",
        "  p = precision_score(y_test,predictions,average='weighted')\n",
        "  f = f1_score(y_test,predictions,average='weighted')\n",
        "  ind_metrics['accuracy'] = a\n",
        "  ind_metrics['recall'] = r\n",
        "  ind_metrics['precision'] = p\n",
        "  ind_metrics['f1_score'] = f\n",
        "  metrics_comparison[f\"{name}-GridSearchCV\"]= ind_metrics\n",
        "  print(f\"Acurácia de {name}-GridSearchCV: {a:.2%} \")\n",
        "  print(f\"Revocação de {name}-GridSearchCV: {r:.2%} \")\n",
        "  print(f\"Precisão de {name}-GridSearchCV: {p:.2%} \")\n",
        "  print(f\"F1 score de {name}-GridSearchCV: {f:.2%} \\n\")\n"
      ],
      "metadata": {
        "colab": {
          "base_uri": "https://localhost:8080/"
        },
        "id": "K5Q8Mzqp0hpi",
        "outputId": "534c397f-83f7-44cc-c6e2-a43485003f39"
      },
      "execution_count": 55,
      "outputs": [
        {
          "output_type": "stream",
          "name": "stdout",
          "text": [
            "Testing NB parameters\n",
            "NB - Melhor: 0.6973567964661257 usando os seguintes parametros {'var_smoothing': 1e-08}\n",
            "Acurácia de NB-GridSearchCV: 66.89% \n",
            "Revocação de NB-GridSearchCV: 66.89% \n",
            "Precisão de NB-GridSearchCV: 64.75% \n",
            "F1 score de NB-GridSearchCV: 65.31% \n",
            "\n",
            "Testing CART parameters\n",
            "CART - Melhor: 0.732123365503113 usando os seguintes parametros {'criterion': 'gini', 'max_depth': 10, 'max_features': 18, 'splitter': 'random'}\n",
            "Acurácia de CART-GridSearchCV: 68.70% \n",
            "Revocação de CART-GridSearchCV: 68.70% \n",
            "Precisão de CART-GridSearchCV: 65.98% \n",
            "F1 score de CART-GridSearchCV: 66.88% \n",
            "\n",
            "Testing LR parameters\n",
            "LR - Melhor: 0.7713977049022903 usando os seguintes parametros {'C': 1.0, 'class_weight': None, 'max_iter': 200, 'n_jobs': -1, 'penalty': 'l2', 'solver': 'liblinear'}\n",
            "Acurácia de LR-GridSearchCV: 73.45% \n",
            "Revocação de LR-GridSearchCV: 73.45% \n",
            "Precisão de LR-GridSearchCV: 69.99% \n",
            "F1 score de LR-GridSearchCV: 69.74% \n",
            "\n"
          ]
        }
      ]
    },
    {
      "cell_type": "code",
      "source": [
        "#Testando o GridSearch com o feature selection\n",
        "for i in feat_red_tecs:\n",
        "  print(f\"\\nCombinando input reduizo via {i[0]}\\n\")\n",
        "  X_train, X_test, y_train, y_test = train_test_split(i[1],y, test_size=0.2, random_state=10)\n",
        "  for name,model,params in top_3_models:\n",
        "    print(f\"Testing {name} parameters\")\n",
        "    grid = GridSearchCV(estimator=model,param_grid=params,scoring='accuracy',cv=kfold,n_jobs=-1)\n",
        "    grid.fit(X_train,y_train)\n",
        "    print(f\"{name} - Melhor: {grid.best_score_} usando os seguintes parametros {grid.best_params_}\")\n",
        "    predictions = grid.predict(X_test)\n",
        "    ind_metrics = {}\n",
        "    a = accuracy_score(y_test,predictions)\n",
        "    r = recall_score(y_test,predictions,average='weighted')\n",
        "    p = precision_score(y_test,predictions,average='weighted')\n",
        "    f = f1_score(y_test,predictions,average='weighted')\n",
        "    ind_metrics['accuracy'] = a\n",
        "    ind_metrics['recall'] = r\n",
        "    ind_metrics['precision'] = p\n",
        "    ind_metrics['f1_score'] = f\n",
        "    metrics_comparison[f\"{name}-{i[0]}+GridSearchCV\"]= ind_metrics\n",
        "    print(f\"Acurácia de {name}-{i[0]}+GridSearchCV: {a:.2%} \")\n",
        "    print(f\"Revocação de {name}-{i[0]}+GridSearchCV: {r:.2%} \")\n",
        "    print(f\"Precisão de {name}-{i[0]}+GridSearchCV: {p:.2%} \")\n",
        "    print(f\"F1 score de {name}-{i[0]}+GridSearchCV: {f:.2%} \\n\")\n",
        "\n"
      ],
      "metadata": {
        "colab": {
          "base_uri": "https://localhost:8080/"
        },
        "id": "6buy5dU90hlv",
        "outputId": "d966622c-6df5-4225-ef0f-3621123792de"
      },
      "execution_count": 56,
      "outputs": [
        {
          "output_type": "stream",
          "name": "stdout",
          "text": [
            "\n",
            "Combinando input reduizo via ANOVA\n",
            "\n",
            "Testing NB parameters\n",
            "NB - Melhor: 0.7242081592804213 usando os seguintes parametros {'var_smoothing': 1e-05}\n",
            "Acurácia de NB-ANOVA+GridSearchCV: 69.38% \n",
            "Revocação de NB-ANOVA+GridSearchCV: 69.38% \n",
            "Precisão de NB-ANOVA+GridSearchCV: 67.18% \n",
            "F1 score de NB-ANOVA+GridSearchCV: 67.59% \n",
            "\n",
            "Testing CART parameters\n",
            "CART - Melhor: 0.7394735999743922 usando os seguintes parametros {'criterion': 'entropy', 'max_depth': 10, 'max_features': 15, 'splitter': 'random'}\n",
            "Acurácia de CART-ANOVA+GridSearchCV: 70.73% \n",
            "Revocação de CART-ANOVA+GridSearchCV: 70.73% \n",
            "Precisão de CART-ANOVA+GridSearchCV: 69.58% \n",
            "F1 score de CART-ANOVA+GridSearchCV: 69.95% \n",
            "\n",
            "Testing LR parameters\n",
            "LR - Melhor: 0.7702725628591092 usando os seguintes parametros {'C': 1.0, 'class_weight': None, 'max_iter': 300, 'n_jobs': -1, 'penalty': 'l2', 'solver': 'lbfgs'}\n",
            "Acurácia de LR-ANOVA+GridSearchCV: 73.45% \n",
            "Revocação de LR-ANOVA+GridSearchCV: 73.45% \n",
            "Precisão de LR-ANOVA+GridSearchCV: 71.14% \n",
            "F1 score de LR-ANOVA+GridSearchCV: 71.28% \n",
            "\n",
            "\n",
            "Combinando input reduizo via RFE\n",
            "\n",
            "Testing NB parameters\n",
            "NB - Melhor: 0.6897384804980715 usando os seguintes parametros {'var_smoothing': 1e-07}\n",
            "Acurácia de NB-RFE+GridSearchCV: 65.88% \n",
            "Revocação de NB-RFE+GridSearchCV: 65.88% \n",
            "Precisão de NB-RFE+GridSearchCV: 65.49% \n",
            "F1 score de NB-RFE+GridSearchCV: 65.65% \n",
            "\n",
            "Testing CART parameters\n",
            "CART - Melhor: 0.7490789199916775 usando os seguintes parametros {'criterion': 'entropy', 'max_depth': 10, 'max_features': 10, 'splitter': 'random'}\n",
            "Acurácia de CART-RFE+GridSearchCV: 73.33% \n",
            "Revocação de CART-RFE+GridSearchCV: 73.33% \n",
            "Precisão de CART-RFE+GridSearchCV: 71.15% \n",
            "F1 score de CART-RFE+GridSearchCV: 71.59% \n",
            "\n",
            "Testing LR parameters\n",
            "LR - Melhor: 0.7674437028856773 usando os seguintes parametros {'C': 1.0, 'class_weight': None, 'max_iter': 200, 'n_jobs': -1, 'penalty': 'l2', 'solver': 'lbfgs'}\n",
            "Acurácia de LR-RFE+GridSearchCV: 72.66% \n",
            "Revocação de LR-RFE+GridSearchCV: 72.66% \n",
            "Precisão de LR-RFE+GridSearchCV: 69.00% \n",
            "F1 score de LR-RFE+GridSearchCV: 69.11% \n",
            "\n",
            "\n",
            "Combinando input reduizo via ExT\n",
            "\n",
            "Testing NB parameters\n",
            "NB - Melhor: 0.7086738368464014 usando os seguintes parametros {'var_smoothing': 1e-08}\n",
            "Acurácia de NB-ExT+GridSearchCV: 68.47% \n",
            "Revocação de NB-ExT+GridSearchCV: 68.47% \n",
            "Precisão de NB-ExT+GridSearchCV: 65.70% \n",
            "F1 score de NB-ExT+GridSearchCV: 65.34% \n",
            "\n",
            "Testing CART parameters\n",
            "CART - Melhor: 0.7338174805140761 usando os seguintes parametros {'criterion': 'gini', 'max_depth': 10, 'max_features': 18, 'splitter': 'random'}\n",
            "Acurácia de CART-ExT+GridSearchCV: 70.96% \n",
            "Revocação de CART-ExT+GridSearchCV: 70.96% \n",
            "Precisão de CART-ExT+GridSearchCV: 68.50% \n",
            "F1 score de CART-ExT+GridSearchCV: 69.02% \n",
            "\n",
            "Testing LR parameters\n",
            "LR - Melhor: 0.752184664137898 usando os seguintes parametros {'C': 1.0, 'class_weight': None, 'max_iter': 200, 'n_jobs': -1, 'penalty': 'l2', 'solver': 'newton-cg'}\n",
            "Acurácia de LR-ExT+GridSearchCV: 71.75% \n",
            "Revocação de LR-ExT+GridSearchCV: 71.75% \n",
            "Precisão de LR-ExT+GridSearchCV: 69.69% \n",
            "F1 score de LR-ExT+GridSearchCV: 69.90% \n",
            "\n"
          ]
        }
      ]
    },
    {
      "cell_type": "markdown",
      "source": [
        "Utilizar a predição logo no grid é possível por conta do parâmetro default refit=True, que já otimiza o estimator com os melhores parâmetros identificados."
      ],
      "metadata": {
        "id": "gImWyrXbpRTO"
      }
    },
    {
      "cell_type": "code",
      "source": [
        "#Organizando as métricas em um dataframe para melhor visualização\n",
        "full_metrics = [i for i in metrics_comparison.items()]\n",
        "metrics_index = [i[0] for i in full_metrics]\n",
        "metrics_data =  [i[1] for i in full_metrics]\n",
        "df_metrics = pd.DataFrame(metrics_data, index=metrics_index)\n",
        "df_metrics = np.around(df_metrics*100,2)\n",
        "df_metrics.sort_index()\n"
      ],
      "metadata": {
        "colab": {
          "base_uri": "https://localhost:8080/",
          "height": 638
        },
        "id": "uhitUU0PcJRF",
        "outputId": "b22c4635-d275-4fb6-dc52-37b1e1f3c6f6"
      },
      "execution_count": 92,
      "outputs": [
        {
          "output_type": "execute_result",
          "data": {
            "text/plain": [
              "                         accuracy  recall  precision  f1_score\n",
              "CART                        68.14   68.14      67.65     67.87\n",
              "CART-ANOVA                  66.78   66.78      67.38     67.06\n",
              "CART-ANOVA+GridSearchCV     70.73   70.73      69.58     69.95\n",
              "CART-ExT                    64.86   64.86      65.59     65.20\n",
              "CART-ExT+GridSearchCV       70.96   70.96      68.50     69.02\n",
              "CART-GridSearchCV           68.70   68.70      65.98     66.88\n",
              "CART-RFE                    72.09   72.09      71.69     71.87\n",
              "CART-RFE+GridSearchCV       73.33   73.33      71.15     71.59\n",
              "LR                          66.89   66.89      63.54     62.23\n",
              "LR-ANOVA                    74.35   74.35      72.33     72.48\n",
              "LR-ANOVA+GridSearchCV       73.45   73.45      71.14     71.28\n",
              "LR-ExT                      66.89   66.89      63.01     61.98\n",
              "LR-ExT+GridSearchCV         71.75   71.75      69.69     69.90\n",
              "LR-GridSearchCV             73.45   73.45      69.99     69.74\n",
              "LR-RFE                      72.66   72.66      69.00     69.11\n",
              "LR-RFE+GridSearchCV         72.66   72.66      69.00     69.11\n",
              "NB                          64.29   64.29      61.19     62.26\n",
              "NB-ANOVA                    69.15   69.15      66.75     67.18\n",
              "NB-ANOVA+GridSearchCV       69.38   69.38      67.18     67.59\n",
              "NB-ExT                      67.57   67.57      63.94     63.78\n",
              "NB-ExT+GridSearchCV         68.47   68.47      65.70     65.34\n",
              "NB-GridSearchCV             66.89   66.89      64.75     65.31\n",
              "NB-RFE                      65.88   65.88      65.49     65.65\n",
              "NB-RFE+GridSearchCV         65.88   65.88      65.49     65.65"
            ],
            "text/html": [
              "\n",
              "\n",
              "  <div id=\"df-96f46219-e659-4224-9274-a5b942ba2da0\">\n",
              "    <div class=\"colab-df-container\">\n",
              "      <div>\n",
              "<style scoped>\n",
              "    .dataframe tbody tr th:only-of-type {\n",
              "        vertical-align: middle;\n",
              "    }\n",
              "\n",
              "    .dataframe tbody tr th {\n",
              "        vertical-align: top;\n",
              "    }\n",
              "\n",
              "    .dataframe thead th {\n",
              "        text-align: right;\n",
              "    }\n",
              "</style>\n",
              "<table border=\"1\" class=\"dataframe\">\n",
              "  <thead>\n",
              "    <tr style=\"text-align: right;\">\n",
              "      <th></th>\n",
              "      <th>accuracy</th>\n",
              "      <th>recall</th>\n",
              "      <th>precision</th>\n",
              "      <th>f1_score</th>\n",
              "    </tr>\n",
              "  </thead>\n",
              "  <tbody>\n",
              "    <tr>\n",
              "      <th>CART</th>\n",
              "      <td>68.14</td>\n",
              "      <td>68.14</td>\n",
              "      <td>67.65</td>\n",
              "      <td>67.87</td>\n",
              "    </tr>\n",
              "    <tr>\n",
              "      <th>CART-ANOVA</th>\n",
              "      <td>66.78</td>\n",
              "      <td>66.78</td>\n",
              "      <td>67.38</td>\n",
              "      <td>67.06</td>\n",
              "    </tr>\n",
              "    <tr>\n",
              "      <th>CART-ANOVA+GridSearchCV</th>\n",
              "      <td>70.73</td>\n",
              "      <td>70.73</td>\n",
              "      <td>69.58</td>\n",
              "      <td>69.95</td>\n",
              "    </tr>\n",
              "    <tr>\n",
              "      <th>CART-ExT</th>\n",
              "      <td>64.86</td>\n",
              "      <td>64.86</td>\n",
              "      <td>65.59</td>\n",
              "      <td>65.20</td>\n",
              "    </tr>\n",
              "    <tr>\n",
              "      <th>CART-ExT+GridSearchCV</th>\n",
              "      <td>70.96</td>\n",
              "      <td>70.96</td>\n",
              "      <td>68.50</td>\n",
              "      <td>69.02</td>\n",
              "    </tr>\n",
              "    <tr>\n",
              "      <th>CART-GridSearchCV</th>\n",
              "      <td>68.70</td>\n",
              "      <td>68.70</td>\n",
              "      <td>65.98</td>\n",
              "      <td>66.88</td>\n",
              "    </tr>\n",
              "    <tr>\n",
              "      <th>CART-RFE</th>\n",
              "      <td>72.09</td>\n",
              "      <td>72.09</td>\n",
              "      <td>71.69</td>\n",
              "      <td>71.87</td>\n",
              "    </tr>\n",
              "    <tr>\n",
              "      <th>CART-RFE+GridSearchCV</th>\n",
              "      <td>73.33</td>\n",
              "      <td>73.33</td>\n",
              "      <td>71.15</td>\n",
              "      <td>71.59</td>\n",
              "    </tr>\n",
              "    <tr>\n",
              "      <th>LR</th>\n",
              "      <td>66.89</td>\n",
              "      <td>66.89</td>\n",
              "      <td>63.54</td>\n",
              "      <td>62.23</td>\n",
              "    </tr>\n",
              "    <tr>\n",
              "      <th>LR-ANOVA</th>\n",
              "      <td>74.35</td>\n",
              "      <td>74.35</td>\n",
              "      <td>72.33</td>\n",
              "      <td>72.48</td>\n",
              "    </tr>\n",
              "    <tr>\n",
              "      <th>LR-ANOVA+GridSearchCV</th>\n",
              "      <td>73.45</td>\n",
              "      <td>73.45</td>\n",
              "      <td>71.14</td>\n",
              "      <td>71.28</td>\n",
              "    </tr>\n",
              "    <tr>\n",
              "      <th>LR-ExT</th>\n",
              "      <td>66.89</td>\n",
              "      <td>66.89</td>\n",
              "      <td>63.01</td>\n",
              "      <td>61.98</td>\n",
              "    </tr>\n",
              "    <tr>\n",
              "      <th>LR-ExT+GridSearchCV</th>\n",
              "      <td>71.75</td>\n",
              "      <td>71.75</td>\n",
              "      <td>69.69</td>\n",
              "      <td>69.90</td>\n",
              "    </tr>\n",
              "    <tr>\n",
              "      <th>LR-GridSearchCV</th>\n",
              "      <td>73.45</td>\n",
              "      <td>73.45</td>\n",
              "      <td>69.99</td>\n",
              "      <td>69.74</td>\n",
              "    </tr>\n",
              "    <tr>\n",
              "      <th>LR-RFE</th>\n",
              "      <td>72.66</td>\n",
              "      <td>72.66</td>\n",
              "      <td>69.00</td>\n",
              "      <td>69.11</td>\n",
              "    </tr>\n",
              "    <tr>\n",
              "      <th>LR-RFE+GridSearchCV</th>\n",
              "      <td>72.66</td>\n",
              "      <td>72.66</td>\n",
              "      <td>69.00</td>\n",
              "      <td>69.11</td>\n",
              "    </tr>\n",
              "    <tr>\n",
              "      <th>NB</th>\n",
              "      <td>64.29</td>\n",
              "      <td>64.29</td>\n",
              "      <td>61.19</td>\n",
              "      <td>62.26</td>\n",
              "    </tr>\n",
              "    <tr>\n",
              "      <th>NB-ANOVA</th>\n",
              "      <td>69.15</td>\n",
              "      <td>69.15</td>\n",
              "      <td>66.75</td>\n",
              "      <td>67.18</td>\n",
              "    </tr>\n",
              "    <tr>\n",
              "      <th>NB-ANOVA+GridSearchCV</th>\n",
              "      <td>69.38</td>\n",
              "      <td>69.38</td>\n",
              "      <td>67.18</td>\n",
              "      <td>67.59</td>\n",
              "    </tr>\n",
              "    <tr>\n",
              "      <th>NB-ExT</th>\n",
              "      <td>67.57</td>\n",
              "      <td>67.57</td>\n",
              "      <td>63.94</td>\n",
              "      <td>63.78</td>\n",
              "    </tr>\n",
              "    <tr>\n",
              "      <th>NB-ExT+GridSearchCV</th>\n",
              "      <td>68.47</td>\n",
              "      <td>68.47</td>\n",
              "      <td>65.70</td>\n",
              "      <td>65.34</td>\n",
              "    </tr>\n",
              "    <tr>\n",
              "      <th>NB-GridSearchCV</th>\n",
              "      <td>66.89</td>\n",
              "      <td>66.89</td>\n",
              "      <td>64.75</td>\n",
              "      <td>65.31</td>\n",
              "    </tr>\n",
              "    <tr>\n",
              "      <th>NB-RFE</th>\n",
              "      <td>65.88</td>\n",
              "      <td>65.88</td>\n",
              "      <td>65.49</td>\n",
              "      <td>65.65</td>\n",
              "    </tr>\n",
              "    <tr>\n",
              "      <th>NB-RFE+GridSearchCV</th>\n",
              "      <td>65.88</td>\n",
              "      <td>65.88</td>\n",
              "      <td>65.49</td>\n",
              "      <td>65.65</td>\n",
              "    </tr>\n",
              "  </tbody>\n",
              "</table>\n",
              "</div>\n",
              "      <button class=\"colab-df-convert\" onclick=\"convertToInteractive('df-96f46219-e659-4224-9274-a5b942ba2da0')\"\n",
              "              title=\"Convert this dataframe to an interactive table.\"\n",
              "              style=\"display:none;\">\n",
              "\n",
              "  <svg xmlns=\"http://www.w3.org/2000/svg\" height=\"24px\"viewBox=\"0 0 24 24\"\n",
              "       width=\"24px\">\n",
              "    <path d=\"M0 0h24v24H0V0z\" fill=\"none\"/>\n",
              "    <path d=\"M18.56 5.44l.94 2.06.94-2.06 2.06-.94-2.06-.94-.94-2.06-.94 2.06-2.06.94zm-11 1L8.5 8.5l.94-2.06 2.06-.94-2.06-.94L8.5 2.5l-.94 2.06-2.06.94zm10 10l.94 2.06.94-2.06 2.06-.94-2.06-.94-.94-2.06-.94 2.06-2.06.94z\"/><path d=\"M17.41 7.96l-1.37-1.37c-.4-.4-.92-.59-1.43-.59-.52 0-1.04.2-1.43.59L10.3 9.45l-7.72 7.72c-.78.78-.78 2.05 0 2.83L4 21.41c.39.39.9.59 1.41.59.51 0 1.02-.2 1.41-.59l7.78-7.78 2.81-2.81c.8-.78.8-2.07 0-2.86zM5.41 20L4 18.59l7.72-7.72 1.47 1.35L5.41 20z\"/>\n",
              "  </svg>\n",
              "      </button>\n",
              "\n",
              "\n",
              "\n",
              "    <div id=\"df-adc0cbba-3d2c-45e9-8b4e-58f091879eb8\">\n",
              "      <button class=\"colab-df-quickchart\" onclick=\"quickchart('df-adc0cbba-3d2c-45e9-8b4e-58f091879eb8')\"\n",
              "              title=\"Suggest charts.\"\n",
              "              style=\"display:none;\">\n",
              "\n",
              "<svg xmlns=\"http://www.w3.org/2000/svg\" height=\"24px\"viewBox=\"0 0 24 24\"\n",
              "     width=\"24px\">\n",
              "    <g>\n",
              "        <path d=\"M19 3H5c-1.1 0-2 .9-2 2v14c0 1.1.9 2 2 2h14c1.1 0 2-.9 2-2V5c0-1.1-.9-2-2-2zM9 17H7v-7h2v7zm4 0h-2V7h2v10zm4 0h-2v-4h2v4z\"/>\n",
              "    </g>\n",
              "</svg>\n",
              "      </button>\n",
              "    </div>\n",
              "\n",
              "<style>\n",
              "  .colab-df-quickchart {\n",
              "    background-color: #E8F0FE;\n",
              "    border: none;\n",
              "    border-radius: 50%;\n",
              "    cursor: pointer;\n",
              "    display: none;\n",
              "    fill: #1967D2;\n",
              "    height: 32px;\n",
              "    padding: 0 0 0 0;\n",
              "    width: 32px;\n",
              "  }\n",
              "\n",
              "  .colab-df-quickchart:hover {\n",
              "    background-color: #E2EBFA;\n",
              "    box-shadow: 0px 1px 2px rgba(60, 64, 67, 0.3), 0px 1px 3px 1px rgba(60, 64, 67, 0.15);\n",
              "    fill: #174EA6;\n",
              "  }\n",
              "\n",
              "  [theme=dark] .colab-df-quickchart {\n",
              "    background-color: #3B4455;\n",
              "    fill: #D2E3FC;\n",
              "  }\n",
              "\n",
              "  [theme=dark] .colab-df-quickchart:hover {\n",
              "    background-color: #434B5C;\n",
              "    box-shadow: 0px 1px 3px 1px rgba(0, 0, 0, 0.15);\n",
              "    filter: drop-shadow(0px 1px 2px rgba(0, 0, 0, 0.3));\n",
              "    fill: #FFFFFF;\n",
              "  }\n",
              "</style>\n",
              "\n",
              "    <script>\n",
              "      async function quickchart(key) {\n",
              "        const containerElement = document.querySelector('#' + key);\n",
              "        const charts = await google.colab.kernel.invokeFunction(\n",
              "            'suggestCharts', [key], {});\n",
              "      }\n",
              "    </script>\n",
              "\n",
              "      <script>\n",
              "\n",
              "function displayQuickchartButton(domScope) {\n",
              "  let quickchartButtonEl =\n",
              "    domScope.querySelector('#df-adc0cbba-3d2c-45e9-8b4e-58f091879eb8 button.colab-df-quickchart');\n",
              "  quickchartButtonEl.style.display =\n",
              "    google.colab.kernel.accessAllowed ? 'block' : 'none';\n",
              "}\n",
              "\n",
              "        displayQuickchartButton(document);\n",
              "      </script>\n",
              "      <style>\n",
              "    .colab-df-container {\n",
              "      display:flex;\n",
              "      flex-wrap:wrap;\n",
              "      gap: 12px;\n",
              "    }\n",
              "\n",
              "    .colab-df-convert {\n",
              "      background-color: #E8F0FE;\n",
              "      border: none;\n",
              "      border-radius: 50%;\n",
              "      cursor: pointer;\n",
              "      display: none;\n",
              "      fill: #1967D2;\n",
              "      height: 32px;\n",
              "      padding: 0 0 0 0;\n",
              "      width: 32px;\n",
              "    }\n",
              "\n",
              "    .colab-df-convert:hover {\n",
              "      background-color: #E2EBFA;\n",
              "      box-shadow: 0px 1px 2px rgba(60, 64, 67, 0.3), 0px 1px 3px 1px rgba(60, 64, 67, 0.15);\n",
              "      fill: #174EA6;\n",
              "    }\n",
              "\n",
              "    [theme=dark] .colab-df-convert {\n",
              "      background-color: #3B4455;\n",
              "      fill: #D2E3FC;\n",
              "    }\n",
              "\n",
              "    [theme=dark] .colab-df-convert:hover {\n",
              "      background-color: #434B5C;\n",
              "      box-shadow: 0px 1px 3px 1px rgba(0, 0, 0, 0.15);\n",
              "      filter: drop-shadow(0px 1px 2px rgba(0, 0, 0, 0.3));\n",
              "      fill: #FFFFFF;\n",
              "    }\n",
              "  </style>\n",
              "\n",
              "      <script>\n",
              "        const buttonEl =\n",
              "          document.querySelector('#df-96f46219-e659-4224-9274-a5b942ba2da0 button.colab-df-convert');\n",
              "        buttonEl.style.display =\n",
              "          google.colab.kernel.accessAllowed ? 'block' : 'none';\n",
              "\n",
              "        async function convertToInteractive(key) {\n",
              "          const element = document.querySelector('#df-96f46219-e659-4224-9274-a5b942ba2da0');\n",
              "          const dataTable =\n",
              "            await google.colab.kernel.invokeFunction('convertToInteractive',\n",
              "                                                     [key], {});\n",
              "          if (!dataTable) return;\n",
              "\n",
              "          const docLinkHtml = 'Like what you see? Visit the ' +\n",
              "            '<a target=\"_blank\" href=https://colab.research.google.com/notebooks/data_table.ipynb>data table notebook</a>'\n",
              "            + ' to learn more about interactive tables.';\n",
              "          element.innerHTML = '';\n",
              "          dataTable['output_type'] = 'display_data';\n",
              "          await google.colab.output.renderOutput(dataTable, element);\n",
              "          const docLink = document.createElement('div');\n",
              "          docLink.innerHTML = docLinkHtml;\n",
              "          element.appendChild(docLink);\n",
              "        }\n",
              "      </script>\n",
              "    </div>\n",
              "  </div>\n"
            ],
            "application/vnd.google.colaboratory.module+javascript": "\n      import \"https://ssl.gstatic.com/colaboratory/data_table/881c4a0d49046431/data_table.js\";\n\n      const table = window.createDataTable({\n        data: [[\"CART\",\n{\n            'v': 68.14,\n            'f': \"68.14\",\n        },\n{\n            'v': 68.14,\n            'f': \"68.14\",\n        },\n{\n            'v': 67.65,\n            'f': \"67.65\",\n        },\n{\n            'v': 67.87,\n            'f': \"67.87\",\n        }],\n [\"CART-ANOVA\",\n{\n            'v': 66.78,\n            'f': \"66.78\",\n        },\n{\n            'v': 66.78,\n            'f': \"66.78\",\n        },\n{\n            'v': 67.38,\n            'f': \"67.38\",\n        },\n{\n            'v': 67.06,\n            'f': \"67.06\",\n        }],\n [\"CART-ANOVA+GridSearchCV\",\n{\n            'v': 70.73,\n            'f': \"70.73\",\n        },\n{\n            'v': 70.73,\n            'f': \"70.73\",\n        },\n{\n            'v': 69.58,\n            'f': \"69.58\",\n        },\n{\n            'v': 69.95,\n            'f': \"69.95\",\n        }],\n [\"CART-ExT\",\n{\n            'v': 64.86,\n            'f': \"64.86\",\n        },\n{\n            'v': 64.86,\n            'f': \"64.86\",\n        },\n{\n            'v': 65.59,\n            'f': \"65.59\",\n        },\n{\n            'v': 65.2,\n            'f': \"65.2\",\n        }],\n [\"CART-ExT+GridSearchCV\",\n{\n            'v': 70.96,\n            'f': \"70.96\",\n        },\n{\n            'v': 70.96,\n            'f': \"70.96\",\n        },\n{\n            'v': 68.5,\n            'f': \"68.5\",\n        },\n{\n            'v': 69.02,\n            'f': \"69.02\",\n        }],\n [\"CART-GridSearchCV\",\n{\n            'v': 68.7,\n            'f': \"68.7\",\n        },\n{\n            'v': 68.7,\n            'f': \"68.7\",\n        },\n{\n            'v': 65.98,\n            'f': \"65.98\",\n        },\n{\n            'v': 66.88,\n            'f': \"66.88\",\n        }],\n [\"CART-RFE\",\n{\n            'v': 72.09,\n            'f': \"72.09\",\n        },\n{\n            'v': 72.09,\n            'f': \"72.09\",\n        },\n{\n            'v': 71.69,\n            'f': \"71.69\",\n        },\n{\n            'v': 71.87,\n            'f': \"71.87\",\n        }],\n [\"CART-RFE+GridSearchCV\",\n{\n            'v': 73.33,\n            'f': \"73.33\",\n        },\n{\n            'v': 73.33,\n            'f': \"73.33\",\n        },\n{\n            'v': 71.15,\n            'f': \"71.15\",\n        },\n{\n            'v': 71.59,\n            'f': \"71.59\",\n        }],\n [\"LR\",\n{\n            'v': 66.89,\n            'f': \"66.89\",\n        },\n{\n            'v': 66.89,\n            'f': \"66.89\",\n        },\n{\n            'v': 63.54,\n            'f': \"63.54\",\n        },\n{\n            'v': 62.23,\n            'f': \"62.23\",\n        }],\n [\"LR-ANOVA\",\n{\n            'v': 74.35,\n            'f': \"74.35\",\n        },\n{\n            'v': 74.35,\n            'f': \"74.35\",\n        },\n{\n            'v': 72.33,\n            'f': \"72.33\",\n        },\n{\n            'v': 72.48,\n            'f': \"72.48\",\n        }],\n [\"LR-ANOVA+GridSearchCV\",\n{\n            'v': 73.45,\n            'f': \"73.45\",\n        },\n{\n            'v': 73.45,\n            'f': \"73.45\",\n        },\n{\n            'v': 71.14,\n            'f': \"71.14\",\n        },\n{\n            'v': 71.28,\n            'f': \"71.28\",\n        }],\n [\"LR-ExT\",\n{\n            'v': 66.89,\n            'f': \"66.89\",\n        },\n{\n            'v': 66.89,\n            'f': \"66.89\",\n        },\n{\n            'v': 63.01,\n            'f': \"63.01\",\n        },\n{\n            'v': 61.98,\n            'f': \"61.98\",\n        }],\n [\"LR-ExT+GridSearchCV\",\n{\n            'v': 71.75,\n            'f': \"71.75\",\n        },\n{\n            'v': 71.75,\n            'f': \"71.75\",\n        },\n{\n            'v': 69.69,\n            'f': \"69.69\",\n        },\n{\n            'v': 69.9,\n            'f': \"69.9\",\n        }],\n [\"LR-GridSearchCV\",\n{\n            'v': 73.45,\n            'f': \"73.45\",\n        },\n{\n            'v': 73.45,\n            'f': \"73.45\",\n        },\n{\n            'v': 69.99,\n            'f': \"69.99\",\n        },\n{\n            'v': 69.74,\n            'f': \"69.74\",\n        }],\n [\"LR-RFE\",\n{\n            'v': 72.66,\n            'f': \"72.66\",\n        },\n{\n            'v': 72.66,\n            'f': \"72.66\",\n        },\n{\n            'v': 69.0,\n            'f': \"69.0\",\n        },\n{\n            'v': 69.11,\n            'f': \"69.11\",\n        }],\n [\"LR-RFE+GridSearchCV\",\n{\n            'v': 72.66,\n            'f': \"72.66\",\n        },\n{\n            'v': 72.66,\n            'f': \"72.66\",\n        },\n{\n            'v': 69.0,\n            'f': \"69.0\",\n        },\n{\n            'v': 69.11,\n            'f': \"69.11\",\n        }],\n [\"NB\",\n{\n            'v': 64.29,\n            'f': \"64.29\",\n        },\n{\n            'v': 64.29,\n            'f': \"64.29\",\n        },\n{\n            'v': 61.19,\n            'f': \"61.19\",\n        },\n{\n            'v': 62.26,\n            'f': \"62.26\",\n        }],\n [\"NB-ANOVA\",\n{\n            'v': 69.15,\n            'f': \"69.15\",\n        },\n{\n            'v': 69.15,\n            'f': \"69.15\",\n        },\n{\n            'v': 66.75,\n            'f': \"66.75\",\n        },\n{\n            'v': 67.18,\n            'f': \"67.18\",\n        }],\n [\"NB-ANOVA+GridSearchCV\",\n{\n            'v': 69.38,\n            'f': \"69.38\",\n        },\n{\n            'v': 69.38,\n            'f': \"69.38\",\n        },\n{\n            'v': 67.18,\n            'f': \"67.18\",\n        },\n{\n            'v': 67.59,\n            'f': \"67.59\",\n        }],\n [\"NB-ExT\",\n{\n            'v': 67.57,\n            'f': \"67.57\",\n        },\n{\n            'v': 67.57,\n            'f': \"67.57\",\n        },\n{\n            'v': 63.94,\n            'f': \"63.94\",\n        },\n{\n            'v': 63.78,\n            'f': \"63.78\",\n        }],\n [\"NB-ExT+GridSearchCV\",\n{\n            'v': 68.47,\n            'f': \"68.47\",\n        },\n{\n            'v': 68.47,\n            'f': \"68.47\",\n        },\n{\n            'v': 65.7,\n            'f': \"65.7\",\n        },\n{\n            'v': 65.34,\n            'f': \"65.34\",\n        }],\n [\"NB-GridSearchCV\",\n{\n            'v': 66.89,\n            'f': \"66.89\",\n        },\n{\n            'v': 66.89,\n            'f': \"66.89\",\n        },\n{\n            'v': 64.75,\n            'f': \"64.75\",\n        },\n{\n            'v': 65.31,\n            'f': \"65.31\",\n        }],\n [\"NB-RFE\",\n{\n            'v': 65.88,\n            'f': \"65.88\",\n        },\n{\n            'v': 65.88,\n            'f': \"65.88\",\n        },\n{\n            'v': 65.49,\n            'f': \"65.49\",\n        },\n{\n            'v': 65.65,\n            'f': \"65.65\",\n        }],\n [\"NB-RFE+GridSearchCV\",\n{\n            'v': 65.88,\n            'f': \"65.88\",\n        },\n{\n            'v': 65.88,\n            'f': \"65.88\",\n        },\n{\n            'v': 65.49,\n            'f': \"65.49\",\n        },\n{\n            'v': 65.65,\n            'f': \"65.65\",\n        }]],\n        columns: [[\"string\", \"index\"], [\"number\", \"accuracy\"], [\"number\", \"recall\"], [\"number\", \"precision\"], [\"number\", \"f1_score\"]],\n        columnOptions: [{\"width\": \"1px\", \"className\": \"index_column\"}],\n        rowsPerPage: 25,\n        helpUrl: \"https://colab.research.google.com/notebooks/data_table.ipynb\",\n        suppressOutputScrolling: true,\n        minimumWidth: undefined,\n      });\n      \n      function appendQuickchartButton(parentElement) {\n        let quickchartButtonContainerElement = document.createElement('div');\n        quickchartButtonContainerElement.innerHTML = `\n    <div id=\"df-339fd109-9588-47fc-8b13-16ba746ff71b\">\n      <button class=\"colab-df-quickchart\" onclick=\"quickchart('df-339fd109-9588-47fc-8b13-16ba746ff71b')\"\n              title=\"Suggest charts.\"\n              style=\"display:none;\">\n\n<svg xmlns=\"http://www.w3.org/2000/svg\" height=\"24px\"viewBox=\"0 0 24 24\"\n     width=\"24px\">\n    <g>\n        <path d=\"M19 3H5c-1.1 0-2 .9-2 2v14c0 1.1.9 2 2 2h14c1.1 0 2-.9 2-2V5c0-1.1-.9-2-2-2zM9 17H7v-7h2v7zm4 0h-2V7h2v10zm4 0h-2v-4h2v4z\"/>\n    </g>\n</svg>\n      </button>\n    </div>\n\n<style>\n  .colab-df-quickchart {\n    background-color: #E8F0FE;\n    border: none;\n    border-radius: 50%;\n    cursor: pointer;\n    display: none;\n    fill: #1967D2;\n    height: 32px;\n    padding: 0 0 0 0;\n    width: 32px;\n  }\n\n  .colab-df-quickchart:hover {\n    background-color: #E2EBFA;\n    box-shadow: 0px 1px 2px rgba(60, 64, 67, 0.3), 0px 1px 3px 1px rgba(60, 64, 67, 0.15);\n    fill: #174EA6;\n  }\n\n  [theme=dark] .colab-df-quickchart {\n    background-color: #3B4455;\n    fill: #D2E3FC;\n  }\n\n  [theme=dark] .colab-df-quickchart:hover {\n    background-color: #434B5C;\n    box-shadow: 0px 1px 3px 1px rgba(0, 0, 0, 0.15);\n    filter: drop-shadow(0px 1px 2px rgba(0, 0, 0, 0.3));\n    fill: #FFFFFF;\n  }\n</style>\n\n    <script>\n      async function quickchart(key) {\n        const containerElement = document.querySelector('#' + key);\n        const charts = await google.colab.kernel.invokeFunction(\n            'suggestCharts', [key], {});\n      }\n    </script>\n`;\n        parentElement.appendChild(quickchartButtonContainerElement);\n        \nfunction displayQuickchartButton(domScope) {\n  let quickchartButtonEl =\n    domScope.querySelector('#df-339fd109-9588-47fc-8b13-16ba746ff71b button.colab-df-quickchart');\n  quickchartButtonEl.style.display =\n    google.colab.kernel.accessAllowed ? 'block' : 'none';\n}\n\n        displayQuickchartButton(parentElement);\n      }\n\n      appendQuickchartButton(table);\n    "
          },
          "metadata": {},
          "execution_count": 92
        }
      ]
    },
    {
      "cell_type": "markdown",
      "source": [
        "**Resultados e discussão**\n",
        "\n",
        "Após a construção dos modelos, verificou-se que os três modelos com maior precisão era a Árvore de Classificação (CART), Regressão logística (LR) e o Naive Bayes (NB) com as seguintes precisões:\n",
        "\n",
        "*   Precisão de LR: 66.89%\n",
        "*   Precisão de CART: 68.47%\n",
        "*   Precisão de NB: 64.29%\n",
        "\n",
        "Na tentativa de otimizar os modelos, foram utilizadas algumas técnicas de *feature selection*. Com isso, foi observado que a precisão dos modelos na maioria dos casos aumentou, com exceção do CART com ANOVA e ExtraTrees:\n",
        "\n",
        "\n",
        "\n",
        "*  Precisão de LR-ANOVA: 74.35%\n",
        "*  Precisão de LR-RFE: 72.66%\n",
        "*  Precisão de LR-ExT: 68.14%\n",
        "*  Precisão de CART-ANOVA: 67.46%\n",
        "*  Precisão de CART-RFE: 71.30%\n",
        "*  Precisão de CART-ExT: 66.33%\n",
        "*  Precisão de NB-ANOVA: 69.15%\n",
        "*  Precisão de NB-RFE: 65.88%\n",
        "*  Precisão de NB-ExT: 69.15%"
      ],
      "metadata": {
        "id": "mOmH89OedKkj"
      }
    },
    {
      "cell_type": "markdown",
      "source": [
        "Ainda explorando a ideia de otimizar o modelos visando aumentar sua precisão, foi feito um GridSeachCV na tentativa de otimizar os hiperparâmetros e encontrar aqueles que pudesse melhorar o desempenho dos modelos. Com isso, chegamos aos seguintes resultados pra cada modelo:\n",
        "\n",
        "*  Testing NB parameters\n",
        "\n",
        "  NB - Melhor: 0.6973567964661257 usando os seguintes parametros {'var_smoothing': 1e-08}\n",
        "  Precisão de NB: 66.89%\n",
        "\n",
        "*  Testing CART parameters\n",
        "\n",
        "  CART - Melhor: 0.7301419631567997 usando os seguintes parametros {'criterion': 'gini', 'max_depth': 10, 'max_features': 15, 'splitter': 'random'}\n",
        "  Precisão de CART: 69.83%\n",
        "\n",
        "\n",
        "* Testing LR parameters\n",
        "\n",
        "  LR - Melhor: 0.7713977049022903 usando os seguintes parametros {'C': 1.0, 'class_weight': None, 'max_iter': 200, 'n_jobs': -1, 'penalty': 'l2', 'solver': 'liblinear'}\n",
        "  Precisão de LR: 73.45%\n",
        "\n",
        "Com esses resultados, foi possível observar um aumento na precisão de todos os modelos NB de 64.29% pra 66.89%, LR de 66.89% pra 73.45% e CART de 68.47% pra 69.83%, sendo o maior ganho no modelo de Regressão logística."
      ],
      "metadata": {
        "id": "FjV5BD3xdKhR"
      }
    },
    {
      "cell_type": "markdown",
      "source": [
        "Por fim, foi tentada uma combinação dos modelos treinados com os inputs aos quais foram aplicados *feature selection*.\n",
        "\n",
        "Seguem os resultados:\n",
        "\n",
        "* Combinando input reduizo via ANOVA\n",
        "\n",
        " *  Testing NB parameters\n",
        "\n",
        "    NB - Melhor: 0.7242081592804213 usando os seguintes parametros {'var_smoothing': 1e-05}\n",
        "    Precisão de NB: 69.38%\n",
        "\n",
        "  *  Testing CART parameters\n",
        "\n",
        "    CART - Melhor: 0.7400353707527089 usando os seguintes parametros {'criterion': 'gini', 'max_depth': 10, 'max_features': 18, 'splitter': 'random'}\n",
        "    Precisão de CART: 70.17%\n",
        "\n",
        "  *  Testing LR parameters\n",
        "\n",
        "    LR - Melhor: 0.7702725628591092 usando os seguintes parametros {'C': 1.0, 'class_weight': None, 'max_iter': 300, 'n_jobs': -1, 'penalty': 'l2', 'solver': 'lbfgs'}\n",
        "    Precisão de LR: 73.45%\n",
        "\n",
        "*  Combinando input reduizo via RFE\n",
        "\n",
        "  *  Testing NB parameters\n",
        "    NB - Melhor: 0.6897384804980715 usando os seguintes parametros {'var_smoothing': 1e-07}\n",
        "    Precisão de NB: 65.88%\n",
        "\n",
        "  *  Testing CART parameters\n",
        "    CART - Melhor: 0.7434300027208272 usando os seguintes parametros {'criterion': 'entropy', 'max_depth': 10, 'max_features': 15, 'splitter': 'random'}\n",
        "    Precisão de CART: 71.86%\n",
        "\n",
        "  *  Testing LR parameters\n",
        "\n",
        "    LR - Melhor: 0.7674437028856773 usando os seguintes parametros {'C': 1.0, 'class_weight': None, 'max_iter': 200, 'n_jobs': -1, 'penalty': 'l2', 'solver': 'lbfgs'}\n",
        "    Precisão de LR: 72.66%\n",
        "\n",
        "*  Combinando input reduizo via ExT\n",
        "\n",
        " *  Testing NB parameters\n",
        "\n",
        "    NB - Melhor: 0.7222355596101214 usando os seguintes parametros {'var_smoothing': 1e-08}\n",
        "    Precisão de NB: 70.28%\n",
        "\n",
        "  *  Testing CART parameters\n",
        "  \n",
        "    CART - Melhor: 0.7405979417742994 usando os seguintes parametros {'criterion': 'entropy', 'max_depth': 10, 'max_features': 18, 'splitter': 'random'}\n",
        "    Precisão de CART: 69.04%\n",
        "\n",
        "  *  Testing LR parameters\n",
        "    LR - Melhor: 0.7677285894912054 usando os seguintes parametros {'C': 1.0, 'class_weight': None, 'max_iter': 200, 'n_jobs': -1, 'penalty': 'l2', 'solver': 'newton-cg'}\n",
        "    Precisão de LR: 74.01%\n",
        "\n",
        "\n",
        "\n"
      ],
      "metadata": {
        "id": "BErKN6L6dKa-"
      }
    },
    {
      "cell_type": "markdown",
      "source": [
        "Para facilitar a visualização e comparação das precisões, segue abaixo uma tabela concatenando todas as informações:\n",
        "\n",
        "|Modelo|Acurácia(%)|Revocação(%)|Precisão(%)|f1\\_score(%)|\n",
        "|---|---|---|---|---|\n",
        "|CART|68\\.14|68\\.14|67\\.65|67\\.87|\n",
        "|CART-ANOVA|66\\.78|66\\.78|67\\.38|67\\.06|\n",
        "|CART-ANOVA+GridSearchCV|70\\.73|70\\.73|69\\.58|69\\.95|\n",
        "|CART-ExT|64\\.86|64\\.86|65\\.59|65\\.2|\n",
        "|CART-ExT+GridSearchCV|70\\.96|70\\.96|68\\.5|69\\.02|\n",
        "|CART-GridSearchCV|68\\.7|68\\.7|65\\.98|66\\.88|\n",
        "|CART-RFE|72\\.09|72\\.09|71\\.69|71\\.87|\n",
        "|CART-RFE+GridSearchCV|73\\.33|73\\.33|71\\.15|71\\.59|\n",
        "|LR|66\\.89|66\\.89|63\\.54|62\\.23|\n",
        "|LR-ANOVA|74\\.35|74\\.35|72\\.33|72\\.48|\n",
        "|LR-ANOVA+GridSearchCV|73\\.45|73\\.45|71\\.14|71\\.28|\n",
        "|LR-ExT|66\\.89|66\\.89|63\\.01|61\\.98|\n",
        "|LR-ExT+GridSearchCV|71\\.75|71\\.75|69\\.69|69\\.9|\n",
        "|LR-GridSearchCV|73\\.45|73\\.45|69\\.99|69\\.74|\n",
        "|LR-RFE|72\\.66|72\\.66|69\\.0|69\\.11|\n",
        "|LR-RFE+GridSearchCV|72\\.66|72\\.66|69\\.0|69\\.11|\n",
        "|NB|64\\.29|64\\.29|61\\.19|62\\.26|\n",
        "|NB-ANOVA|69\\.15|69\\.15|66\\.75|67\\.18|\n",
        "|NB-ANOVA+GridSearchCV|69\\.38|69\\.38|67\\.18|67\\.59|\n",
        "|NB-ExT|67\\.57|67\\.57|63\\.94|63\\.78|\n",
        "|NB-ExT+GridSearchCV|68\\.47|68\\.47|65\\.7|65\\.34|\n",
        "|NB-GridSearchCV|66\\.89|66\\.89|64\\.75|65\\.31|\n",
        "|NB-RFE|65\\.88|65\\.88|65\\.49|65\\.65|\n",
        "|NB-RFE+GridSearchCV|65\\.88|65\\.88|65\\.49|65\\.65|"
      ],
      "metadata": {
        "id": "yxx9ZfkVv06w"
      }
    },
    {
      "cell_type": "markdown",
      "source": [
        "Destacados em negrito são os melhores resultados dos modelos.\n",
        "\n",
        "Com isso é possível concluir que um fine tuning dos hiperparâmetros associado a técnicas de feature selection provocaram os melhores resultados para NB e CART, ao passo que para LR apenas um feature selection já foi o suficiente pra gerar a melhor precisão.\n",
        "\n",
        "Também é importante ressaltar que diferentes inputs dos features selection geraram diferentes combinações de hiperparâmetros.\n",
        "\n"
      ],
      "metadata": {
        "id": "tYlXDUJuCrVu"
      }
    },
    {
      "cell_type": "markdown",
      "source": [
        "Como estratégia parar tentar otimizar ainda mais os modelos, poderíamos tentar criar Pipelines e trabalhar com dados padronizados e normalizados. E por fim compará-los com o resultado obtido atravez do dataset original.\n",
        "\n",
        "No entanto acredito que para o dataset escolhido essa técnica não seria adequada, uma vez que a maioria dos atributos apesar de apresentarem valores inteiros, na verdade são variáveis categóricas, onde cada número representa uma categoria.\n",
        "\n",
        "Por isso Pipelines não foram utilizados no projeto acima."
      ],
      "metadata": {
        "id": "HVb3sHYXDV3E"
      }
    },
    {
      "cell_type": "code",
      "source": [],
      "metadata": {
        "id": "eK2cHMxI0hbI"
      },
      "execution_count": 56,
      "outputs": []
    },
    {
      "cell_type": "code",
      "source": [],
      "metadata": {
        "id": "yqjeAkHn0hTg"
      },
      "execution_count": 56,
      "outputs": []
    },
    {
      "cell_type": "markdown",
      "source": [
        "## **B - Deep learning**"
      ],
      "metadata": {
        "id": "lkoFDXkB3I0j"
      }
    },
    {
      "cell_type": "markdown",
      "source": [
        "**Definição do problema**\n",
        "\n",
        "O dataset escolhido é de visão computacional e aborda um problema de classificação. É composto por 5 tipos diferentes de arroz, onde o objetivo da modelagem é conseguir construir um modelo pra classificar corretamente cada tipo de arroz.\n",
        "\n",
        "O modelo escolhido foi uma CNN.\n",
        "\n",
        "Mais informações a respeito do dataset pode ser encontrada em https://www.kaggle.com/datasets/muratkokludataset/rice-image-dataset\n",
        "\n",
        "Há cinco categorias possíveis: *Arborio*, *Basmati*, *Ipsala*, *Jasmine*, *Karacadag*\n",
        "\n",
        "O dataset compactado esta dividido em cinco pastas, cada uma nomeada de uma categoria, onde cada categoria possui 15000 imagens, totalizando 75000 imagens no dataset completo.\n",
        "\n",
        "Por fins de poder e tempo computacional trabalhei apenas com 1/3 do dataset, ou seja, 5000 imagens de cada categoria para treinar o modelo.\n",
        "\n"
      ],
      "metadata": {
        "id": "Jzi1BZji3scO"
      }
    },
    {
      "cell_type": "code",
      "source": [
        "#Importando as bibliotecas a serem usadas nessa parte do projeto\n",
        "import keras.models\n",
        "import pandas as pd\n",
        "import numpy as np\n",
        "from tensorflow import keras\n",
        "from IPython.display import Image, display\n",
        "from keras.preprocessing.image import ImageDataGenerator\n",
        "from keras.preprocessing import image\n",
        "from keras.utils import load_img,img_to_array\n",
        "# from keras.layers import Dense,Activation, Flatten, Dropout, BatchNormalization\n",
        "from keras.optimizers import Adam\n",
        "from keras.callbacks import ModelCheckpoint, EarlyStopping\n",
        "# from keras.layers import Conv2D, MaxPooling2D\n",
        "# from keras import regularizers, optimizers\n",
        "from keras import layers\n",
        "from keras import models\n",
        "import os\n",
        "import shutil\n",
        "from sklearn.model_selection import train_test_split\n",
        "from sklearn.metrics import accuracy_score, confusion_matrix, classification_report\n",
        "from sklearn.metrics import ConfusionMatrixDisplay\n",
        "import sklearn.metrics as skm\n",
        "import itertools\n",
        "import matplotlib.pyplot as plt\n",
        "import matplotlib.image as mpimg\n",
        "import zipfile\n",
        "\n",
        "#Definindo a função para plotar a matriz de confusão\n",
        "def plot_confusion_matrix(cm,classes,normalize=False,\n",
        "                          title='Confusion Matrix',\n",
        "                          cmap=plt.cm.Blues):\n",
        "    if normalize:\n",
        "        cm = cm.astype('float')/cm.sum(axis=1)[:,np.newaxis]\n",
        "        print(\"Matriz de confusão normalizada\")\n",
        "    else:\n",
        "        print('Matriz de confusão sem noramlização')\n",
        "\n",
        "    plt.imshow(cm,interpolation='nearest',cmap=cmap)\n",
        "    plt.title(title)\n",
        "    plt.colorbar()\n",
        "    tick_marks = np.arange(len(classes))\n",
        "    plt.xticks(tick_marks,classes, rotation=45)\n",
        "    plt.yticks(tick_marks,classes)\n",
        "\n",
        "    fmt = '.2f' if normalize else 'd'\n",
        "    thresh = cm.max()/2.\n",
        "    for i,j in itertools.product(range(cm.shape[0]),range(cm.shape[1])):\n",
        "        plt.text(j,i,format(cm[i,j],fmt),\n",
        "                horizontalalignment=\"center\",\n",
        "                color=\"white\" if cm[i,j] > thresh else \"black\")\n",
        "    plt.tight_layout()\n",
        "    plt.ylabel('Classe real')\n",
        "    plt.xlabel('Classe predita')\n"
      ],
      "metadata": {
        "id": "Czdxm-k-3tcw"
      },
      "execution_count": 57,
      "outputs": []
    },
    {
      "cell_type": "markdown",
      "source": [
        "**Preparação do dataset**\n",
        "\n",
        "As imagens do dataset não vieram separadas em conjunto de treino, teste e validação. A seguir, o dataset será extraído, importado, reduzido a 1/3 do total e separado em conjunto de treino e teste.\n",
        "\n",
        "Também será usado um data augmentation no conjunto de treino para otimizar o treinamento do modelo."
      ],
      "metadata": {
        "id": "XSv7NXrA3tFT"
      }
    },
    {
      "cell_type": "code",
      "source": [
        "zip_file =  r\"/content/archive.zip\"\n",
        "working_dir = r\"/content/Work\"\n",
        "\n",
        "os.makedirs(working_dir, exist_ok=True)\n",
        "\n",
        "with zipfile.ZipFile(zip_file,'r') as z:\n",
        "  z.extractall(working_dir)\n",
        "dataset_root = os.path.join(working_dir,r'Rice_Image_Dataset')\n",
        "\n",
        "folders = []\n",
        "for i in os.listdir(dataset_root):\n",
        "    if len(i.split(sep='.'))>1:\n",
        "        continue\n",
        "    else:\n",
        "        folders.append(os.path.join(dataset_root,i))\n",
        "\n",
        "os.chdir(dataset_root)\n",
        "\n",
        "os.mkdir('All_images')\n",
        "\n",
        "all_images = os.path.join(dataset_root,'All_images')\n",
        "\n",
        "np.random.seed(10)\n",
        "\n",
        "n_samples = 5000\n",
        "\n",
        "for i in folders:\n",
        "    t = np.random.choice(a=os.listdir(i), size=n_samples,replace=False)\n",
        "    for pic in t:\n",
        "        shutil.copy(os.path.join(i,pic),all_images)\n",
        "\n",
        "labels, heights, widths, channels, filesize = [],[],[],[],[]\n",
        "\n",
        "images_list = []\n",
        "images_path_list = []\n",
        "\n",
        "for img in os.listdir(all_images):\n",
        "    labels.append(img.split(sep=' ')[0].capitalize())\n",
        "    images_path_list.append(os.path.join(all_images,img))\n",
        "    img_shape = mpimg.imread(os.path.join(all_images,img))\n",
        "    heights.append(img_shape[0])\n",
        "    widths.append(img_shape[1])\n",
        "    channels.append(img_shape[2])\n",
        "    filesize.append(os.path.getsize(os.path.join(all_images,img)))\n",
        "\n",
        "data ={'images':os.listdir(all_images),\n",
        "       'class':labels,\n",
        "       'height':heights,\n",
        "       'width':widths,\n",
        "       'channels':channels,\n",
        "       'size':filesize\n",
        "       }\n",
        "\n",
        "df= pd.DataFrame(data)\n",
        "\n",
        "df['class'].value_counts()\n",
        "\n",
        "#criando uma lista com as classes do problema\n",
        "classes = np.sort(df['class'].unique())\n",
        "\n",
        "#variável pra armazenar o número de classes do problema\n",
        "n_class = len(df['class'].unique())\n",
        "\n",
        "\n",
        "\n"
      ],
      "metadata": {
        "id": "fbDNRgn-3t-s"
      },
      "execution_count": 58,
      "outputs": []
    },
    {
      "cell_type": "code",
      "source": [
        "#Verificando que o dataset é de fato balanceado\n",
        "df['class'].value_counts().plot.bar(title='Classes de arroz')"
      ],
      "metadata": {
        "id": "tSWWhnTt3t3t",
        "colab": {
          "base_uri": "https://localhost:8080/",
          "height": 530
        },
        "outputId": "d098d371-3bf8-4da9-e70e-ce2513f4b681"
      },
      "execution_count": 59,
      "outputs": [
        {
          "output_type": "execute_result",
          "data": {
            "text/plain": [
              "<Axes: title={'center': 'Classes de arroz'}>"
            ]
          },
          "metadata": {},
          "execution_count": 59
        },
        {
          "output_type": "display_data",
          "data": {
            "text/plain": [
              "<Figure size 640x480 with 1 Axes>"
            ],
            "image/png": "[encoded data removed]"
          },
          "metadata": {}
        }
      ]
    },
    {
      "cell_type": "code",
      "source": [
        "#Vendo algumas imagens do dataset\n",
        "for n in range(6):\n",
        "    sample = np.random.choice(images_path_list)\n",
        "    sp = plt.subplot(2,3,n+1)\n",
        "    sp.axis('Off')\n",
        "    img = mpimg.imread(sample)\n",
        "    plt.imshow(img)\n",
        "    plt.title(sample.split(sep='/')[-1])"
      ],
      "metadata": {
        "colab": {
          "base_uri": "https://localhost:8080/",
          "height": 406
        },
        "id": "ssiAGofvEWEb",
        "outputId": "ccacc1bd-05e2-4192-8df5-8a15e4813314"
      },
      "execution_count": 60,
      "outputs": [
        {
          "output_type": "display_data",
          "data": {
            "text/plain": [
              "<Figure size 640x480 with 6 Axes>"
            ],
            "image/png": "[encoded data removed]"
          },
          "metadata": {}
        }
      ]
    },
    {
      "cell_type": "code",
      "source": [
        "#Separação entre treino e teste\n",
        "np.random.seed(10)\n",
        "\n",
        "train,test = train_test_split(df[['images','class']],test_size=0.3, random_state=10,shuffle=True)\n",
        "\n",
        "#Tratamento de imagens, data augmentation, com o ImageDataGenerator\n",
        "train_datagen=ImageDataGenerator(validation_split=0.2,\n",
        "                                 rescale=1.0/255,\n",
        "                                 rotation_range=30,\n",
        "                                 shear_range=0.15,\n",
        "                                 zoom_range=0.25,\n",
        "                                 horizontal_flip=True,\n",
        "                                 fill_mode='nearest')\n",
        "\n",
        "test_datagen = ImageDataGenerator(rescale=1.0/255)\n",
        "\n",
        "train_aug = train_datagen.flow_from_dataframe(\n",
        "            train, all_images,\n",
        "            target_size=(250,250),\n",
        "            batch_size=50,\n",
        "            class_mode='categorical',\n",
        "            x_col='images',\n",
        "            y_col='class',\n",
        "            subset='training')\n",
        "\n",
        "test_aug = test_datagen.flow_from_dataframe(\n",
        "            test, all_images,\n",
        "            target_size=(250,250),\n",
        "            batch_size=50,\n",
        "            class_mode='categorical',\n",
        "            x_col='images',\n",
        "            y_col='class')\n",
        "\n",
        "val_aug = train_datagen.flow_from_dataframe(\n",
        "            train, all_images,\n",
        "            target_size=(250,250),\n",
        "            batch_size=50,\n",
        "            class_mode='categorical',\n",
        "            x_col='images',\n",
        "            y_col='class',\n",
        "            subset='validation')\n",
        "\n"
      ],
      "metadata": {
        "colab": {
          "base_uri": "https://localhost:8080/"
        },
        "id": "__bqAaDxEV67",
        "outputId": "b790554a-e042-40d4-91cf-afd61708fdd0"
      },
      "execution_count": 61,
      "outputs": [
        {
          "output_type": "stream",
          "name": "stdout",
          "text": [
            "Found 14000 validated image filenames belonging to 5 classes.\n",
            "Found 7500 validated image filenames belonging to 5 classes.\n",
            "Found 3500 validated image filenames belonging to 5 classes.\n"
          ]
        }
      ]
    },
    {
      "cell_type": "markdown",
      "source": [
        "**Criando o modelo**\n",
        "\n",
        "Pra esse tipo de problema de classificação de imagem, é comum a utilização de uma rede neural convolucional (CNN). Sendo assim, tal modelo foi escolhido, treinado e usado a seguir"
      ],
      "metadata": {
        "id": "EtVFAQQrNjoB"
      }
    },
    {
      "cell_type": "code",
      "source": [
        "#Construindo a CNN\n",
        "\n",
        "model = models.Sequential()\n",
        "model.add(layers.Conv2D(32, (3, 3),activation='relu',input_shape=(250,250,3)))\n",
        "model.add(layers.MaxPooling2D(pool_size=(2, 2)))\n",
        "model.add(layers.Dropout(0.25))\n",
        "\n",
        "model.add(layers.Conv2D(64, (3, 3),activation='relu'))\n",
        "model.add(layers.MaxPooling2D(pool_size=(2, 2)))\n",
        "model.add(layers.Dropout(0.25))\n",
        "\n",
        "model.add(layers.Conv2D(128, (3, 3),activation='relu'))\n",
        "model.add(layers.MaxPooling2D(pool_size=(2, 2)))\n",
        "model.add(layers.Dropout(0.25))\n",
        "\n",
        "model.add(layers.Flatten())\n",
        "model.add(layers.Dropout(0.25))\n",
        "\n",
        "model.add(layers.Dense(512,activation='relu'))\n",
        "model.add(layers.Dropout(0.5))\n",
        "\n",
        "model.add(layers.Dense(n_class, activation='softmax'))\n",
        "\n",
        "model.compile(optimizer=Adam(learning_rate=0.0001,decay=1e-5),loss=\"categorical_crossentropy\",metrics=[\"accuracy\"])\n",
        "\n",
        "model.summary()"
      ],
      "metadata": {
        "colab": {
          "base_uri": "https://localhost:8080/"
        },
        "id": "DUjjv-4KEVz0",
        "outputId": "5f79a484-7639-4785-a9f6-f7073bb8382a"
      },
      "execution_count": 62,
      "outputs": [
        {
          "output_type": "stream",
          "name": "stdout",
          "text": [
            "Model: \"sequential\"\n",
            "_________________________________________________________________\n",
            " Layer (type)                Output Shape              Param #   \n",
            "=================================================================\n",
            " conv2d (Conv2D)             (None, 248, 248, 32)      896       \n",
            "                                                                 \n",
            " max_pooling2d (MaxPooling2D  (None, 124, 124, 32)     0         \n",
            " )                                                               \n",
            "                                                                 \n",
            " dropout (Dropout)           (None, 124, 124, 32)      0         \n",
            "                                                                 \n",
            " conv2d_1 (Conv2D)           (None, 122, 122, 64)      18496     \n",
            "                                                                 \n",
            " max_pooling2d_1 (MaxPooling  (None, 61, 61, 64)       0         \n",
            " 2D)                                                             \n",
            "                                                                 \n",
            " dropout_1 (Dropout)         (None, 61, 61, 64)        0         \n",
            "                                                                 \n",
            " conv2d_2 (Conv2D)           (None, 59, 59, 128)       73856     \n",
            "                                                                 \n",
            " max_pooling2d_2 (MaxPooling  (None, 29, 29, 128)      0         \n",
            " 2D)                                                             \n",
            "                                                                 \n",
            " dropout_2 (Dropout)         (None, 29, 29, 128)       0         \n",
            "                                                                 \n",
            " flatten (Flatten)           (None, 107648)            0         \n",
            "                                                                 \n",
            " dropout_3 (Dropout)         (None, 107648)            0         \n",
            "                                                                 \n",
            " dense (Dense)               (None, 512)               55116288  \n",
            "                                                                 \n",
            " dropout_4 (Dropout)         (None, 512)               0         \n",
            "                                                                 \n",
            " dense_1 (Dense)             (None, 5)                 2565      \n",
            "                                                                 \n",
            "=================================================================\n",
            "Total params: 55,212,101\n",
            "Trainable params: 55,212,101\n",
            "Non-trainable params: 0\n",
            "_________________________________________________________________\n"
          ]
        }
      ]
    },
    {
      "cell_type": "markdown",
      "source": [
        "Criado o modelo e o dataset aumentado pra treinamento, partimos para o treinamento da rede, onde foi pré definido alguns parâmetros para ajudar a selecionar e salvar o melhor modelo.\n",
        "\n",
        "A classe EarlyStopping monitorando o loss da validação foi usada pra otimizar as epochs do treinamento e monitorar o melhor modelo possível quando houver diminuição na progressão da diminuição da perda de validação.\n"
      ],
      "metadata": {
        "id": "nuBNEThX3ujP"
      }
    },
    {
      "cell_type": "code",
      "source": [
        "'''\n",
        "Este bloco de código contém o treinamento do modelo.\n",
        "O modelo já foi previamente treinado e carregado para o colab para poupar tempo\n",
        "de processamento. É possível seguir executando os outros blocos caso queira pular\n",
        "a execução desse\n",
        "\n",
        "'''\n",
        "\n",
        "#Geração de callbacks pra auxiliar o treinamento, considerando salvar o melhor modelo de acordo com a maior precisão da validação\n",
        "model_path='best_model_colab.hdf5'\n",
        "checkpoint = ModelCheckpoint(filepath=model_path,\n",
        "                             monitor='val_loss',\n",
        "                             verbose=1,\n",
        "                             save_best_only=True,\n",
        "                             mode='min')\n",
        "\n",
        "#\n",
        "earlystop = EarlyStopping(monitor='val_loss',\n",
        "                          patience=5,\n",
        "                          mode='auto')\n",
        "#Treinando o modelo\n",
        "history = model.fit(train_aug,\n",
        "                      steps_per_epoch=50,\n",
        "                      epochs=50,\n",
        "                      validation_data=val_aug,\n",
        "                      validation_steps=5,\n",
        "                      callbacks=[checkpoint,earlystop]\n",
        "                    )"
      ],
      "metadata": {
        "id": "PM5dmjxk3tw3",
        "colab": {
          "base_uri": "https://localhost:8080/",
          "height": 522
        },
        "outputId": "b3fc9b1c-c571-40e6-f66c-d400933a8b0e"
      },
      "execution_count": 63,
      "outputs": [
        {
          "output_type": "stream",
          "name": "stdout",
          "text": [
            "Epoch 1/50\n",
            "50/50 [==============================] - ETA: 0s - loss: 1.0037 - accuracy: 0.5760\n",
            "Epoch 1: val_loss improved from inf to 0.93432, saving model to best_model.hdf5\n",
            "50/50 [==============================] - 455s 9s/step - loss: 1.0037 - accuracy: 0.5760 - val_loss: 0.9343 - val_accuracy: 0.6840\n",
            "Epoch 2/50\n",
            "16/50 [========>.....................] - ETA: 6:14 - loss: 0.8202 - accuracy: 0.6562"
          ]
        },
        {
          "output_type": "error",
          "ename": "KeyboardInterrupt",
          "evalue": "ignored",
          "traceback": [
            "\u001b[0;31m---------------------------------------------------------------------------\u001b[0m",
            "\u001b[0;31mKeyboardInterrupt\u001b[0m                         Traceback (most recent call last)",
            "\u001b[0;32m<ipython-input-63-7173b759af5e>\u001b[0m in \u001b[0;36m<cell line: 14>\u001b[0;34m()\u001b[0m\n\u001b[1;32m     12\u001b[0m                           mode='auto')\n\u001b[1;32m     13\u001b[0m \u001b[0;31m#Treinando o modelo\u001b[0m\u001b[0;34m\u001b[0m\u001b[0;34m\u001b[0m\u001b[0m\n\u001b[0;32m---> 14\u001b[0;31m history = model.fit(train_aug,\n\u001b[0m\u001b[1;32m     15\u001b[0m                       \u001b[0msteps_per_epoch\u001b[0m\u001b[0;34m=\u001b[0m\u001b[0;36m50\u001b[0m\u001b[0;34m,\u001b[0m\u001b[0;34m\u001b[0m\u001b[0;34m\u001b[0m\u001b[0m\n\u001b[1;32m     16\u001b[0m                       \u001b[0mepochs\u001b[0m\u001b[0;34m=\u001b[0m\u001b[0;36m50\u001b[0m\u001b[0;34m,\u001b[0m\u001b[0;34m\u001b[0m\u001b[0;34m\u001b[0m\u001b[0m\n",
            "\u001b[0;32m/usr/local/lib/python3.10/dist-packages/keras/utils/traceback_utils.py\u001b[0m in \u001b[0;36merror_handler\u001b[0;34m(*args, **kwargs)\u001b[0m\n\u001b[1;32m     63\u001b[0m         \u001b[0mfiltered_tb\u001b[0m \u001b[0;34m=\u001b[0m \u001b[0;32mNone\u001b[0m\u001b[0;34m\u001b[0m\u001b[0;34m\u001b[0m\u001b[0m\n\u001b[1;32m     64\u001b[0m         \u001b[0;32mtry\u001b[0m\u001b[0;34m:\u001b[0m\u001b[0;34m\u001b[0m\u001b[0;34m\u001b[0m\u001b[0m\n\u001b[0;32m---> 65\u001b[0;31m             \u001b[0;32mreturn\u001b[0m \u001b[0mfn\u001b[0m\u001b[0;34m(\u001b[0m\u001b[0;34m*\u001b[0m\u001b[0margs\u001b[0m\u001b[0;34m,\u001b[0m \u001b[0;34m**\u001b[0m\u001b[0mkwargs\u001b[0m\u001b[0;34m)\u001b[0m\u001b[0;34m\u001b[0m\u001b[0;34m\u001b[0m\u001b[0m\n\u001b[0m\u001b[1;32m     66\u001b[0m         \u001b[0;32mexcept\u001b[0m \u001b[0mException\u001b[0m \u001b[0;32mas\u001b[0m \u001b[0me\u001b[0m\u001b[0;34m:\u001b[0m\u001b[0;34m\u001b[0m\u001b[0;34m\u001b[0m\u001b[0m\n\u001b[1;32m     67\u001b[0m             \u001b[0mfiltered_tb\u001b[0m \u001b[0;34m=\u001b[0m \u001b[0m_process_traceback_frames\u001b[0m\u001b[0;34m(\u001b[0m\u001b[0me\u001b[0m\u001b[0;34m.\u001b[0m\u001b[0m__traceback__\u001b[0m\u001b[0;34m)\u001b[0m\u001b[0;34m\u001b[0m\u001b[0;34m\u001b[0m\u001b[0m\n",
            "\u001b[0;32m/usr/local/lib/python3.10/dist-packages/keras/engine/training.py\u001b[0m in \u001b[0;36mfit\u001b[0;34m(self, x, y, batch_size, epochs, verbose, callbacks, validation_split, validation_data, shuffle, class_weight, sample_weight, initial_epoch, steps_per_epoch, validation_steps, validation_batch_size, validation_freq, max_queue_size, workers, use_multiprocessing)\u001b[0m\n\u001b[1;32m   1683\u001b[0m                         ):\n\u001b[1;32m   1684\u001b[0m                             \u001b[0mcallbacks\u001b[0m\u001b[0;34m.\u001b[0m\u001b[0mon_train_batch_begin\u001b[0m\u001b[0;34m(\u001b[0m\u001b[0mstep\u001b[0m\u001b[0;34m)\u001b[0m\u001b[0;34m\u001b[0m\u001b[0;34m\u001b[0m\u001b[0m\n\u001b[0;32m-> 1685\u001b[0;31m                             \u001b[0mtmp_logs\u001b[0m \u001b[0;34m=\u001b[0m \u001b[0mself\u001b[0m\u001b[0;34m.\u001b[0m\u001b[0mtrain_function\u001b[0m\u001b[0;34m(\u001b[0m\u001b[0miterator\u001b[0m\u001b[0;34m)\u001b[0m\u001b[0;34m\u001b[0m\u001b[0;34m\u001b[0m\u001b[0m\n\u001b[0m\u001b[1;32m   1686\u001b[0m                             \u001b[0;32mif\u001b[0m \u001b[0mdata_handler\u001b[0m\u001b[0;34m.\u001b[0m\u001b[0mshould_sync\u001b[0m\u001b[0;34m:\u001b[0m\u001b[0;34m\u001b[0m\u001b[0;34m\u001b[0m\u001b[0m\n\u001b[1;32m   1687\u001b[0m                                 \u001b[0mcontext\u001b[0m\u001b[0;34m.\u001b[0m\u001b[0masync_wait\u001b[0m\u001b[0;34m(\u001b[0m\u001b[0;34m)\u001b[0m\u001b[0;34m\u001b[0m\u001b[0;34m\u001b[0m\u001b[0m\n",
            "\u001b[0;32m/usr/local/lib/python3.10/dist-packages/tensorflow/python/util/traceback_utils.py\u001b[0m in \u001b[0;36merror_handler\u001b[0;34m(*args, **kwargs)\u001b[0m\n\u001b[1;32m    148\u001b[0m     \u001b[0mfiltered_tb\u001b[0m \u001b[0;34m=\u001b[0m \u001b[0;32mNone\u001b[0m\u001b[0;34m\u001b[0m\u001b[0;34m\u001b[0m\u001b[0m\n\u001b[1;32m    149\u001b[0m     \u001b[0;32mtry\u001b[0m\u001b[0;34m:\u001b[0m\u001b[0;34m\u001b[0m\u001b[0;34m\u001b[0m\u001b[0m\n\u001b[0;32m--> 150\u001b[0;31m       \u001b[0;32mreturn\u001b[0m \u001b[0mfn\u001b[0m\u001b[0;34m(\u001b[0m\u001b[0;34m*\u001b[0m\u001b[0margs\u001b[0m\u001b[0;34m,\u001b[0m \u001b[0;34m**\u001b[0m\u001b[0mkwargs\u001b[0m\u001b[0;34m)\u001b[0m\u001b[0;34m\u001b[0m\u001b[0;34m\u001b[0m\u001b[0m\n\u001b[0m\u001b[1;32m    151\u001b[0m     \u001b[0;32mexcept\u001b[0m \u001b[0mException\u001b[0m \u001b[0;32mas\u001b[0m \u001b[0me\u001b[0m\u001b[0;34m:\u001b[0m\u001b[0;34m\u001b[0m\u001b[0;34m\u001b[0m\u001b[0m\n\u001b[1;32m    152\u001b[0m       \u001b[0mfiltered_tb\u001b[0m \u001b[0;34m=\u001b[0m \u001b[0m_process_traceback_frames\u001b[0m\u001b[0;34m(\u001b[0m\u001b[0me\u001b[0m\u001b[0;34m.\u001b[0m\u001b[0m__traceback__\u001b[0m\u001b[0;34m)\u001b[0m\u001b[0;34m\u001b[0m\u001b[0;34m\u001b[0m\u001b[0m\n",
            "\u001b[0;32m/usr/local/lib/python3.10/dist-packages/tensorflow/python/eager/polymorphic_function/polymorphic_function.py\u001b[0m in \u001b[0;36m__call__\u001b[0;34m(self, *args, **kwds)\u001b[0m\n\u001b[1;32m    892\u001b[0m \u001b[0;34m\u001b[0m\u001b[0m\n\u001b[1;32m    893\u001b[0m       \u001b[0;32mwith\u001b[0m \u001b[0mOptionalXlaContext\u001b[0m\u001b[0;34m(\u001b[0m\u001b[0mself\u001b[0m\u001b[0;34m.\u001b[0m\u001b[0m_jit_compile\u001b[0m\u001b[0;34m)\u001b[0m\u001b[0;34m:\u001b[0m\u001b[0;34m\u001b[0m\u001b[0;34m\u001b[0m\u001b[0m\n\u001b[0;32m--> 894\u001b[0;31m         \u001b[0mresult\u001b[0m \u001b[0;34m=\u001b[0m \u001b[0mself\u001b[0m\u001b[0;34m.\u001b[0m\u001b[0m_call\u001b[0m\u001b[0;34m(\u001b[0m\u001b[0;34m*\u001b[0m\u001b[0margs\u001b[0m\u001b[0;34m,\u001b[0m \u001b[0;34m**\u001b[0m\u001b[0mkwds\u001b[0m\u001b[0;34m)\u001b[0m\u001b[0;34m\u001b[0m\u001b[0;34m\u001b[0m\u001b[0m\n\u001b[0m\u001b[1;32m    895\u001b[0m \u001b[0;34m\u001b[0m\u001b[0m\n\u001b[1;32m    896\u001b[0m       \u001b[0mnew_tracing_count\u001b[0m \u001b[0;34m=\u001b[0m \u001b[0mself\u001b[0m\u001b[0;34m.\u001b[0m\u001b[0mexperimental_get_tracing_count\u001b[0m\u001b[0;34m(\u001b[0m\u001b[0;34m)\u001b[0m\u001b[0;34m\u001b[0m\u001b[0;34m\u001b[0m\u001b[0m\n",
            "\u001b[0;32m/usr/local/lib/python3.10/dist-packages/tensorflow/python/eager/polymorphic_function/polymorphic_function.py\u001b[0m in \u001b[0;36m_call\u001b[0;34m(self, *args, **kwds)\u001b[0m\n\u001b[1;32m    924\u001b[0m       \u001b[0;31m# In this case we have created variables on the first call, so we run the\u001b[0m\u001b[0;34m\u001b[0m\u001b[0;34m\u001b[0m\u001b[0m\n\u001b[1;32m    925\u001b[0m       \u001b[0;31m# defunned version which is guaranteed to never create variables.\u001b[0m\u001b[0;34m\u001b[0m\u001b[0;34m\u001b[0m\u001b[0m\n\u001b[0;32m--> 926\u001b[0;31m       \u001b[0;32mreturn\u001b[0m \u001b[0mself\u001b[0m\u001b[0;34m.\u001b[0m\u001b[0m_no_variable_creation_fn\u001b[0m\u001b[0;34m(\u001b[0m\u001b[0;34m*\u001b[0m\u001b[0margs\u001b[0m\u001b[0;34m,\u001b[0m \u001b[0;34m**\u001b[0m\u001b[0mkwds\u001b[0m\u001b[0;34m)\u001b[0m  \u001b[0;31m# pylint: disable=not-callable\u001b[0m\u001b[0;34m\u001b[0m\u001b[0;34m\u001b[0m\u001b[0m\n\u001b[0m\u001b[1;32m    927\u001b[0m     \u001b[0;32melif\u001b[0m \u001b[0mself\u001b[0m\u001b[0;34m.\u001b[0m\u001b[0m_variable_creation_fn\u001b[0m \u001b[0;32mis\u001b[0m \u001b[0;32mnot\u001b[0m \u001b[0;32mNone\u001b[0m\u001b[0;34m:\u001b[0m\u001b[0;34m\u001b[0m\u001b[0;34m\u001b[0m\u001b[0m\n\u001b[1;32m    928\u001b[0m       \u001b[0;31m# Release the lock early so that multiple threads can perform the call\u001b[0m\u001b[0;34m\u001b[0m\u001b[0;34m\u001b[0m\u001b[0m\n",
            "\u001b[0;32m/usr/local/lib/python3.10/dist-packages/tensorflow/python/eager/polymorphic_function/tracing_compiler.py\u001b[0m in \u001b[0;36m__call__\u001b[0;34m(self, *args, **kwargs)\u001b[0m\n\u001b[1;32m    141\u001b[0m       (concrete_function,\n\u001b[1;32m    142\u001b[0m        filtered_flat_args) = self._maybe_define_function(args, kwargs)\n\u001b[0;32m--> 143\u001b[0;31m     return concrete_function._call_flat(\n\u001b[0m\u001b[1;32m    144\u001b[0m         filtered_flat_args, captured_inputs=concrete_function.captured_inputs)  # pylint: disable=protected-access\n\u001b[1;32m    145\u001b[0m \u001b[0;34m\u001b[0m\u001b[0m\n",
            "\u001b[0;32m/usr/local/lib/python3.10/dist-packages/tensorflow/python/eager/polymorphic_function/monomorphic_function.py\u001b[0m in \u001b[0;36m_call_flat\u001b[0;34m(self, args, captured_inputs, cancellation_manager)\u001b[0m\n\u001b[1;32m   1755\u001b[0m         and executing_eagerly):\n\u001b[1;32m   1756\u001b[0m       \u001b[0;31m# No tape is watching; skip to running the function.\u001b[0m\u001b[0;34m\u001b[0m\u001b[0;34m\u001b[0m\u001b[0m\n\u001b[0;32m-> 1757\u001b[0;31m       return self._build_call_outputs(self._inference_function.call(\n\u001b[0m\u001b[1;32m   1758\u001b[0m           ctx, args, cancellation_manager=cancellation_manager))\n\u001b[1;32m   1759\u001b[0m     forward_backward = self._select_forward_and_backward_functions(\n",
            "\u001b[0;32m/usr/local/lib/python3.10/dist-packages/tensorflow/python/eager/polymorphic_function/monomorphic_function.py\u001b[0m in \u001b[0;36mcall\u001b[0;34m(self, ctx, args, cancellation_manager)\u001b[0m\n\u001b[1;32m    379\u001b[0m       \u001b[0;32mwith\u001b[0m \u001b[0m_InterpolateFunctionError\u001b[0m\u001b[0;34m(\u001b[0m\u001b[0mself\u001b[0m\u001b[0;34m)\u001b[0m\u001b[0;34m:\u001b[0m\u001b[0;34m\u001b[0m\u001b[0;34m\u001b[0m\u001b[0m\n\u001b[1;32m    380\u001b[0m         \u001b[0;32mif\u001b[0m \u001b[0mcancellation_manager\u001b[0m \u001b[0;32mis\u001b[0m \u001b[0;32mNone\u001b[0m\u001b[0;34m:\u001b[0m\u001b[0;34m\u001b[0m\u001b[0;34m\u001b[0m\u001b[0m\n\u001b[0;32m--> 381\u001b[0;31m           outputs = execute.execute(\n\u001b[0m\u001b[1;32m    382\u001b[0m               \u001b[0mstr\u001b[0m\u001b[0;34m(\u001b[0m\u001b[0mself\u001b[0m\u001b[0;34m.\u001b[0m\u001b[0msignature\u001b[0m\u001b[0;34m.\u001b[0m\u001b[0mname\u001b[0m\u001b[0;34m)\u001b[0m\u001b[0;34m,\u001b[0m\u001b[0;34m\u001b[0m\u001b[0;34m\u001b[0m\u001b[0m\n\u001b[1;32m    383\u001b[0m               \u001b[0mnum_outputs\u001b[0m\u001b[0;34m=\u001b[0m\u001b[0mself\u001b[0m\u001b[0;34m.\u001b[0m\u001b[0m_num_outputs\u001b[0m\u001b[0;34m,\u001b[0m\u001b[0;34m\u001b[0m\u001b[0;34m\u001b[0m\u001b[0m\n",
            "\u001b[0;32m/usr/local/lib/python3.10/dist-packages/tensorflow/python/eager/execute.py\u001b[0m in \u001b[0;36mquick_execute\u001b[0;34m(op_name, num_outputs, inputs, attrs, ctx, name)\u001b[0m\n\u001b[1;32m     50\u001b[0m   \u001b[0;32mtry\u001b[0m\u001b[0;34m:\u001b[0m\u001b[0;34m\u001b[0m\u001b[0;34m\u001b[0m\u001b[0m\n\u001b[1;32m     51\u001b[0m     \u001b[0mctx\u001b[0m\u001b[0;34m.\u001b[0m\u001b[0mensure_initialized\u001b[0m\u001b[0;34m(\u001b[0m\u001b[0;34m)\u001b[0m\u001b[0;34m\u001b[0m\u001b[0;34m\u001b[0m\u001b[0m\n\u001b[0;32m---> 52\u001b[0;31m     tensors = pywrap_tfe.TFE_Py_Execute(ctx._handle, device_name, op_name,\n\u001b[0m\u001b[1;32m     53\u001b[0m                                         inputs, attrs, num_outputs)\n\u001b[1;32m     54\u001b[0m   \u001b[0;32mexcept\u001b[0m \u001b[0mcore\u001b[0m\u001b[0;34m.\u001b[0m\u001b[0m_NotOkStatusException\u001b[0m \u001b[0;32mas\u001b[0m \u001b[0me\u001b[0m\u001b[0;34m:\u001b[0m\u001b[0;34m\u001b[0m\u001b[0;34m\u001b[0m\u001b[0m\n",
            "\u001b[0;31mKeyboardInterrupt\u001b[0m: "
          ]
        }
      ]
    },
    {
      "cell_type": "markdown",
      "source": [
        "Foi decidido fazer um checkpoint com a classe ModelCheckpoint usando o menor valor de perda (com monitor='val_loss' e mode = 'min') pois observou-se que o ganho de precisão (com monitor='val_accuracy' e mode = 'max') era menor frente a mitigação de perda com os parâmetros escolhidos.\n",
        "\n"
      ],
      "metadata": {
        "id": "3LTF4GKR3vQr"
      }
    },
    {
      "cell_type": "code",
      "source": [
        "#Plotando os gráficos de accuracy e loss por epoch\n",
        "\n",
        "#Para evitar que o modelo precise ser novamente treinado aqui no collab,\n",
        "#os resultados do treinamento foram previamente salvos em um arquivo csv usando\n",
        "#o bloco de código a seguir:\n",
        "'''\n",
        "#salvando csv dos resultados do treinamento pra cada epoch\n",
        "\n",
        "epoch = [i for i in range(1,len(history.history['accuracy'])+1)]\n",
        "t=pd.DataFrame({\"accuracy\":history.history['accuracy'],\n",
        "                \"val_accuracy\":history.history['val_accuracy'],\n",
        "                \"epoch\":epoch}).to_csv(\"train_accuracy.csv\", index=False)\n",
        "\n",
        "t=pd.DataFrame({\"loss\":history.history['loss'],\n",
        "                \"val_loss\":history.history['val_loss'],\n",
        "                \"epoch\":epoch}).to_csv(\"train_loss.csv\", index=False)\n",
        "\n",
        "'''\n",
        "#Carregando os resultados do csv\n",
        "train_test_acc = pd.read_csv(r'/content/train_accuracy.csv')\n",
        "train_test_loss = pd.read_csv(r'/content/train_loss.csv')\n",
        "\n",
        "#Plot accuracy\n",
        "plt.plot(train_test_acc['accuracy'])\n",
        "plt.plot(train_test_acc['val_accuracy'])\n",
        "plt.title('Acurácia do modelo')\n",
        "plt.ylabel('accuracy')\n",
        "plt.xlabel('epoch')\n",
        "plt.legend(['train','test'],loc='lower right')\n",
        "plt.savefig('train_test_acc.pdf', format='pdf')\n",
        "plt.show()"
      ],
      "metadata": {
        "colab": {
          "base_uri": "https://localhost:8080/",
          "height": 472
        },
        "id": "4Anfw7jLHhJQ",
        "outputId": "7c274fbf-a4bb-4ad1-e9e5-efc545c6c8ca"
      },
      "execution_count": 93,
      "outputs": [
        {
          "output_type": "display_data",
          "data": {
            "text/plain": [
              "<Figure size 640x480 with 1 Axes>"
            ],
            "image/png": "[encoded data removed]"
          },
          "metadata": {}
        }
      ]
    },
    {
      "cell_type": "code",
      "source": [
        "#Plot loss\n",
        "plt.plot(train_test_loss['loss'])\n",
        "plt.plot(train_test_loss['val_loss'])\n",
        "plt.title('Loss do modelo')\n",
        "plt.ylabel('loss')\n",
        "plt.xlabel('epoch')\n",
        "plt.legend(['train','test'],loc='upper right')\n",
        "plt.savefig('train_test_loss.pdf', format='pdf')\n",
        "plt.show()"
      ],
      "metadata": {
        "colab": {
          "base_uri": "https://localhost:8080/",
          "height": 472
        },
        "id": "W7HCQADOHhD0",
        "outputId": "20808c95-e715-452e-c7b6-d7db056e846c"
      },
      "execution_count": 94,
      "outputs": [
        {
          "output_type": "display_data",
          "data": {
            "text/plain": [
              "<Figure size 640x480 with 1 Axes>"
            ],
            "image/png": "[encoded data removed]"
          },
          "metadata": {}
        }
      ]
    },
    {
      "cell_type": "code",
      "source": [
        "#Descobrindo a epoch na qual o modelo foi salvo\n",
        "train_test_loss['epoch'].iloc[train_test_loss['val_loss'].idxmin()]"
      ],
      "metadata": {
        "colab": {
          "base_uri": "https://localhost:8080/"
        },
        "id": "90IapLsiiMUE",
        "outputId": "2c64ecb3-c53a-4656-eebf-3b48163f52fc"
      },
      "execution_count": 99,
      "outputs": [
        {
          "output_type": "execute_result",
          "data": {
            "text/plain": [
              "23"
            ]
          },
          "metadata": {},
          "execution_count": 99
        }
      ]
    },
    {
      "cell_type": "code",
      "source": [
        "#Confirmando o máximo de epochs\n",
        "train_test_loss['epoch'].max()"
      ],
      "metadata": {
        "colab": {
          "base_uri": "https://localhost:8080/"
        },
        "id": "DQSZ06RPjkPX",
        "outputId": "d035f055-efd8-4ef4-fdba-f5e5676f56d3"
      },
      "execution_count": 100,
      "outputs": [
        {
          "output_type": "execute_result",
          "data": {
            "text/plain": [
              "28"
            ]
          },
          "metadata": {},
          "execution_count": 100
        }
      ]
    },
    {
      "cell_type": "markdown",
      "source": [
        "O modelo parou antes de executar todas as 50 epochs, como pode ser observado acima, o melhor modelo foi salvo na epoch 23 e o treinamento foi executado até a epoch 28, devido ao parametro \"patience=5\" na classe EarlyStopping."
      ],
      "metadata": {
        "id": "zl6D0ZMNiK8X"
      }
    },
    {
      "cell_type": "markdown",
      "source": [
        "Com o callback ModelCheckpoint, o melhor modelo foi salvo com o nome \"best_model.hdf5\". Vou prosseguir com esse modelo salvo carregando ele pra checar as métricas do mesmo."
      ],
      "metadata": {
        "id": "RPdAhfkkL2r5"
      }
    },
    {
      "cell_type": "code",
      "source": [
        "\n",
        "model_input_path = r\"/content\"\n",
        "model_name =r\"best_model.hdf5\"\n",
        "#\n",
        "# model.save(os.path.join(model_input_path,model_name))\n",
        "\n",
        "#carregar o modelo\n",
        "loaded_model = keras.models.load_model(os.path.join(model_input_path,model_name))\n",
        "\n"
      ],
      "metadata": {
        "id": "y0wsuQufHhA2"
      },
      "execution_count": null,
      "outputs": []
    },
    {
      "cell_type": "code",
      "source": [
        "#Utilizando o modelo para fazer as predições\n",
        "y_true = []\n",
        "y_pred = []\n",
        "\n",
        "cont = 0\n",
        "for i in test['images']:\n",
        "  cont+=1\n",
        "  if cont > 5:\n",
        "    break\n",
        "  else:\n",
        "    label = i.split(sep=\" \")[0].capitalize()\n",
        "    y_true.append(label)\n",
        "\n",
        "    img_path = os.path.join(all_images,i)\n",
        "    # display(Image(filename=img_path,width=250))\n",
        "    img = load_img(img_path,target_size=(250,250))\n",
        "    x = img_to_array(img)\n",
        "    x = np.expand_dims(x,axis=0)\n",
        "    x = x.astype('float32')/255.0\n",
        "\n",
        "    #Previsão\n",
        "    prediction = loaded_model.predict(x)\n",
        "\n",
        "    #printando as saídas do modelo\n",
        "    predicted_class = np.argmax(prediction[0])\n",
        "    probability = prediction[0][predicted_class]\n",
        "    y_pred.append(classes[predicted_class])\n",
        "    print(f\"Label: {label}\")\n",
        "    print(f\"Previsão: {classes[predicted_class]}\")\n",
        "    print(f\"Probabilidade: {probability:.2%}\")\n",
        "    print('\\n')\n"
      ],
      "metadata": {
        "id": "b9u2kw4BHgjo"
      },
      "execution_count": null,
      "outputs": []
    },
    {
      "cell_type": "code",
      "source": [
        "np.argmax(prediction[0])\n",
        "classes\n",
        ""
      ],
      "metadata": {
        "id": "7cv0QPdIKbRb"
      },
      "execution_count": null,
      "outputs": []
    },
    {
      "cell_type": "code",
      "source": [
        "#para agilizar a predição do modelo para todas as imagens teste, a célula acima\n",
        "#foi rodada sem o contador e os resultados gerados foram salvos localmente em um\n",
        "#csv gerado pelo código a seguir:\n",
        "'''\n",
        "df_real_pred = pd.DataFrame({'real':y_true,'predito':y_pred}).to_csv('real_pred.csv', index=False)\n",
        "'''\n",
        "#Lendo o csv com os resultados da predição\n",
        "real_pred=pd.read_csv('/content/real_pred.csv')\n",
        "\n",
        "y_true = real_pred['real']\n",
        "y_pred = real_pred['predito']\n",
        "\n"
      ],
      "metadata": {
        "id": "rTdPheDeONQH"
      },
      "execution_count": null,
      "outputs": []
    },
    {
      "cell_type": "code",
      "source": [
        "#avaliando métricas gerais do modelo\n",
        "accuracy = skm.accuracy_score(y_true,y_pred)\n",
        "precision = skm.precision_score(y_true,y_pred,average='weighted')\n",
        "recall = skm.recall_score(y_true,y_pred,average='weighted')\n",
        "f1score = skm.f1_score(y_true,y_pred,average='weighted')\n",
        "print(f\"Accuracy: {accuracy:.2%}\")\n",
        "print(f\"Precision: {precision:.2%}\")\n",
        "print(f\"Recall: {recall:.2%}\")\n",
        "print(f\"F1 score: {f1score:.2%}\")"
      ],
      "metadata": {
        "id": "OR8JJE5nOD-U"
      },
      "execution_count": null,
      "outputs": []
    },
    {
      "cell_type": "code",
      "source": [
        "cnf_matrix = confusion_matrix(y_true,y_pred,labels=classes)\n",
        "np.set_printoptions(precision=2)\n",
        "plt.figure()\n",
        "plot_confusion_matrix(cnf_matrix,\n",
        "                      classes=classes,\n",
        "                      normalize=False,\n",
        "                      title=\"Matriz de confusão\")\n",
        "plt.show()\n",
        "plt.savefig('confusion_matrix.pdf', format='pdf')"
      ],
      "metadata": {
        "id": "hoTs8tkCN6vj"
      },
      "execution_count": null,
      "outputs": []
    },
    {
      "cell_type": "code",
      "source": [
        "#Utilizando o método classification_report pra verificar as métricas pra cada categoria\n",
        "classification_report(y_true,y_pred,labels=classes,output_dict=True)"
      ],
      "metadata": {
        "id": "i1Zw8Vx5LkRe"
      },
      "execution_count": null,
      "outputs": []
    },
    {
      "cell_type": "markdown",
      "source": [
        "**Discussão dos resultados**\n",
        "\n",
        "Durante o treinamento, foi percebido que ganho de precisão era menor frente a mitigação de perda com os parâmetros escolhidos a medida que as epochs progrediam. Dessa forma, como o loss não ia diminuindo além de um mínimo previamente alcançado, o treinamento do modelo foi interrompido antes de todas as epochs de modo antecipado, evitando possíveis problemas como overfitting ou perda do melhor modelo ao fim do treinamento.\n",
        "\n",
        "O modelo de CNN proposto é bem adequado para o problema em questão, não havendo indícios de overfitting, possuindo boa precisão, revocação e outras métricas superiores à uma média de 97.7%.\n",
        "\n",
        "\n",
        "Esses bons resultados advém não só da rede neural, mas também da boa qualidade e equilíbrio entre os dados de entrada.\n"
      ],
      "metadata": {
        "id": "8P6ITv-AM3LV"
      }
    }
  ]
}