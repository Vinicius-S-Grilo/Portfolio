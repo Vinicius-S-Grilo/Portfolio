{
  "nbformat": 4,
  "nbformat_minor": 0,
  "metadata": {
    "colab": {
      "provenance": [],
      "authorship_tag": "ABX9TyPuK4AbkBPy+O3O+FedJ+Dg",
      "include_colab_link": true
    },
    "kernelspec": {
      "name": "python3",
      "display_name": "Python 3"
    },
    "language_info": {
      "name": "python"
    }
  },
  "cells": [
    {
      "cell_type": "markdown",
      "metadata": {
        "id": "view-in-github",
        "colab_type": "text"
      },
      "source": [
        "<a href=\"https://colab.research.google.com/github/Vinicius-S-Grilo/Portfolio/blob/main/MVP.ipynb\" target=\"_parent\"><img src=\"https://colab.research.google.com/assets/colab-badge.svg\" alt=\"Open In Colab\"/></a>"
      ]
    },
    {
      "cell_type": "markdown",
      "source": [
        "# **A - Machine Learning**"
      ],
      "metadata": {
        "id": "NKD8lPEwsYaG"
      }
    },
    {
      "cell_type": "markdown",
      "source": [
        "**Definição do problema**\n",
        "\n",
        "O dataset escolhido aborda um problema de classificação. Trata-se de uma instituição de ensino superior que deseja avaliar se um aluno irá concluir ou desistir do curso baseado em uma série de atributos como curso, performace academica, fatores socio-econômicos entre outros.\n",
        "\n",
        "mais informações a respeito do dataset pode ser encontrada em https://archive.ics.uci.edu/dataset/697/predict+students+dropout+and+academic+success\n",
        "\n",
        "Há três categorias possíveis: *dropout*, *enrolled* e *graduate*\n",
        "\n",
        "O dataset já foi previamente preprocessado para remoção de missing values e outliers."
      ],
      "metadata": {
        "id": "J93X1Edfr9s1"
      }
    },
    {
      "cell_type": "code",
      "execution_count": 2,
      "metadata": {
        "id": "3_Hp84F0r9CX"
      },
      "outputs": [],
      "source": [
        "#importando as bibliotecas a serem utilizadas\n",
        "import warnings\n",
        "warnings.filterwarnings(\"ignore\")\n",
        "import pandas as pd\n",
        "import requests\n",
        "from bs4 import BeautifulSoup\n",
        "import numpy as np\n",
        "import matplotlib.pyplot as plt\n",
        "from sklearn.model_selection import train_test_split\n",
        "from sklearn.model_selection import KFold\n",
        "from sklearn.model_selection import cross_val_score\n",
        "from sklearn.neighbors import KNeighborsClassifier\n",
        "from sklearn.linear_model import LogisticRegression\n",
        "from sklearn.tree import DecisionTreeClassifier\n",
        "from sklearn.naive_bayes import GaussianNB\n",
        "from sklearn.svm import SVC\n",
        "from sklearn.feature_selection import SelectKBest\n",
        "from sklearn.feature_selection import f_classif\n",
        "from sklearn.feature_selection import RFE\n",
        "from sklearn.ensemble import ExtraTreesClassifier\n",
        "from sklearn.model_selection import GridSearchCV\n",
        "from sklearn.metrics import accuracy_score"
      ]
    },
    {
      "cell_type": "markdown",
      "source": [
        "**Preparação dos dados**\n",
        "\n",
        "Como os dados já vieram pre processados, não há necessidade de utilizar técnicas de pre processamento para tratamento de missing values ou remoção de outliers.\n",
        "\n",
        "Nesta etapa, será feito o carregamento do dataset, separação entre treino/teste, parametrização pra validação cruzada, criação e comparação dos modelos."
      ],
      "metadata": {
        "id": "BBAyGC8CvjqV"
      }
    },
    {
      "cell_type": "code",
      "source": [
        "#Carregando o dataset\n",
        "dataset = pd.read_csv(r\"/content/MVP/ML/data.csv\", sep=';')"
      ],
      "metadata": {
        "id": "DgdRUmErvjWe"
      },
      "execution_count": 6,
      "outputs": []
    },
    {
      "cell_type": "code",
      "source": [
        "#Tratando os dados para treinamento do modelo\n",
        "#separação dos atributos e da categoria\n",
        "X = np.array(dataset.iloc[:,:-1].copy())\n",
        "y = np.array(dataset.iloc[:,-1].copy())\n",
        "\n",
        "#separação teste/treino\n",
        "X_train, X_test, y_train, y_test = train_test_split(X,y, test_size=0.2, random_state=10)\n",
        "\n",
        "#Parâmetros para validação cruzada\n",
        "n_part = 10\n",
        "kfold = KFold(n_splits=n_part,shuffle=True, random_state=10)\n",
        "\n",
        "#Criação e preparação dos modelos e seus resultados\n",
        "models = []\n",
        "results = []\n",
        "names = []\n",
        "\n",
        "models.append((\"KNN\",KNeighborsClassifier()))\n",
        "models.append(('LR', LogisticRegression(max_iter=200)))\n",
        "models.append((\"CART\",DecisionTreeClassifier()))\n",
        "models.append((\"NB\",GaussianNB()))\n",
        "models.append((\"SVC\",SVC()))\n",
        "\n",
        "for name,model in models:\n",
        "    cv_results = cross_val_score(model,X_train,y_train,cv=kfold,scoring='accuracy')\n",
        "    results.append(cv_results)\n",
        "    names.append(name)\n",
        "    msg = f\"{name}: {cv_results.mean()} ({cv_results.std()})\"\n",
        "    print(msg)\n"
      ],
      "metadata": {
        "colab": {
          "base_uri": "https://localhost:8080/"
        },
        "id": "HxhD0sVKr-q8",
        "outputId": "27a361bd-c68c-41a7-af9f-27bf3e49d268"
      },
      "execution_count": 10,
      "outputs": [
        {
          "output_type": "stream",
          "name": "stdout",
          "text": [
            "KNN: 0.5936788783790271 (0.027958817701309913)\n",
            "LR: 0.6953793953361822 (0.025023645819575304)\n",
            "CART: 0.6795665882428257 (0.013652455618592196)\n",
            "NB: 0.6869056193082697 (0.029678089117343605)\n",
            "SVC: 0.5035194699188554 (0.02250900968881935)\n"
          ]
        }
      ]
    },
    {
      "cell_type": "code",
      "source": [
        "#Boxplot para comparar a precisão dos modelos\n",
        "fig = plt.figure()\n",
        "fig.suptitle('Comparação dos Modelos')\n",
        "ax = fig.add_subplot(111)\n",
        "plt.boxplot(results)\n",
        "ax.set_xticklabels(names)\n",
        "plt.show()"
      ],
      "metadata": {
        "colab": {
          "base_uri": "https://localhost:8080/",
          "height": 478
        },
        "id": "Ki7RXlTnvjTO",
        "outputId": "7f746f74-87f0-4c01-f055-dda5530b7559"
      },
      "execution_count": 11,
      "outputs": [
        {
          "output_type": "display_data",
          "data": {
            "text/plain": [
              "<Figure size 640x480 with 1 Axes>"
            ],
            "image/png": "[encoded data removed]"
          },
          "metadata": {}
        }
      ]
    },
    {
      "cell_type": "markdown",
      "source": [
        "Com base no plot acima, é possível perceber que o modelo com maior precisão é o de Regressão Logística (LR), seguido do Naive Bayes e da Árvore de Decisão. Como não há diferença estatística significativa entre os três modelos, vou seguir com eles para testar uma abordagem de feature selection e avaliar se a precisão dos modelos melhora."
      ],
      "metadata": {
        "id": "hLgr2SjfWOWT"
      }
    },
    {
      "cell_type": "code",
      "source": [
        "#Testando a precisão dos modelos com o dado teste\n",
        "\n",
        "for i in models:\n",
        "  if i[0] in [\"NB\",\"CART\",\"LR\"]:\n",
        "    model = i[1]\n",
        "    model.fit(X_train,y_train)\n",
        "    predictions = model.predict(X_test)\n",
        "    print(f\"Precisão de {i[0]}: {accuracy_score(y_test,predictions):.2%} \")\n"
      ],
      "metadata": {
        "colab": {
          "base_uri": "https://localhost:8080/"
        },
        "id": "j9kHz_XVvjZr",
        "outputId": "63a552cc-f018-4a6c-bf36-87f47527e392"
      },
      "execution_count": 13,
      "outputs": [
        {
          "output_type": "stream",
          "name": "stdout",
          "text": [
            "Precisão de LR: 66.89% \n",
            "Precisão de CART: 68.14% \n",
            "Precisão de NB: 64.29% \n"
          ]
        }
      ]
    },
    {
      "cell_type": "code",
      "source": [
        "#Testando feature selection pra otimizar modelo\n",
        "#números de features a serem escolhidos\n",
        "n = 10\n",
        "\n",
        "print(\"Atributos Originais:\\n\", dataset.columns[0:36])\n",
        "print(\"\\n\\n##Iniciando os testes com feature selection##\\n\\n\")\n",
        "\n",
        "#teste ANOVA de Seleção Univariada\n",
        "best_var = SelectKBest(score_func=f_classif, k=n)\n",
        "\n",
        "fit = best_var.fit(X,y)\n",
        "\n",
        "features=fit.transform(X)\n",
        "\n",
        "#Print dos resultados\n",
        "print(\"Resultados do ANOVA - seleção univariada\\n\")\n",
        "print(f\"Atributos originais: {X.shape[1]}\")\n",
        "print(f\"Atributos reduzidos: {features.shape[1]}\")\n",
        "\n",
        "print(\"Scores dos Atributos Originais:\", fit.scores_)\n",
        "print(\"\\nAtributos Selecionados:\", best_var.get_feature_names_out(input_features=dataset.columns[0:36]))\n",
        "\n",
        "red_features_f = best_var.get_feature_names_out(input_features=dataset.columns[0:36])\n",
        "\n",
        "\n",
        "# Eliminação Recursiva de Atributos\n",
        "\n",
        "# Criação do modelo\n",
        "modelo = LogisticRegression(max_iter=200)\n",
        "\n",
        "# Eliminação Recursiva de Atributos\n",
        "rfe = RFE(modelo, n_features_to_select=n)\n",
        "fit = rfe.fit(X, y)\n",
        "\n",
        "# Print dos resultados\n",
        "\n",
        "print(\"\\nResultados da Eliminação recursiva de atributos\\n\")\n",
        "\n",
        "\n",
        "# Exibe os atributos selecionados (marcados como True em \"Atributos Selecionados\"\n",
        "# e com valor 1 em \"Ranking dos Atributos\")\n",
        "print(\"\\nAtributos Selecionados: %s\" % fit.support_)\n",
        "print(\"\\nRanking de atributos: %s\" % fit.ranking_)\n",
        "print(\"\\nQtd de melhores Atributos: %d\" % fit.n_features_)\n",
        "print(\"\\nNomes dos Atributos Selecionados: %s\" % fit.get_feature_names_out(input_features=dataset.columns[0:36]))\n",
        "red_features_RFE = fit.get_feature_names_out(input_features=dataset.columns[0:36])\n",
        "\n",
        "# Importância de Atributos com ExtraTrees\n",
        "# Criação do modelo para seleção de atributos\n",
        "modelo = ExtraTreesClassifier(n_estimators=100)\n",
        "modelo.fit(X,y)\n",
        "\n",
        "\n",
        "# Exibe a pontuação de importância para cada atributo (quanto maior a pontuação, mais importante é o atributo).\n",
        "print(\"\\nResultados da Importância de atributos com ExtraTrees\\n\")\n",
        "print(modelo.feature_importances_)\n",
        "ipt=modelo.feature_importances_\n",
        "red_features_ExT = dataset.columns[0:36][ipt.argsort()[-n:]]\n",
        "\n",
        "\n",
        "\n",
        "\n",
        "\n",
        "\n",
        "\n",
        ""
      ],
      "metadata": {
        "colab": {
          "base_uri": "https://localhost:8080/"
        },
        "id": "5hQYY4foZD7l",
        "outputId": "17788c46-eb00-45ed-dfea-4743ddadb45d"
      },
      "execution_count": 15,
      "outputs": [
        {
          "output_type": "stream",
          "name": "stdout",
          "text": [
            "Atributos Originais: Index(['Marital status', 'Application mode', 'Application order', 'Course',\n",
            "       'Daytime/evening attendance\\t', 'Previous qualification',\n",
            "       'Previous qualification (grade)', 'Nacionality',\n",
            "       'Mother's qualification', 'Father's qualification',\n",
            "       'Mother's occupation', 'Father's occupation', 'Admission grade',\n",
            "       'Displaced', 'Educational special needs', 'Debtor',\n",
            "       'Tuition fees up to date', 'Gender', 'Scholarship holder',\n",
            "       'Age at enrollment', 'International',\n",
            "       'Curricular units 1st sem (credited)',\n",
            "       'Curricular units 1st sem (enrolled)',\n",
            "       'Curricular units 1st sem (evaluations)',\n",
            "       'Curricular units 1st sem (approved)',\n",
            "       'Curricular units 1st sem (grade)',\n",
            "       'Curricular units 1st sem (without evaluations)',\n",
            "       'Curricular units 2nd sem (credited)',\n",
            "       'Curricular units 2nd sem (enrolled)',\n",
            "       'Curricular units 2nd sem (evaluations)',\n",
            "       'Curricular units 2nd sem (approved)',\n",
            "       'Curricular units 2nd sem (grade)',\n",
            "       'Curricular units 2nd sem (without evaluations)', 'Unemployment rate',\n",
            "       'Inflation rate', 'GDP'],\n",
            "      dtype='object')\n",
            "\n",
            "\n",
            "##Iniciando os testes com feature selection##\n",
            "\n",
            "\n",
            "Resultados do ANOVA - seleção univariada\n",
            "\n",
            "Atributos originais: 36\n",
            "Atributos reduzidos: 10\n",
            "Scores dos Atributos Originais: [1.98322547e+01 1.14534956e+02 1.97271735e+01 2.67098420e+00\n",
            " 1.44541234e+01 7.00452632e+00 2.77285887e+01 8.36236161e-01\n",
            " 1.28227118e+01 3.83846897e+00 9.83835323e+00 8.96760754e+00\n",
            " 3.56486043e+01 2.92392262e+01 3.20854067e-01 1.37647527e+02\n",
            " 5.05621429e+02 1.23041811e+02 2.25751437e+02 1.54712071e+02\n",
            " 6.39709437e-01 7.97935543e+00 5.94673906e+01 3.75278398e+01\n",
            " 8.59866768e+02 7.13517328e+02 1.14373188e+01 9.97454175e+00\n",
            " 7.55919097e+01 8.78010921e+01 1.41073294e+03 1.13410954e+03\n",
            " 2.01855306e+01 5.92251334e+00 1.74198979e+00 4.79900900e+00]\n",
            "\n",
            "Atributos Selecionados: ['Application mode' 'Debtor' 'Tuition fees up to date' 'Gender'\n",
            " 'Scholarship holder' 'Age at enrollment'\n",
            " 'Curricular units 1st sem (approved)' 'Curricular units 1st sem (grade)'\n",
            " 'Curricular units 2nd sem (approved)' 'Curricular units 2nd sem (grade)']\n",
            "\n",
            "Resultados da Eliminação recursiva de atributos\n",
            "\n",
            "\n",
            "Atributos Selecionados: [False False False False False False False False False False False False\n",
            " False False False  True  True  True  True False False False  True False\n",
            "  True False  True  True  True False  True False False False False False]\n",
            "\n",
            "Ranking de atributos: [ 4 19  9 25 14 16 24 21 17 22 18 20 23  6 27  1  1  1  1 11 26  5  1 12\n",
            "  1  8  1  1  1  3  1  7  2 10 13 15]\n",
            "\n",
            "Qtd de melhores Atributos: 10\n",
            "\n",
            "Nomes dos Atributos Selecionados: ['Debtor' 'Tuition fees up to date' 'Gender' 'Scholarship holder'\n",
            " 'Curricular units 1st sem (enrolled)'\n",
            " 'Curricular units 1st sem (approved)'\n",
            " 'Curricular units 1st sem (without evaluations)'\n",
            " 'Curricular units 2nd sem (credited)'\n",
            " 'Curricular units 2nd sem (enrolled)'\n",
            " 'Curricular units 2nd sem (approved)']\n",
            "[0.00640615 0.02532027 0.018091   0.03351071 0.0060155  0.00859969\n",
            " 0.02832472 0.00305002 0.02448895 0.02377818 0.0260376  0.02628151\n",
            " 0.02870215 0.01488788 0.00231457 0.01820502 0.05819101 0.01796225\n",
            " 0.02805148 0.02946004 0.00268721 0.00848971 0.02086348 0.03197931\n",
            " 0.06468641 0.06423585 0.00844028 0.00705027 0.02354101 0.03770826\n",
            " 0.12657568 0.09746089 0.00807786 0.02364102 0.02319713 0.02368692]\n"
          ]
        }
      ]
    },
    {
      "cell_type": "code",
      "source": [
        "#Mostrando os top 10 atributos selcionados de acordo com as técnicas de feature selection\n",
        "print(\"ANOVA - \")"
      ],
      "metadata": {
        "id": "av2q3Vo3ZDkI"
      },
      "execution_count": null,
      "outputs": []
    },
    {
      "cell_type": "code",
      "source": [],
      "metadata": {
        "id": "mV7Hu7sDkqUf"
      },
      "execution_count": null,
      "outputs": []
    },
    {
      "cell_type": "code",
      "source": [],
      "metadata": {
        "id": "nsoS3G7Pkqas"
      },
      "execution_count": null,
      "outputs": []
    },
    {
      "cell_type": "code",
      "source": [],
      "metadata": {
        "id": "r1iDSc9SkqeB"
      },
      "execution_count": null,
      "outputs": []
    },
    {
      "cell_type": "code",
      "source": [],
      "metadata": {
        "id": "cUVQezfQkqff"
      },
      "execution_count": null,
      "outputs": []
    },
    {
      "cell_type": "markdown",
      "source": [],
      "metadata": {
        "id": "7iprgK4_vkTk"
      }
    },
    {
      "cell_type": "markdown",
      "source": [],
      "metadata": {
        "id": "26Dnd-jrvkV4"
      }
    }
  ]
}